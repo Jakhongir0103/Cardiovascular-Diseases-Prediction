{
 "cells": [
  {
   "cell_type": "code",
   "execution_count": 1,
   "id": "initial_id",
   "metadata": {
    "ExecuteTime": {
     "end_time": "2023-10-23T17:51:29.908568700Z",
     "start_time": "2023-10-23T17:49:48.321167500Z"
    },
    "tags": []
   },
   "outputs": [],
   "source": [
    "import matplotlib.pyplot as plt\n",
    "\n",
    "# LOAD DATASET\n",
    "from util.data_loader import load_dataset\n",
    "x_train, y_train, x_test, feature_names = load_dataset(\n",
    "    path_x_train=\"./../course/projects/project1/data/dataset/x_train.csv\",\n",
    "    path_y_train=\"./../course/projects/project1/data/dataset/y_train.csv\",\n",
    "    path_x_test=\"./../course/projects/project1/data/dataset/x_test.csv\"\n",
    ")"
   ]
  },
  {
   "cell_type": "code",
   "execution_count": 2,
   "id": "e689f404263de818",
   "metadata": {
    "ExecuteTime": {
     "end_time": "2023-10-23T17:55:52.944260200Z",
     "start_time": "2023-10-23T17:55:52.578060700Z"
    },
    "collapsed": false,
    "jupyter": {
     "outputs_hidden": false
    },
    "tags": []
   },
   "outputs": [
    {
     "name": "stdout",
     "output_type": "stream",
     "text": [
      "Kept 76 features: dict_keys(['GENHLTH', 'PHYSHLTH', 'MENTHLTH', 'POORHLTH', 'PERSDOC2', 'MEDCOST', 'CHECKUP1', '_HCVU651', '_CHOLCHK', '_RFCHOL', 'CVDSTRK3', '_ASTHMS1', 'CHCSCNCR', 'CHCOCNCR', 'CHCCOPD1', '_DRDXAR1', 'ADDEPEV2', 'CHCKIDNY', 'DIABETE3', 'DIABAGE2', 'SEX', '_AGE80', 'MARITAL', '_CHLDCNT', '_EDUCAG', '_INCOMG', 'PREGNANT', 'QLACTLM2', 'USEEQUIP', 'DECIDE', 'DIFFWALK', 'DIFFDRES', 'DIFFALON', 'HTM4', 'WTKG3', '_BMI5', '_SMOKER3', 'USENOW3', 'DRNKANY5', 'DROCDY3_', '_RFBING5', '_DRNKWEK', '_RFDRHV5', 'FTJUDA1_', 'FRUTDA1_', 'BEANDAY_', 'GRENDAY_', 'ORNGDAY_', 'VEGEDA1_', '_FRUTSUM', '_VEGESUM', '_FRTLT1', '_VEGLT1', '_TOTINDA', 'METVL11_', 'METVL21_', 'MAXVO2_', 'ACTIN11_', 'ACTIN21_', 'PADUR1_', 'PADUR2_', 'PAFREQ1_', 'PAFREQ2_', '_MINAC11', '_MINAC21', 'STRFREQ_', 'PA1MIN_', 'PAVIG11_', 'PAVIG21_', 'PA1VIGM_', '_PACAT1', '_PAINDX1', '_PA150R2', '_PA300R2', '_PA30021', '_PASTRNG'])\n",
      "Kept 76 features: dict_keys(['GENHLTH', 'PHYSHLTH', 'MENTHLTH', 'POORHLTH', 'PERSDOC2', 'MEDCOST', 'CHECKUP1', '_HCVU651', '_CHOLCHK', '_RFCHOL', 'CVDSTRK3', '_ASTHMS1', 'CHCSCNCR', 'CHCOCNCR', 'CHCCOPD1', '_DRDXAR1', 'ADDEPEV2', 'CHCKIDNY', 'DIABETE3', 'DIABAGE2', 'SEX', '_AGE80', 'MARITAL', '_CHLDCNT', '_EDUCAG', '_INCOMG', 'PREGNANT', 'QLACTLM2', 'USEEQUIP', 'DECIDE', 'DIFFWALK', 'DIFFDRES', 'DIFFALON', 'HTM4', 'WTKG3', '_BMI5', '_SMOKER3', 'USENOW3', 'DRNKANY5', 'DROCDY3_', '_RFBING5', '_DRNKWEK', '_RFDRHV5', 'FTJUDA1_', 'FRUTDA1_', 'BEANDAY_', 'GRENDAY_', 'ORNGDAY_', 'VEGEDA1_', '_FRUTSUM', '_VEGESUM', '_FRTLT1', '_VEGLT1', '_TOTINDA', 'METVL11_', 'METVL21_', 'MAXVO2_', 'ACTIN11_', 'ACTIN21_', 'PADUR1_', 'PADUR2_', 'PAFREQ1_', 'PAFREQ2_', '_MINAC11', '_MINAC21', 'STRFREQ_', 'PA1MIN_', 'PAVIG11_', 'PAVIG21_', 'PA1VIGM_', '_PACAT1', '_PAINDX1', '_PA150R2', '_PA300R2', '_PA30021', '_PASTRNG'])\n"
     ]
    }
   ],
   "source": [
    "# REMOVE USELESS FEATURES\n",
    "from util.features_info import FEATURES_DICT\n",
    "from util.features_util import keep_features\n",
    "feature_indexes = dict(zip(feature_names, range(len(feature_names))))\n",
    "x_clean, clean_features, clean_feature_index = keep_features(x_train, FEATURES_DICT.keys(), feature_names, feature_indexes)\n",
    "\n",
    "x_test_clean, clean_features, clean_feature_index = keep_features(x_test, FEATURES_DICT.keys(), feature_names, feature_indexes)"
   ]
  },
  {
   "cell_type": "code",
   "execution_count": 3,
   "id": "27a66579f5168c5e",
   "metadata": {
    "ExecuteTime": {
     "end_time": "2023-10-23T17:56:17.192723700Z",
     "start_time": "2023-10-23T17:56:03.104818Z"
    },
    "collapsed": false,
    "jupyter": {
     "outputs_hidden": false
    },
    "tags": []
   },
   "outputs": [
    {
     "name": "stderr",
     "output_type": "stream",
     "text": [
      "C:\\Users\\jsayd\\anaconda3\\envs\\ml\\lib\\site-packages\\numpy\\lib\\function_base.py:2455: RuntimeWarning: invalid value encountered in <lambda> (vectorized)\n",
      "  outputs = ufunc(*inputs)\n"
     ]
    }
   ],
   "source": [
    "# PREPROCESS KEPT FEATURES\n",
    "import numpy as np\n",
    "from util.features_info import REPLACEMENT_LIST\n",
    "from util.preprocessing import preprocessing_pipeline\n",
    "x_preprocessed = preprocessing_pipeline(x_clean, \n",
    "                                        where=clean_features, \n",
    "                                        feature_index=clean_feature_index,\n",
    "                                        nan_replacement=REPLACEMENT_LIST)\n",
    "\n",
    "# x_test_preprocessed = preprocessing_pipeline(x_test_clean, \n",
    "#                                              where=clean_features, \n",
    "#                                              feature_index=clean_feature_index, \n",
    "#                                              nan_replacement=REPLACEMENT_LIST)"
   ]
  },
  {
   "cell_type": "code",
   "execution_count": 4,
   "id": "78216bae25f9daf1",
   "metadata": {
    "ExecuteTime": {
     "end_time": "2023-10-23T17:56:18.982788700Z",
     "start_time": "2023-10-23T17:56:18.832764400Z"
    },
    "collapsed": false,
    "jupyter": {
     "outputs_hidden": false
    },
    "tags": []
   },
   "outputs": [],
   "source": [
    "# Split train-validation\n",
    "from util.data_loader import split_train_validation\n",
    "(x_tr, x_va, y_tr, y_va) = split_train_validation(x_preprocessed, y_train, valid_proportion=0.2)"
   ]
  },
  {
   "cell_type": "code",
   "execution_count": 17,
   "id": "ec5c3da2192a614c",
   "metadata": {
    "ExecuteTime": {
     "end_time": "2023-10-23T18:27:45.667705900Z",
     "start_time": "2023-10-23T18:27:45.476992200Z"
    },
    "collapsed": false,
    "jupyter": {
     "outputs_hidden": false
    },
    "tags": []
   },
   "outputs": [],
   "source": [
    "# oversample training set\n",
    "from util.data_loader import custom_random_oversampling\n",
    "x_tr_oversampled, y_tr_oversampled = custom_random_oversampling(x_tr, y_tr[:,1])"
   ]
  },
  {
   "cell_type": "code",
   "execution_count": 7,
   "id": "194c8ca69524682d",
   "metadata": {
    "ExecuteTime": {
     "end_time": "2023-10-23T17:52:14.416786800Z",
     "start_time": "2023-10-23T17:52:14.400486400Z"
    },
    "collapsed": false,
    "jupyter": {
     "outputs_hidden": false
    },
    "tags": []
   },
   "outputs": [],
   "source": [
    "import numpy as np\n",
    "\n",
    "def min_max_normalize(arr: np.ndarray):\n",
    "    arr_normalized = np.empty_like(arr)\n",
    "    for column in range(arr.shape[1]):\n",
    "        arr_normalized[:, column] = (arr[:, column] - arr[:, column].min()) / (arr[:, column].max() - arr[:, column].min())\n",
    "    return arr_normalized\n",
    "\n",
    "def standardize(arr: np.ndarray):\n",
    "    mean = np.mean(arr, axis=0)\n",
    "    std = np.std(arr, axis=0)\n",
    "    arr_std = (arr - mean) / std\n",
    "    return arr_std"
   ]
  },
  {
   "cell_type": "code",
   "execution_count": 16,
   "id": "fed43ec4-9c53-46ab-a0d7-d1d70ec45e8f",
   "metadata": {
    "tags": []
   },
   "outputs": [
    {
     "data": {
      "text/plain": [
       "((262508, 76), (262508, 2), (471794, 76), (471794,))"
      ]
     },
     "execution_count": 16,
     "metadata": {},
     "output_type": "execute_result"
    }
   ],
   "source": [
    "x_tr.shape, y_tr.shape, x_tr_oversampled.shape, y_tr_oversampled.shape"
   ]
  },
  {
   "cell_type": "code",
   "execution_count": 18,
   "id": "dc504c843df38854",
   "metadata": {
    "ExecuteTime": {
     "end_time": "2023-10-23T18:27:55.028245700Z",
     "start_time": "2023-10-23T18:27:51.665531700Z"
    },
    "collapsed": false,
    "jupyter": {
     "outputs_hidden": false
    },
    "tags": []
   },
   "outputs": [],
   "source": [
    "# Normalize and add bias column for TRAINING\n",
    "x_tr_normalized = min_max_normalize(x_tr_oversampled)\n",
    "x_tr_normalized = np.append(x_tr_normalized, np.ones(shape=(x_tr_normalized.shape[0], 1)), axis=1)\n",
    "\n",
    "# Normalize and add bias column for VALIDATION\n",
    "x_va_normalized = min_max_normalize(x_va)\n",
    "x_va_normalized = np.append(x_va_normalized, np.ones(shape=(x_va_normalized.shape[0], 1)), axis=1)\n",
    "\n",
    "# # Normalize and add bias column for TEST\n",
    "# x_test_normalized = min_max_normalize(x_test)\n",
    "# x_test_normalized = np.append(x_test_normalized, np.ones(shape=(x_test_normalized.shape[0], 1)), axis=1)"
   ]
  },
  {
   "cell_type": "code",
   "execution_count": null,
   "id": "0d41ad33-618e-4b84-9e95-977b759db5fa",
   "metadata": {},
   "outputs": [],
   "source": []
  },
  {
   "cell_type": "code",
   "execution_count": null,
   "id": "4f9427f4-6f67-426b-9c62-c74901172126",
   "metadata": {},
   "outputs": [],
   "source": [
    "from util.train import reg_logistic_regression, reg_logistic_regression_hyperparameters\n",
    "\n",
    "lambdas = np.logspace(-10,0,10)\n",
    "gammas = np.logspace(-10,0,10)\n",
    "w_initials = [np.random.random(size=x_tr_normalized.shape[1]) for _ in range(5)]\n",
    "\n",
    "best_w, train_losses, valid_losses, best_lambda, best_gamma, best_initial_w = reg_logistic_regression_hyperparameters(\n",
    "    x_tr_normalized, \n",
    "    y_tr_oversampled, \n",
    "    x_va_normalized, \n",
    "    y_va[:,1], \n",
    "    lambdas, \n",
    "    gammas, \n",
    "    w_initials,\n",
    "    max_iter=2000\n",
    ")\n",
    "print('min val loss: {l} for lambda={la}, gamma={g}, w_initial={w}'.format(l=np.min(valid_losses), la=best_lambda, w=best_initial_w, g=best_gamma))"
   ]
  },
  {
   "cell_type": "code",
   "execution_count": null,
   "id": "8024b658-dcb9-4622-85ec-64dceea780f5",
   "metadata": {},
   "outputs": [],
   "source": [
    "np.unique(np.where(sigmoid(x_tr_normalized @ best_w) >= 0.5, 1, -1),return_counts=True)"
   ]
  },
  {
   "cell_type": "code",
   "execution_count": null,
   "id": "75ab2861-ab90-486e-86c6-623b4e6b82d4",
   "metadata": {},
   "outputs": [],
   "source": [
    "from implementations import sigmoid\n",
    "from util.evaluation import evaluation_summary\n",
    "x_tr_predictions = np.where(sigmoid(x_tr_normalized @ w) >= 0.5, 1, -1)\n",
    "\n",
    "evaluation_summary(y_tr_oversampled, x_tr_predictions)"
   ]
  },
  {
   "cell_type": "code",
   "execution_count": 257,
   "id": "3a066e1a-1fcb-4963-abe0-d684e5010bfe",
   "metadata": {
    "tags": []
   },
   "outputs": [
    {
     "name": "stdout",
     "output_type": "stream",
     "text": [
      "Accuracy: 63.64%\n",
      "Precision: 13.15%\n",
      "Recall: 56.56%\n",
      "F1-score: 21.33%\n"
     ]
    }
   ],
   "source": [
    "x_valid_pred = np.where(sigmoid(x_va_normalized @ best_w) >= 0.5, 1, -1)\n",
    "\n",
    "evaluation_summary(y_va[:,1], x_valid_pred)"
   ]
  },
  {
   "cell_type": "code",
   "execution_count": null,
   "id": "c4ab1fc4-5e97-4022-b7e2-e1f7525fa7ab",
   "metadata": {},
   "outputs": [],
   "source": [
    "# to plot we run the reg logistic regression with all_lossess returned\n",
    "best_w_, train_losses_, valid_losses_ = reg_logistic_regression_here(\n",
    "    x_tr_normalized, \n",
    "    y_tr_oversampled, \n",
    "    x_va_normalized, y_va[:,1], \n",
    "    lambda_= best_lambda,\n",
    "    gamma = best_gamma, \n",
    "    w=best_initial_w,\n",
    "    max_iter=5000, # before it was 2000 to save some time. But they should be same in the final implementation\n",
    "    batch_size=100,\n",
    "    all_losses=True\n",
    ")"
   ]
  },
  {
   "cell_type": "code",
   "execution_count": null,
   "id": "287e1574-93a4-4982-8689-ce8feba36975",
   "metadata": {},
   "outputs": [],
   "source": [
    "import matplotlib.pyplot as plt\n",
    "from util.plotting import loss_visualization\n",
    "plt.figure(figsize=(10, 10))\n",
    "loss_visualization(train_losses_, valid_losses_)\n",
    "plt.yscale(\"log\")"
   ]
  },
  {
   "cell_type": "code",
   "execution_count": null,
   "id": "3e5dd4e4-4194-4f90-9416-095811fa0b4f",
   "metadata": {},
   "outputs": [],
   "source": []
  },
  {
   "cell_type": "code",
   "execution_count": null,
   "id": "9ac19bc3-9890-4b9a-b90f-fde5737ef3b3",
   "metadata": {},
   "outputs": [],
   "source": []
  },
  {
   "cell_type": "code",
   "execution_count": null,
   "id": "74087017-fbc3-4f3f-9ae8-203bb39e9a78",
   "metadata": {},
   "outputs": [],
   "source": []
  },
  {
   "cell_type": "code",
   "execution_count": null,
   "id": "1cef4ee5-5f22-4b67-9265-5e175317565a",
   "metadata": {},
   "outputs": [],
   "source": []
  },
  {
   "cell_type": "code",
   "execution_count": null,
   "id": "96b47f60-9b8d-40ea-a327-b57abcc00497",
   "metadata": {},
   "outputs": [],
   "source": []
  },
  {
   "cell_type": "code",
   "execution_count": null,
   "id": "f39d5357-2c45-4b8d-846f-aeb10062f3fd",
   "metadata": {},
   "outputs": [],
   "source": []
  },
  {
   "cell_type": "code",
   "execution_count": null,
   "id": "40af8990-65e1-4ca6-9f8b-eeb2c1695988",
   "metadata": {},
   "outputs": [],
   "source": []
  },
  {
   "cell_type": "code",
   "execution_count": null,
   "id": "f5528aa5-fdd4-4c02-9bc7-fb860afc3a14",
   "metadata": {},
   "outputs": [],
   "source": []
  },
  {
   "cell_type": "code",
   "execution_count": 264,
   "id": "115e09e3-4c9b-4dfa-9293-98d3357a7feb",
   "metadata": {
    "tags": []
   },
   "outputs": [],
   "source": [
    "## to be implemented correctly\n",
    "import numpy as np\n",
    "import seaborn as sns\n",
    "import matplotlib.pyplot as plt\n",
    "\n",
    "def confusion_matrix(true_labels: np.ndarray, predicted_labels: np.ndarray, class_names=None):\n",
    "    # Calculate the confusion matrix\n",
    "    classes = [1, -1]\n",
    "    cm = np.zeros((len(classes), len(classes)), dtype=int)\n",
    "\n",
    "    for i in range(len(classes)):\n",
    "        for j in range(len(classes)):\n",
    "            cm[i, j] = np.sum((true_labels == i) & (predicted_labels == j))\n",
    "\n",
    "    if class_names is None:\n",
    "        class_names = [str(i) for i in range(len(classes))]\n",
    "\n",
    "    # Create the confusion matrix heatmap\n",
    "    plt.figure(figsize=(8, 6))\n",
    "    sns.heatmap(cm, annot=True, fmt='d', cmap='Blues', xticklabels=class_names, yticklabels=class_names)\n",
    "    plt.xlabel('Predicted')\n",
    "    plt.ylabel('True')\n",
    "    plt.title('Confusion Matrix')\n",
    "    plt.show()\n",
    "\n",
    "# # Example usage:\n",
    "# true_labels = np.array([0, 1, 1, 0, 2, 2])\n",
    "# predicted_labels = np.array([0, 1, 2, 0, 2, 2])\n",
    "# confusion_matrix(true_labels, predicted_labels, class_names=['Class 0', 'Class 1', 'Class 2'])"
   ]
  },
  {
   "cell_type": "code",
   "execution_count": null,
   "id": "b6fc9f41-934e-4445-8075-da9b7b54f92a",
   "metadata": {},
   "outputs": [],
   "source": []
  },
  {
   "cell_type": "code",
   "execution_count": null,
   "id": "d3ea0474-f46e-43d7-a11a-f0513cd977e0",
   "metadata": {},
   "outputs": [],
   "source": []
  },
  {
   "cell_type": "code",
   "execution_count": null,
   "id": "e8aec7a4-caa6-4484-8bcb-4ad2ccb35652",
   "metadata": {},
   "outputs": [],
   "source": []
  },
  {
   "cell_type": "code",
   "execution_count": null,
   "id": "163914b2-0190-4d02-8d01-08dc73684eef",
   "metadata": {},
   "outputs": [],
   "source": []
  },
  {
   "cell_type": "code",
   "execution_count": null,
   "id": "41b38f35-657e-4ef2-b52a-d4d74a7b1a2c",
   "metadata": {},
   "outputs": [],
   "source": []
  },
  {
   "cell_type": "code",
   "execution_count": null,
   "id": "c3bad122-e380-4789-9d43-edd559546d85",
   "metadata": {},
   "outputs": [],
   "source": []
  },
  {
   "cell_type": "code",
   "execution_count": null,
   "id": "206930f3-da08-45e7-8e63-70e6feb66d71",
   "metadata": {},
   "outputs": [],
   "source": []
  },
  {
   "cell_type": "code",
   "execution_count": null,
   "id": "f5be5e07-91f4-4550-9365-9e52be2e1bd5",
   "metadata": {},
   "outputs": [],
   "source": []
  },
  {
   "cell_type": "code",
   "execution_count": null,
   "id": "df67cf39-7791-43a6-b533-5a50f6cf282e",
   "metadata": {},
   "outputs": [],
   "source": []
  },
  {
   "cell_type": "code",
   "execution_count": null,
   "id": "b9c2aec3-a369-4d21-adb7-f0813b3fc9b6",
   "metadata": {},
   "outputs": [],
   "source": []
  },
  {
   "cell_type": "code",
   "execution_count": null,
   "id": "78471718-f069-471c-951b-ac3f6a8ad5b0",
   "metadata": {},
   "outputs": [],
   "source": []
  },
  {
   "cell_type": "code",
   "execution_count": null,
   "id": "b54b0539-3fee-43f0-a0f3-03d31cef4f6c",
   "metadata": {},
   "outputs": [],
   "source": []
  },
  {
   "cell_type": "code",
   "execution_count": null,
   "id": "a5bb86ee-9b81-409f-8afe-95fff8fe9cad",
   "metadata": {},
   "outputs": [],
   "source": []
  },
  {
   "cell_type": "code",
   "execution_count": null,
   "id": "c4c97084-d7a1-41b1-b0e9-99e1d3052106",
   "metadata": {},
   "outputs": [],
   "source": []
  }
 ],
 "metadata": {
  "kernelspec": {
   "display_name": "Python 3 (ipykernel)",
   "language": "python",
   "name": "python3"
  },
  "language_info": {
   "codemirror_mode": {
    "name": "ipython",
    "version": 3
   },
   "file_extension": ".py",
   "mimetype": "text/x-python",
   "name": "python",
   "nbconvert_exporter": "python",
   "pygments_lexer": "ipython3",
   "version": "3.9.18"
  }
 },
 "nbformat": 4,
 "nbformat_minor": 5
}
