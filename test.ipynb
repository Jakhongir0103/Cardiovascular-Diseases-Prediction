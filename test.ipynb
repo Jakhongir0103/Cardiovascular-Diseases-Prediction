{
 "cells": [
  {
   "cell_type": "code",
   "execution_count": 1,
   "id": "e8c5cbd8-99fe-4eb4-896a-91e55961acdc",
   "metadata": {
    "tags": []
   },
   "outputs": [],
   "source": [
    "import numpy as np\n",
    "from implementations import *"
   ]
  },
  {
   "cell_type": "code",
   "execution_count": 2,
   "id": "7dfbde5e-c3db-4c61-b8a9-f5d707b0be70",
   "metadata": {
    "tags": []
   },
   "outputs": [],
   "source": [
    "MAX_ITERS = 2\n",
    "GAMMA = 0.1\n",
    "initial_w = np.array([0.5, 1.0])\n",
    "y = np.array([0.1, 0.3, 0.5])\n",
    "tx = np.array([[2.3, 3.2], [1.0, 0.1], [1.4, 2.3]])"
   ]
  },
  {
   "cell_type": "code",
   "execution_count": 3,
   "id": "01baf191-c2dd-4948-b8cf-e0a8423d1eac",
   "metadata": {
    "tags": []
   },
   "outputs": [
    {
     "name": "stdout",
     "output_type": "stream",
     "text": [
      "[0.21606187 0.46774656]\n",
      "0.9721649929512526\n"
     ]
    }
   ],
   "source": [
    "lambda_ = 1.0\n",
    "y = (y > 0.2) * 1.0\n",
    "w, loss = reg_logistic_regression(\n",
    "    y, tx, lambda_, initial_w, MAX_ITERS, GAMMA\n",
    ")\n",
    "print(w)\n",
    "print(loss)"
   ]
  },
  {
   "cell_type": "code",
   "execution_count": 4,
   "id": "089f63e6-d045-4e9f-8217-3bace912490c",
   "metadata": {},
   "outputs": [
    {
     "data": {
      "text/plain": [
       "array([0., 1., 1.])"
      ]
     },
     "execution_count": 4,
     "metadata": {},
     "output_type": "execute_result"
    }
   ],
   "source": [
    "y"
   ]
  },
  {
   "cell_type": "code",
   "execution_count": null,
   "id": "ee8252b9-a6ce-47f0-affe-c60a25d840fa",
   "metadata": {},
   "outputs": [],
   "source": []
  }
 ],
 "metadata": {
  "kernelspec": {
   "display_name": "Python 3 (ipykernel)",
   "language": "python",
   "name": "python3"
  },
  "language_info": {
   "codemirror_mode": {
    "name": "ipython",
    "version": 3
   },
   "file_extension": ".py",
   "mimetype": "text/x-python",
   "name": "python",
   "nbconvert_exporter": "python",
   "pygments_lexer": "ipython3",
   "version": "3.9.18"
  }
 },
 "nbformat": 4,
 "nbformat_minor": 5
}
