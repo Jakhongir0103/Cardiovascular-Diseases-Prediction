{
 "cells": [
  {
   "cell_type": "code",
   "execution_count": 1,
   "id": "initial_id",
   "metadata": {
    "tags": []
   },
   "outputs": [
    {
     "ename": "KeyboardInterrupt",
     "evalue": "",
     "output_type": "error",
     "traceback": [
      "\u001b[1;31m---------------------------------------------------------------------------\u001b[0m",
      "\u001b[1;31mKeyboardInterrupt\u001b[0m                         Traceback (most recent call last)",
      "Cell \u001b[1;32mIn[1], line 3\u001b[0m\n\u001b[0;32m      1\u001b[0m \u001b[38;5;66;03m# LOAD DATASET\u001b[39;00m\n\u001b[0;32m      2\u001b[0m \u001b[38;5;28;01mfrom\u001b[39;00m \u001b[38;5;21;01mutil\u001b[39;00m\u001b[38;5;21;01m.\u001b[39;00m\u001b[38;5;21;01mdata_loader\u001b[39;00m \u001b[38;5;28;01mimport\u001b[39;00m load_dataset\n\u001b[1;32m----> 3\u001b[0m x_train, y_train, x_test, feature_names \u001b[38;5;241m=\u001b[39m \u001b[43mload_dataset\u001b[49m\u001b[43m(\u001b[49m\n\u001b[0;32m      4\u001b[0m \u001b[43m    \u001b[49m\u001b[43mpath_x_train\u001b[49m\u001b[38;5;241;43m=\u001b[39;49m\u001b[38;5;124;43m\"\u001b[39;49m\u001b[38;5;124;43m./../course/projects/project1/data/dataset/x_train.csv\u001b[39;49m\u001b[38;5;124;43m\"\u001b[39;49m\u001b[43m,\u001b[49m\n\u001b[0;32m      5\u001b[0m \u001b[43m    \u001b[49m\u001b[43mpath_y_train\u001b[49m\u001b[38;5;241;43m=\u001b[39;49m\u001b[38;5;124;43m\"\u001b[39;49m\u001b[38;5;124;43m./../course/projects/project1/data/dataset/y_train.csv\u001b[39;49m\u001b[38;5;124;43m\"\u001b[39;49m\u001b[43m,\u001b[49m\n\u001b[0;32m      6\u001b[0m \u001b[43m    \u001b[49m\u001b[43mpath_x_test\u001b[49m\u001b[38;5;241;43m=\u001b[39;49m\u001b[38;5;124;43m\"\u001b[39;49m\u001b[38;5;124;43m./../course/projects/project1/data/dataset/x_test.csv\u001b[39;49m\u001b[38;5;124;43m\"\u001b[39;49m\n\u001b[0;32m      7\u001b[0m \u001b[43m)\u001b[49m\n",
      "File \u001b[1;32m~\\Documents\\Master_courses\\ml\\project_1\\util\\data_loader.py:20\u001b[0m, in \u001b[0;36mload_dataset\u001b[1;34m(path_x_train, path_y_train, path_x_test, sub_sample)\u001b[0m\n\u001b[0;32m      9\u001b[0m \u001b[38;5;250m\u001b[39m\u001b[38;5;124;03m\"\"\"\u001b[39;00m\n\u001b[0;32m     10\u001b[0m \u001b[38;5;124;03mLoads the dataset\u001b[39;00m\n\u001b[0;32m     11\u001b[0m \u001b[38;5;124;03m:param path_x_train: path of x_train.csv\u001b[39;00m\n\u001b[1;32m   (...)\u001b[0m\n\u001b[0;32m     15\u001b[0m \u001b[38;5;124;03m:return: (x_train: np.ndarray, y_train: np.ndarray, x_test: np.ndarray, feature_names: List)\u001b[39;00m\n\u001b[0;32m     16\u001b[0m \u001b[38;5;124;03m\"\"\"\u001b[39;00m\n\u001b[0;32m     18\u001b[0m features_names \u001b[38;5;241m=\u001b[39m np\u001b[38;5;241m.\u001b[39mgenfromtxt(path_x_train, delimiter\u001b[38;5;241m=\u001b[39m\u001b[38;5;124m\"\u001b[39m\u001b[38;5;124m,\u001b[39m\u001b[38;5;124m\"\u001b[39m, dtype\u001b[38;5;241m=\u001b[39m\u001b[38;5;28mstr\u001b[39m, max_rows\u001b[38;5;241m=\u001b[39m\u001b[38;5;241m1\u001b[39m)\n\u001b[1;32m---> 20\u001b[0m x_train \u001b[38;5;241m=\u001b[39m \u001b[43mnp\u001b[49m\u001b[38;5;241;43m.\u001b[39;49m\u001b[43mgenfromtxt\u001b[49m\u001b[43m(\u001b[49m\u001b[43mpath_x_train\u001b[49m\u001b[43m,\u001b[49m\u001b[43m \u001b[49m\u001b[43mdelimiter\u001b[49m\u001b[38;5;241;43m=\u001b[39;49m\u001b[38;5;124;43m\"\u001b[39;49m\u001b[38;5;124;43m,\u001b[39;49m\u001b[38;5;124;43m\"\u001b[39;49m\u001b[43m,\u001b[49m\u001b[43m \u001b[49m\u001b[43mskip_header\u001b[49m\u001b[38;5;241;43m=\u001b[39;49m\u001b[38;5;241;43m1\u001b[39;49m\u001b[43m)\u001b[49m\n\u001b[0;32m     22\u001b[0m y_train \u001b[38;5;241m=\u001b[39m np\u001b[38;5;241m.\u001b[39mgenfromtxt(path_y_train, delimiter\u001b[38;5;241m=\u001b[39m\u001b[38;5;124m\"\u001b[39m\u001b[38;5;124m,\u001b[39m\u001b[38;5;124m\"\u001b[39m, skip_header\u001b[38;5;241m=\u001b[39m\u001b[38;5;241m1\u001b[39m)\n\u001b[0;32m     24\u001b[0m x_test \u001b[38;5;241m=\u001b[39m np\u001b[38;5;241m.\u001b[39mgenfromtxt(path_x_test, delimiter\u001b[38;5;241m=\u001b[39m\u001b[38;5;124m\"\u001b[39m\u001b[38;5;124m,\u001b[39m\u001b[38;5;124m\"\u001b[39m, skip_header\u001b[38;5;241m=\u001b[39m\u001b[38;5;241m1\u001b[39m)\n",
      "File \u001b[1;32m~\\anaconda3\\envs\\ml\\lib\\site-packages\\numpy\\lib\\npyio.py:2327\u001b[0m, in \u001b[0;36mgenfromtxt\u001b[1;34m(fname, dtype, comments, delimiter, skip_header, skip_footer, converters, missing_values, filling_values, usecols, names, excludelist, deletechars, replace_space, autostrip, case_sensitive, defaultfmt, unpack, usemask, loose, invalid_raise, max_rows, encoding, ndmin, like)\u001b[0m\n\u001b[0;32m   2323\u001b[0m \u001b[38;5;66;03m# Convert each value according to the converter:\u001b[39;00m\n\u001b[0;32m   2324\u001b[0m \u001b[38;5;66;03m# We want to modify the list in place to avoid creating a new one...\u001b[39;00m\n\u001b[0;32m   2325\u001b[0m \u001b[38;5;28;01mif\u001b[39;00m loose:\n\u001b[0;32m   2326\u001b[0m     rows \u001b[38;5;241m=\u001b[39m \u001b[38;5;28mlist\u001b[39m(\n\u001b[1;32m-> 2327\u001b[0m         \u001b[38;5;28mzip\u001b[39m(\u001b[38;5;241m*\u001b[39m[[conv\u001b[38;5;241m.\u001b[39m_loose_call(_r) \u001b[38;5;28;01mfor\u001b[39;00m _r \u001b[38;5;129;01min\u001b[39;00m \u001b[38;5;28mmap\u001b[39m(itemgetter(i), rows)]\n\u001b[0;32m   2328\u001b[0m               \u001b[38;5;28;01mfor\u001b[39;00m (i, conv) \u001b[38;5;129;01min\u001b[39;00m \u001b[38;5;28menumerate\u001b[39m(converters)]))\n\u001b[0;32m   2329\u001b[0m \u001b[38;5;28;01melse\u001b[39;00m:\n\u001b[0;32m   2330\u001b[0m     rows \u001b[38;5;241m=\u001b[39m \u001b[38;5;28mlist\u001b[39m(\n\u001b[0;32m   2331\u001b[0m         \u001b[38;5;28mzip\u001b[39m(\u001b[38;5;241m*\u001b[39m[[conv\u001b[38;5;241m.\u001b[39m_strict_call(_r) \u001b[38;5;28;01mfor\u001b[39;00m _r \u001b[38;5;129;01min\u001b[39;00m \u001b[38;5;28mmap\u001b[39m(itemgetter(i), rows)]\n\u001b[0;32m   2332\u001b[0m               \u001b[38;5;28;01mfor\u001b[39;00m (i, conv) \u001b[38;5;129;01min\u001b[39;00m \u001b[38;5;28menumerate\u001b[39m(converters)]))\n",
      "File \u001b[1;32m~\\anaconda3\\envs\\ml\\lib\\site-packages\\numpy\\lib\\npyio.py:2327\u001b[0m, in \u001b[0;36m<listcomp>\u001b[1;34m(.0)\u001b[0m\n\u001b[0;32m   2323\u001b[0m \u001b[38;5;66;03m# Convert each value according to the converter:\u001b[39;00m\n\u001b[0;32m   2324\u001b[0m \u001b[38;5;66;03m# We want to modify the list in place to avoid creating a new one...\u001b[39;00m\n\u001b[0;32m   2325\u001b[0m \u001b[38;5;28;01mif\u001b[39;00m loose:\n\u001b[0;32m   2326\u001b[0m     rows \u001b[38;5;241m=\u001b[39m \u001b[38;5;28mlist\u001b[39m(\n\u001b[1;32m-> 2327\u001b[0m         \u001b[38;5;28mzip\u001b[39m(\u001b[38;5;241m*\u001b[39m[[conv\u001b[38;5;241m.\u001b[39m_loose_call(_r) \u001b[38;5;28;01mfor\u001b[39;00m _r \u001b[38;5;129;01min\u001b[39;00m \u001b[38;5;28mmap\u001b[39m(itemgetter(i), rows)]\n\u001b[0;32m   2328\u001b[0m               \u001b[38;5;28;01mfor\u001b[39;00m (i, conv) \u001b[38;5;129;01min\u001b[39;00m \u001b[38;5;28menumerate\u001b[39m(converters)]))\n\u001b[0;32m   2329\u001b[0m \u001b[38;5;28;01melse\u001b[39;00m:\n\u001b[0;32m   2330\u001b[0m     rows \u001b[38;5;241m=\u001b[39m \u001b[38;5;28mlist\u001b[39m(\n\u001b[0;32m   2331\u001b[0m         \u001b[38;5;28mzip\u001b[39m(\u001b[38;5;241m*\u001b[39m[[conv\u001b[38;5;241m.\u001b[39m_strict_call(_r) \u001b[38;5;28;01mfor\u001b[39;00m _r \u001b[38;5;129;01min\u001b[39;00m \u001b[38;5;28mmap\u001b[39m(itemgetter(i), rows)]\n\u001b[0;32m   2332\u001b[0m               \u001b[38;5;28;01mfor\u001b[39;00m (i, conv) \u001b[38;5;129;01min\u001b[39;00m \u001b[38;5;28menumerate\u001b[39m(converters)]))\n",
      "File \u001b[1;32m~\\anaconda3\\envs\\ml\\lib\\site-packages\\numpy\\lib\\npyio.py:2327\u001b[0m, in \u001b[0;36m<listcomp>\u001b[1;34m(.0)\u001b[0m\n\u001b[0;32m   2323\u001b[0m \u001b[38;5;66;03m# Convert each value according to the converter:\u001b[39;00m\n\u001b[0;32m   2324\u001b[0m \u001b[38;5;66;03m# We want to modify the list in place to avoid creating a new one...\u001b[39;00m\n\u001b[0;32m   2325\u001b[0m \u001b[38;5;28;01mif\u001b[39;00m loose:\n\u001b[0;32m   2326\u001b[0m     rows \u001b[38;5;241m=\u001b[39m \u001b[38;5;28mlist\u001b[39m(\n\u001b[1;32m-> 2327\u001b[0m         \u001b[38;5;28mzip\u001b[39m(\u001b[38;5;241m*\u001b[39m[[\u001b[43mconv\u001b[49m\u001b[38;5;241;43m.\u001b[39;49m\u001b[43m_loose_call\u001b[49m\u001b[43m(\u001b[49m\u001b[43m_r\u001b[49m\u001b[43m)\u001b[49m \u001b[38;5;28;01mfor\u001b[39;00m _r \u001b[38;5;129;01min\u001b[39;00m \u001b[38;5;28mmap\u001b[39m(itemgetter(i), rows)]\n\u001b[0;32m   2328\u001b[0m               \u001b[38;5;28;01mfor\u001b[39;00m (i, conv) \u001b[38;5;129;01min\u001b[39;00m \u001b[38;5;28menumerate\u001b[39m(converters)]))\n\u001b[0;32m   2329\u001b[0m \u001b[38;5;28;01melse\u001b[39;00m:\n\u001b[0;32m   2330\u001b[0m     rows \u001b[38;5;241m=\u001b[39m \u001b[38;5;28mlist\u001b[39m(\n\u001b[0;32m   2331\u001b[0m         \u001b[38;5;28mzip\u001b[39m(\u001b[38;5;241m*\u001b[39m[[conv\u001b[38;5;241m.\u001b[39m_strict_call(_r) \u001b[38;5;28;01mfor\u001b[39;00m _r \u001b[38;5;129;01min\u001b[39;00m \u001b[38;5;28mmap\u001b[39m(itemgetter(i), rows)]\n\u001b[0;32m   2332\u001b[0m               \u001b[38;5;28;01mfor\u001b[39;00m (i, conv) \u001b[38;5;129;01min\u001b[39;00m \u001b[38;5;28menumerate\u001b[39m(converters)]))\n",
      "File \u001b[1;32m~\\anaconda3\\envs\\ml\\lib\\site-packages\\numpy\\lib\\_iotools.py:671\u001b[0m, in \u001b[0;36mStringConverter._loose_call\u001b[1;34m(self, value)\u001b[0m\n\u001b[0;32m    670\u001b[0m \u001b[38;5;28;01mdef\u001b[39;00m \u001b[38;5;21m_loose_call\u001b[39m(\u001b[38;5;28mself\u001b[39m, value):\n\u001b[1;32m--> 671\u001b[0m     \u001b[38;5;28;01mtry\u001b[39;00m:\n\u001b[0;32m    672\u001b[0m         \u001b[38;5;28;01mreturn\u001b[39;00m \u001b[38;5;28mself\u001b[39m\u001b[38;5;241m.\u001b[39mfunc(value)\n\u001b[0;32m    673\u001b[0m     \u001b[38;5;28;01mexcept\u001b[39;00m \u001b[38;5;167;01mValueError\u001b[39;00m:\n",
      "\u001b[1;31mKeyboardInterrupt\u001b[0m: "
     ]
    }
   ],
   "source": [
    "# LOAD DATASET\n",
    "from util.data_loader import load_dataset\n",
    "x_train, y_train, x_test, feature_names = load_dataset(\n",
    "    path_x_train=\"./../course/projects/project1/data/dataset/x_train.csv\",\n",
    "    path_y_train=\"./../course/projects/project1/data/dataset/y_train.csv\",\n",
    "    path_x_test=\"./../course/projects/project1/data/dataset/x_test.csv\"\n",
    ")"
   ]
  },
  {
   "cell_type": "code",
   "execution_count": null,
   "id": "e689f404263de818",
   "metadata": {
    "collapsed": false,
    "jupyter": {
     "outputs_hidden": false
    }
   },
   "outputs": [],
   "source": [
    "# REMOVE USELESS FEATURES\n",
    "from util.features_info import FEATURES_DICT\n",
    "from util.features_util import keep_features\n",
    "feature_indexes = dict(zip(feature_names, range(len(feature_names))))\n",
    "x_clean, clean_features, clean_feature_index = keep_features(x_train, FEATURES_DICT.keys(), feature_names, feature_indexes)"
   ]
  },
  {
   "cell_type": "code",
   "execution_count": null,
   "id": "27a66579f5168c5e",
   "metadata": {
    "collapsed": false,
    "jupyter": {
     "outputs_hidden": false
    }
   },
   "outputs": [],
   "source": [
    "# PREPROCESS KEPT FEATURES\n",
    "from util.features_info import REPLACEMENT_LIST\n",
    "from util.preprocessing import preprocessing_pipeline\n",
    "x_preprocessed = preprocessing_pipeline(x_clean, where=clean_features, feature_index=clean_feature_index,\n",
    "                                        nan_replacement=REPLACEMENT_LIST)"
   ]
  },
  {
   "cell_type": "code",
   "execution_count": null,
   "id": "a030a4e5-69b7-4996-8cb0-071ae7d043d5",
   "metadata": {},
   "outputs": [],
   "source": []
  },
  {
   "cell_type": "markdown",
   "id": "763deb02-5fa5-4dd5-8b2c-83dee7a6eeda",
   "metadata": {},
   "source": [
    "# Modeling"
   ]
  },
  {
   "cell_type": "code",
   "execution_count": 127,
   "id": "ea79bc22-1125-4cbf-a55b-09166ed53973",
   "metadata": {
    "tags": []
   },
   "outputs": [],
   "source": [
    "from implementations import reg_logistic_regression, least_squares, ridge_regression,compute_loss, sigmoid\n",
    "import numpy as np"
   ]
  },
  {
   "cell_type": "code",
   "execution_count": 31,
   "id": "f1ed4c59-0c76-4baf-a7b6-6501a2100637",
   "metadata": {
    "tags": []
   },
   "outputs": [
    {
     "data": {
      "text/plain": [
       "((328135, 2), (328135, 78))"
      ]
     },
     "execution_count": 31,
     "metadata": {},
     "output_type": "execute_result"
    }
   ],
   "source": [
    "y_train.shape, x_preprocessed.shape"
   ]
  },
  {
   "cell_type": "code",
   "execution_count": null,
   "id": "f404bc64-0f32-4a64-b669-bd1e92aa6cea",
   "metadata": {
    "tags": []
   },
   "outputs": [],
   "source": []
  },
  {
   "cell_type": "code",
   "execution_count": null,
   "id": "3a49a824-e0e6-44d3-9107-b6803d28ddf9",
   "metadata": {
    "tags": []
   },
   "outputs": [],
   "source": []
  },
  {
   "cell_type": "code",
   "execution_count": 32,
   "id": "d3d046e2-fd1b-458a-9a86-cd19e2d460a1",
   "metadata": {},
   "outputs": [],
   "source": [
    "# standardization\n",
    "mean = np.mean(x_preprocessed, axis=0)\n",
    "std = np.std(x_preprocessed, axis=0)\n",
    "\n",
    "# Standardize the matrix\n",
    "x_std = (x_preprocessed - mean) / std\n",
    "\n",
    "# get output\n",
    "y = y_train[:,1]"
   ]
  },
  {
   "cell_type": "code",
   "execution_count": null,
   "id": "bea67b85-6f1d-42c1-9dc4-9623dcee26af",
   "metadata": {},
   "outputs": [],
   "source": []
  },
  {
   "cell_type": "code",
   "execution_count": null,
   "id": "a0aed7a1-6865-4511-94a5-3d4942048483",
   "metadata": {},
   "outputs": [],
   "source": []
  },
  {
   "cell_type": "code",
   "execution_count": 58,
   "id": "1ea7ec5e-89bf-4ccf-89e4-f9edbc17a970",
   "metadata": {
    "tags": []
   },
   "outputs": [
    {
     "data": {
      "text/plain": [
       "328135"
      ]
     },
     "execution_count": 58,
     "metadata": {},
     "output_type": "execute_result"
    }
   ],
   "source": [
    "len(x_std)"
   ]
  },
  {
   "cell_type": "code",
   "execution_count": 66,
   "id": "de0b32dc-b31a-4c28-9d34-93211a31305b",
   "metadata": {
    "tags": []
   },
   "outputs": [],
   "source": [
    "def build_poly(x, degree):\n",
    "    \"\"\"polynomial basis functions for input data x, for j=0 up to j=degree.\n",
    "\n",
    "    Args:\n",
    "        x: numpy array of shape (N,), N is the number of samples.\n",
    "        degree: integer.\n",
    "\n",
    "    Returns:\n",
    "        poly: numpy array of shape (N,d+1)\n",
    "\n",
    "    >>> build_poly(np.array([0.0, 1.5]), 2)\n",
    "    array([[1.  , 0.  , 0.  ],\n",
    "           [1.  , 1.5 , 2.25]])\n",
    "    \"\"\"\n",
    "    f = np.ones(len(x))\n",
    "    for j in range(degree):\n",
    "        f = np.vstack((f,x**(j+1)))\n",
    "    return f.T"
   ]
  },
  {
   "cell_type": "code",
   "execution_count": 67,
   "id": "e7e954a8-ad41-4910-8f03-f3d825d1db9e",
   "metadata": {
    "tags": []
   },
   "outputs": [],
   "source": [
    "def build_k_indices(y, k_fold, seed=1):\n",
    "    \"\"\"build k indices for k-fold.\n",
    "\n",
    "    Args:\n",
    "        y:      shape=(N,)\n",
    "        k_fold: K in K-fold, i.e. the fold num\n",
    "        seed:   the random seed\n",
    "\n",
    "    Returns:\n",
    "        A 2D array of shape=(k_fold, N/k_fold) that indicates the data indices for each fold\n",
    "\n",
    "    >>> build_k_indices(np.array([1., 2., 3., 4.]), 2, 1)\n",
    "    array([[3, 2],\n",
    "           [0, 1]])\n",
    "    \"\"\"\n",
    "    num_row = y.shape[0]\n",
    "    interval = int(num_row / k_fold)\n",
    "    np.random.seed(seed)\n",
    "    indices = np.random.permutation(num_row)\n",
    "    k_indices = [indices[k * interval : (k + 1) * interval] for k in range(k_fold)]\n",
    "    return np.array(k_indices)\n"
   ]
  },
  {
   "cell_type": "code",
   "execution_count": 96,
   "id": "ff49ec09-ab01-4d1f-84cc-37d6203effac",
   "metadata": {
    "tags": []
   },
   "outputs": [],
   "source": [
    "def cross_validation(y, x, k_indices, k, lambda_):\n",
    "    \"\"\"return the loss of ridge regression for a fold corresponding to k_indices\n",
    "\n",
    "    Args:\n",
    "        y:          shape=(N,)\n",
    "        x:          shape=(N,)\n",
    "        k_indices:  2D array returned by build_k_indices()\n",
    "        k:          scalar, the k-th fold (N.B.: not to confused with k_fold which is the fold nums)\n",
    "        lambda_:    scalar, cf. ridge_regression()\n",
    "        degree:     scalar, cf. build_poly()\n",
    "\n",
    "    Returns:\n",
    "        train and test root mean square errors rmse = sqrt(2 mse)\n",
    "\n",
    "    >>> cross_validation(np.array([1.,2.,3.,4.]), np.array([6.,7.,8.,9.]), np.array([[3,2], [0,1]]), 1, 2, 3)\n",
    "    (0.019866645527597114, 0.33555914361295175)\n",
    "    \"\"\"\n",
    "\n",
    "    # ***************************************************\n",
    "    # INSERT YOUR CODE HERE\n",
    "    # get k'th subgroup in test, others in train: TODO\n",
    "    # ***************************************************\n",
    "    test_indices = k_indices[k]\n",
    "    train_indices = np.array([k_indices[i] for i in range(k_indices.shape[0]) if i != k]).flatten()\n",
    "    \n",
    "    y_test = y[test_indices]\n",
    "    y_train = y[train_indices]\n",
    "    \n",
    "    x_test = x[test_indices]\n",
    "    x_train = x[train_indices]\n",
    "\n",
    "    # ***************************************************\n",
    "    # INSERT YOUR CODE HERE\n",
    "    # form data with polynomial degree: TODO\n",
    "    # ***************************************************\n",
    "    # x_tr_poly = build_poly(x_train,degree)\n",
    "    # x_te_poly = build_poly(x_test,degree)\n",
    "    \n",
    "    # ***************************************************\n",
    "    # INSERT YOUR CODE HERE\n",
    "    # ridge regression: TODO\n",
    "    # ***************************************************\n",
    "    w, loss = ridge_regression(y_train,x_train,lambda_)\n",
    "    # loss = compute_loss(y, tx, w)\n",
    "    # return w, loss\n",
    "    \n",
    "    # ***************************************************\n",
    "    # INSERT YOUR CODE HERE\n",
    "    # calculate the loss for train and test data: TODO\n",
    "    # ***************************************************\n",
    "    loss_tr = compute_loss(y_train,x_train,w)\n",
    "    loss_te = compute_loss(y_test,x_test,w)\n",
    "\n",
    "    return loss_tr, loss_te"
   ]
  },
  {
   "cell_type": "code",
   "execution_count": 109,
   "id": "5c4a8c72-2792-4dd5-aa61-b4fccf7213ae",
   "metadata": {
    "tags": []
   },
   "outputs": [],
   "source": [
    "def cross_validation_log(y, x, k_indices, k, lambda_, w, max_iter,gamma):\n",
    "    \"\"\"return the loss of ridge regression for a fold corresponding to k_indices\n",
    "\n",
    "    Args:\n",
    "        y:          shape=(N,)\n",
    "        x:          shape=(N,)\n",
    "        k_indices:  2D array returned by build_k_indices()\n",
    "        k:          scalar, the k-th fold (N.B.: not to confused with k_fold which is the fold nums)\n",
    "        lambda_:    scalar, cf. ridge_regression()\n",
    "        degree:     scalar, cf. build_poly()\n",
    "\n",
    "    Returns:\n",
    "        train and test root mean square errors rmse = sqrt(2 mse)\n",
    "\n",
    "    >>> cross_validation(np.array([1.,2.,3.,4.]), np.array([6.,7.,8.,9.]), np.array([[3,2], [0,1]]), 1, 2, 3)\n",
    "    (0.019866645527597114, 0.33555914361295175)\n",
    "    \"\"\"\n",
    "\n",
    "    # ***************************************************\n",
    "    # INSERT YOUR CODE HERE\n",
    "    # get k'th subgroup in test, others in train: TODO\n",
    "    # ***************************************************\n",
    "    test_indices = k_indices[k]\n",
    "    train_indices = np.array([k_indices[i] for i in range(k_indices.shape[0]) if i != k]).flatten()\n",
    "    \n",
    "    y_test = y[test_indices]\n",
    "    y_train = y[train_indices]\n",
    "    \n",
    "    x_test = x[test_indices]\n",
    "    x_train = x[train_indices]\n",
    "\n",
    "    # ***************************************************\n",
    "    # INSERT YOUR CODE HERE\n",
    "    # form data with polynomial degree: TODO\n",
    "    # ***************************************************\n",
    "    # x_tr_poly = build_poly(x_train,degree)\n",
    "    # x_te_poly = build_poly(x_test,degree)\n",
    "    \n",
    "    # ***************************************************\n",
    "    # INSERT YOUR CODE HERE\n",
    "    # ridge regression: TODO\n",
    "    # ***************************************************\n",
    "    w, loss = reg_logistic_regression(y_train,x_train,lambda_,w,max_iter,gamma)\n",
    "    # loss = compute_loss(y, tx, w)\n",
    "    # return w, loss\n",
    "    \n",
    "    # ***************************************************\n",
    "    # INSERT YOUR CODE HERE\n",
    "    # calculate the loss for train and test data: TODO\n",
    "    # ***************************************************\n",
    "    loss_tr = compute_loss(y_train,x_train,w)\n",
    "    loss_te = compute_loss(y_test,x_test,w)\n",
    "\n",
    "    return loss_tr, loss_te"
   ]
  },
  {
   "cell_type": "code",
   "execution_count": 110,
   "id": "0c45f629-db78-49d6-81b9-7b7ddd5ff76c",
   "metadata": {
    "tags": []
   },
   "outputs": [],
   "source": [
    "from util.plotting import loss_visualization\n",
    "def cross_validation_ridge_regression(y,x, k_fold, lambdas,w, max_iter,gamma):\n",
    "    \"\"\"cross validation over regularisation parameter lambda.\n",
    "\n",
    "    Args:\n",
    "        degree: integer, degree of the polynomial expansion\n",
    "        k_fold: integer, the number of folds\n",
    "        lambdas: shape = (p, ) where p is the number of values of lambda to test\n",
    "    Returns:\n",
    "        best_lambda : scalar, value of the best lambda\n",
    "        best_rmse : scalar, the associated root mean squared error for the best lambda\n",
    "    \"\"\"\n",
    "\n",
    "    seed = 12\n",
    "    # degree = degree\n",
    "    k_fold = k_fold\n",
    "    lambdas = lambdas\n",
    "    # split data in k fold\n",
    "    print(y)\n",
    "    k_indices = build_k_indices(y, k_fold, seed)\n",
    "    # ***************************************************\n",
    "    # INSERT YOUR CODE HERE\n",
    "    # cross validation over lambdas: TODO\n",
    "    # ***************************************************\n",
    "    rmse_tr_all = []\n",
    "    rmse_te_all = []\n",
    "    for lambda_ in lambdas:\n",
    "        # define lists to store the loss of training data and test data\n",
    "        rmse_tr = []\n",
    "        rmse_te = []\n",
    "        for k in range(k_fold):\n",
    "            loss_tr, loss_te = cross_validation_log(y,x,k_indices,k,lambda_,w, max_iter,gamma)\n",
    "            rmse_tr.append(loss_tr)\n",
    "            rmse_te.append(loss_te)\n",
    "        rmse_tr_all.append(np.mean(rmse_tr))\n",
    "        rmse_te_all.append(np.mean(rmse_te))\n",
    "\n",
    "    # cross_validation_visualization(lambdas, rmse_tr_all, rmse_te_all)\n",
    "    loss_visualization(rmse_tr_all, rmse_te_all)\n",
    "    best_rmse = rmse_te_all[np.argmin(rmse_te_all)]\n",
    "    best_lambda = lambdas[np.argmin(rmse_te_all)]\n",
    "    print(\n",
    "        \"For The choice of lambda which leads to the best test mse is %.5f with a test mse of %.3f\"\n",
    "        % (best_lambda, best_rmse)\n",
    "    )\n",
    "    return best_lambda, best_rmse\n",
    "\n",
    "\n",
    "# best_lambda, best_rmse = cross_validation_demo(7, 4, np.logspace(-4, 0, 30))"
   ]
  },
  {
   "cell_type": "code",
   "execution_count": 99,
   "id": "d9fcc3f5-94f7-4b8f-91ae-76deb6c22571",
   "metadata": {
    "tags": []
   },
   "outputs": [
    {
     "name": "stdout",
     "output_type": "stream",
     "text": [
      "[-1. -1. -1. ... -1. -1. -1.]\n",
      "For The choice of lambda which leads to the best test rmse is 0.00599 with a test rmse of 0.475\n"
     ]
    },
    {
     "data": {
      "text/plain": [
       "(0.005994842503189421, 0.4750684951960573)"
      ]
     },
     "execution_count": 99,
     "metadata": {},
     "output_type": "execute_result"
    },
    {
     "data": {
      "image/png": "[encoded data removed]",
      "text/plain": [
       "<Figure size 640x480 with 1 Axes>"
      ]
     },
     "metadata": {},
     "output_type": "display_data"
    }
   ],
   "source": [
    "lambdas = np.logspace(-10,0,10)\n",
    "cross_validation_ridge_regression(y,x_std,4,lambdas)"
   ]
  },
  {
   "cell_type": "code",
   "execution_count": null,
   "id": "25df80ec-07fb-4e9f-91f5-a74c79181157",
   "metadata": {},
   "outputs": [],
   "source": []
  },
  {
   "cell_type": "code",
   "execution_count": null,
   "id": "ef96eeef-f67a-4cdc-9ca6-d920303c70f0",
   "metadata": {},
   "outputs": [],
   "source": []
  },
  {
   "cell_type": "code",
   "execution_count": null,
   "id": "0915c148-e7a2-42ad-9c1c-315ba97df9c8",
   "metadata": {},
   "outputs": [],
   "source": []
  },
  {
   "cell_type": "code",
   "execution_count": null,
   "id": "42ffc291-c868-49f4-a6b2-3e5793d0e3eb",
   "metadata": {},
   "outputs": [],
   "source": []
  },
  {
   "cell_type": "code",
   "execution_count": 129,
   "id": "6d1970a0-6e39-4aaa-af52-21a8bb946d13",
   "metadata": {
    "tags": []
   },
   "outputs": [
    {
     "data": {
      "text/plain": [
       "(0.4748256675765875,\n",
       " array([ 5.78254255e-02,  9.12359138e-03, -4.00143632e-03,  3.14487978e-03,\n",
       "         6.71206905e-03, -4.61440430e-03, -5.12074238e-03, -3.49256202e-02,\n",
       "         1.27868655e-02,  4.76480691e-02, -6.87390623e-02,  3.66727589e-04,\n",
       "        -1.08027550e-02, -8.59358493e-04, -4.68678602e-02, -5.62926439e-03,\n",
       "        -2.12903279e-03, -3.27349282e-02, -3.53085489e-02,  1.66647549e-03,\n",
       "        -5.85589291e-02,  3.38028305e-02,  3.10558409e-03,  3.35799615e-03,\n",
       "        -4.27732023e-03, -6.79591233e-03, -4.92873690e-03, -5.70277081e-03,\n",
       "        -1.65651137e-02, -5.66118616e-04, -1.93778439e-02,  1.57922275e-03,\n",
       "        -2.37486889e-03, -1.36870944e-03, -6.85950882e-03, -2.60891179e-03,\n",
       "        -6.30706354e-03,  1.45174583e-03,  4.13462405e-03, -4.77555018e-03,\n",
       "        -2.15650720e-03, -1.12749051e-03,  2.14379137e-04,  5.04443190e-03,\n",
       "         1.54825478e-03,  1.89813799e-03,  8.57020018e-04, -7.50063407e-04,\n",
       "         4.92830160e-03,  3.60180140e-04,  4.14649301e-03, -3.84291489e-03,\n",
       "        -2.91463110e-03, -8.87240007e-04,  2.23419595e-03, -3.71930237e-03,\n",
       "        -7.80098107e-03, -5.22317212e-03, -7.05361311e-03,  1.21185465e-02,\n",
       "         5.20986124e-03, -5.78077963e-03, -5.90615728e-04,  8.93993268e-05,\n",
       "        -2.46010136e-04,  5.80361403e-04, -9.89225574e-04,  1.33408473e-03,\n",
       "         1.75154954e-03,  2.03675407e-02,  1.84879810e-02, -2.81576250e-02,\n",
       "        -4.21230677e-03, -2.60166015e-03,  3.02367633e-03,  9.80071977e-03,\n",
       "        -5.55898845e-03, -2.44734885e-03]))"
      ]
     },
     "execution_count": 129,
     "metadata": {},
     "output_type": "execute_result"
    }
   ],
   "source": [
    "w, loss = least_squares(y,x_std)\n",
    "loss, w"
   ]
  },
  {
   "cell_type": "code",
   "execution_count": null,
   "id": "8a3100b6-4cda-45e2-aa7d-56ae695abf17",
   "metadata": {
    "tags": []
   },
   "outputs": [],
   "source": []
  },
  {
   "cell_type": "code",
   "execution_count": null,
   "id": "b04fc607-3df9-4646-aebd-24cc3edc9409",
   "metadata": {},
   "outputs": [],
   "source": []
  },
  {
   "cell_type": "code",
   "execution_count": 125,
   "id": "1823ee16-7f5c-4882-b5a9-d4c629ce4da5",
   "metadata": {
    "tags": []
   },
   "outputs": [],
   "source": [
    "# Logistic Regression\n",
    "max_iter = 1000\n",
    "gamma = 0.005\n",
    "# lambdas = np.logspace(-10,0,10)\n",
    "lambda_ = 0.006\n",
    "w_, loss_  = reg_logistic_regression(y,x_std,lambda_,w,max_iter,gamma)"
   ]
  },
  {
   "cell_type": "code",
   "execution_count": 126,
   "id": "38e0678e-2e58-47a5-941b-3572e6adce12",
   "metadata": {
    "tags": []
   },
   "outputs": [
    {
     "data": {
      "text/plain": [
       "(0.692952257746532,\n",
       " array([ 1.95554909e-01,  6.91538056e-02, -1.04413776e-02,  3.86630427e-02,\n",
       "         1.42573209e-02, -1.13588991e-02, -2.17640581e-02, -1.32236079e-01,\n",
       "         2.37362427e-03,  1.57780359e-01, -2.85298552e-01, -1.54780701e-02,\n",
       "        -5.53403159e-02, -2.60001866e-02, -1.84925147e-01, -4.58288708e-02,\n",
       "        -4.40245437e-03, -1.46934812e-01, -1.51145014e-01,  1.59196077e-02,\n",
       "        -1.69441189e-01,  1.41076230e-01,  2.12463537e-02, -1.85216380e-02,\n",
       "        -3.38431828e-02, -3.81785892e-02, -5.84765011e-03, -4.97775872e-02,\n",
       "        -9.51757457e-02, -1.63598169e-02, -9.24932596e-02, -2.52924419e-02,\n",
       "        -3.46241670e-02,  3.60246279e-02,  3.64430647e-03, -1.04977708e-02,\n",
       "        -3.69083423e-02, -1.71327524e-03,  2.88029530e-02, -8.66359988e-03,\n",
       "        -1.55324073e-02, -8.66832901e-04, -7.35767875e-03,  2.01935860e-02,\n",
       "        -7.84926673e-03,  6.56473478e-03, -9.47812924e-03, -2.93422818e-03,\n",
       "         6.56758583e-03,  4.99368605e-03,  1.01914740e-02, -3.97508722e-03,\n",
       "        -5.89049342e-03, -4.69494775e-03,  1.59279751e-03,  2.31835813e-03,\n",
       "        -2.20168534e-02, -1.45367233e-02, -2.59378831e-02,  4.51305605e-02,\n",
       "         1.34025527e-02, -1.52256132e-02,  1.09810761e-03,  7.36138803e-03,\n",
       "         1.88970591e-03, -4.75854485e-03, -5.33835206e-03,  7.58424118e-03,\n",
       "         2.64674718e-04,  2.51068158e-02,  2.56832623e-02, -1.76885594e-02,\n",
       "        -3.50933093e-03, -4.56552975e-03,  5.80590624e-03,  1.03459953e-02,\n",
       "        -1.03701398e-02, -3.62963039e-03]))"
      ]
     },
     "execution_count": 126,
     "metadata": {},
     "output_type": "execute_result"
    }
   ],
   "source": [
    "loss_, w_"
   ]
  },
  {
   "cell_type": "code",
   "execution_count": 115,
   "id": "9e405e8d-cc1d-4acf-bc4c-ef6b658f4b03",
   "metadata": {
    "tags": []
   },
   "outputs": [],
   "source": [
    "from util.evaluation import *"
   ]
  },
  {
   "cell_type": "code",
   "execution_count": 157,
   "id": "44f957bc-0ceb-4a0e-87ed-1b291d78b65d",
   "metadata": {
    "tags": []
   },
   "outputs": [],
   "source": [
    "y_pred = sigmoid(x_std @ w_) > 0.5"
   ]
  },
  {
   "cell_type": "code",
   "execution_count": 158,
   "id": "328cb8b6-250a-48b2-8f89-4e62605b3853",
   "metadata": {
    "tags": []
   },
   "outputs": [],
   "source": [
    "y_pred = np.where(y_pred, 1, -1)"
   ]
  },
  {
   "cell_type": "code",
   "execution_count": 159,
   "id": "5d1babab-4793-4793-b116-3f2f5df9e8fb",
   "metadata": {
    "tags": []
   },
   "outputs": [
    {
     "data": {
      "text/plain": [
       "array([-1,  1, -1, ...,  1, -1, -1])"
      ]
     },
     "execution_count": 159,
     "metadata": {},
     "output_type": "execute_result"
    }
   ],
   "source": [
    "y_pred"
   ]
  },
  {
   "cell_type": "code",
   "execution_count": 160,
   "id": "798ea511-7190-4f04-9372-1f1a8a1afaa4",
   "metadata": {
    "tags": []
   },
   "outputs": [
    {
     "data": {
      "text/plain": [
       "0.19206771937501416"
      ]
     },
     "execution_count": 160,
     "metadata": {},
     "output_type": "execute_result"
    }
   ],
   "source": [
    "precision(y, y_pred)"
   ]
  },
  {
   "cell_type": "code",
   "execution_count": 161,
   "id": "a5515cc4-4cfd-4c5f-9e62-19f8abaad8a2",
   "metadata": {
    "tags": []
   },
   "outputs": [
    {
     "data": {
      "text/plain": [
       "0.6629253203711887"
      ]
     },
     "execution_count": 161,
     "metadata": {},
     "output_type": "execute_result"
    }
   ],
   "source": [
    "accuracy(y, y_pred)"
   ]
  },
  {
   "cell_type": "code",
   "execution_count": 162,
   "id": "5fefbf1b-71a2-407e-b4dd-3db57b1b490e",
   "metadata": {
    "tags": []
   },
   "outputs": [
    {
     "data": {
      "text/plain": [
       "0.31522640878641917"
      ]
     },
     "execution_count": 162,
     "metadata": {},
     "output_type": "execute_result"
    }
   ],
   "source": [
    "f1_score(y, y_pred)"
   ]
  },
  {
   "cell_type": "code",
   "execution_count": 148,
   "id": "e224cb06-88de-488f-aa62-3662c3412219",
   "metadata": {
    "tags": []
   },
   "outputs": [],
   "source": [
    "def precision(true_labels: np.ndarray,\n",
    "              predicted_labels: np.ndarray) -> float:\n",
    "    \"\"\"\n",
    "    Calculate the precision of a classifier.\n",
    "    :param true_labels (numpy.ndarray): True class labels.\n",
    "    :param predicted_labels (numpy.ndarray): Predicted class labels.\n",
    "    :return float: precision of the classifier.\n",
    "    \"\"\"\n",
    "    true_positives = np.sum((true_labels == 1) & (predicted_labels == 1))\n",
    "    false_positives = np.sum((true_labels == -1) & (predicted_labels == 1))\n",
    "\n",
    "    return true_positives / (true_positives + false_positives)\n",
    "\n",
    "\n",
    "def recall(true_labels: np.ndarray,\n",
    "           predicted_labels: np.ndarray) -> float:\n",
    "    \"\"\"\n",
    "    Calculate the recall of a classifier.\n",
    "    :param true_labels (numpy.ndarray): True class labels.\n",
    "    :param predicted_labels (numpy.ndarray): Predicted class labels.\n",
    "    :return float: recall of the classifier.\n",
    "    \"\"\"\n",
    "    true_positives = np.sum((true_labels == 1) & (predicted_labels == 1))\n",
    "    false_negatives = np.sum((true_labels == 1) & (predicted_labels == -1))\n",
    "\n",
    "    return true_positives / (true_positives + false_negatives)\n",
    "\n",
    "def f1_score(true_labels: np.ndarray,\n",
    "             predicted_labels: np.ndarray) -> float:\n",
    "    \"\"\"\n",
    "    Calculate the F1 score of a classifier.\n",
    "    :param true_labels (numpy.ndarray): True class labels.\n",
    "    :param predicted_labels (numpy.ndarray): Predicted class labels.\n",
    "    :return float: F1 score of the classifier.\n",
    "    \"\"\"\n",
    "    if true_labels.shape != predicted_labels.shape:\n",
    "        raise ValueError(\"Input arrays must have the same shape.\")\n",
    "    \n",
    "    precision_s = precision(true_labels, predicted_labels)\n",
    "    recall_s = recall(true_labels, predicted_labels)\n",
    "    \n",
    "    return 2 * (precision_s * recall_s) / (precision_s + recall_s)\n",
    "    \n"
   ]
  },
  {
   "cell_type": "code",
   "execution_count": null,
   "id": "c069cfa6-320b-452c-92db-23c0e7f21703",
   "metadata": {},
   "outputs": [],
   "source": []
  }
 ],
 "metadata": {
  "kernelspec": {
   "display_name": "Python 3 (ipykernel)",
   "language": "python",
   "name": "python3"
  },
  "language_info": {
   "codemirror_mode": {
    "name": "ipython",
    "version": 3
   },
   "file_extension": ".py",
   "mimetype": "text/x-python",
   "name": "python",
   "nbconvert_exporter": "python",
   "pygments_lexer": "ipython3",
   "version": "3.9.18"
  }
 },
 "nbformat": 4,
 "nbformat_minor": 5
}
