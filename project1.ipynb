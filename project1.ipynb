{
 "cells": [
  {
   "cell_type": "code",
   "execution_count": 1,
   "id": "fc6b3c95",
   "metadata": {},
   "outputs": [],
   "source": [
    "import numpy as np\n",
    "from helpers import *"
   ]
  },
  {
   "cell_type": "code",
   "execution_count": 2,
   "id": "5a56599c",
   "metadata": {},
   "outputs": [],
   "source": [
    "def drop_feature(data: np.array, feature_to_drop: str | list[str], features: list[str], feature_index: dict):\n",
    "    \"\"\"\n",
    "    Drop a feature for all the samples.\n",
    "    :param data: np.array of shape (N, D)\n",
    "    :param feature_to_drop: name(s) of the feature(s) to drop\n",
    "    :param features: list(str) of the names of the features\n",
    "    :param feature_index: dict(str : int) linking the name of the features to their index\n",
    "    \"\"\"\n",
    "\n",
    "    # Get the index of the feature to drop\n",
    "    ids_feature_to_drop = [feature_index[feature] for feature in feature_to_drop]\n",
    "\n",
    "    # Drop the column corresponding to the feature to drop and update the features list\n",
    "    data = np.delete(data, ids_feature_to_drop, axis=1)\n",
    "    features = [f for f in features if f not in feature_to_drop]\n",
    "\n",
    "    # Update the feature_index dictionary\n",
    "    assert len(features) == data.shape[1]\n",
    "    feature_index = {feature: index for index, feature in enumerate(features)}\n",
    "\n",
    "    print(f\"Removed {len(feature_to_drop)} features: {feature_to_drop}\")\n",
    "\n",
    "    return data, features, feature_index"
   ]
  },
  {
   "cell_type": "code",
   "execution_count": 3,
   "id": "cb2cf4a1",
   "metadata": {},
   "outputs": [],
   "source": [
    "def drop_feature_threshold(data: np.array, features: list[str], feature_index: dict, threshold=0.9):\n",
    "    \"\"\"\n",
    "    Drop feature for all the samples, if the values for that features are NaN\n",
    "    for a percentage higher than threshold.\n",
    "    :param data: np.array of shape (N, D)\n",
    "    :param features: list(str) of the names of the features\n",
    "    :param feature_index: dict(str : int) linking the name of the features to their index\n",
    "    :param threshold: percentage of NaN values above which we drop the feature\n",
    "    \"\"\"\n",
    "\n",
    "    N = data.shape[0]\n",
    "\n",
    "    # Compute percentage of NaN values for each feature\n",
    "    n_NaN = np.sum(np.isnan(data), axis=0)\n",
    "    p_NaN = n_NaN / N\n",
    "\n",
    "    # Get the indices of the features for which the percentage of NaN values is higher than threshold\n",
    "    ids_features_to_drop = np.where(p_NaN > threshold)[0]\n",
    "    features_to_drop = []\n",
    "    for f in feature_index.keys():\n",
    "        if feature_index[f] in ids_features_to_drop:\n",
    "            features_to_drop.append(f)\n",
    "    assert len(features_to_drop) == len(ids_features_to_drop)\n",
    "\n",
    "    return drop_feature(data, features_to_drop, features, feature_index)\n"
   ]
  },
  {
   "cell_type": "code",
   "execution_count": 4,
   "id": "94a29480",
   "metadata": {},
   "outputs": [],
   "source": [
    "def load_train_data(sub_sample=False):\n",
    "    path_x_train = \"data/x_train.csv\"\n",
    "    path_y_train = \"data/y_train.csv\"\n",
    "\n",
    "    features_names = np.genfromtxt(\n",
    "        path_x_train, \n",
    "        delimiter=\",\", \n",
    "        dtype=str,\n",
    "        max_rows=1\n",
    "    )\n",
    "\n",
    "    x_train = np.genfromtxt(\n",
    "        path_x_train, \n",
    "        delimiter=\",\", \n",
    "        skip_header=1\n",
    "    )\n",
    "    \n",
    "    y_train = np.genfromtxt(\n",
    "        path_y_train,\n",
    "        delimiter=\",\",\n",
    "        skip_header=1,\n",
    "        usecols=0\n",
    "    )\n",
    "\n",
    "    # sub-sample\n",
    "    if sub_sample:\n",
    "        x_train = x_train[::50]\n",
    "        y_train = y_train[::50]\n",
    "\n",
    "    return x_train, y_train, features_names"
   ]
  },
  {
   "cell_type": "code",
   "execution_count": 5,
   "id": "0bdae4c4",
   "metadata": {},
   "outputs": [],
   "source": [
    "x, y, features = load_train_data()"
   ]
  },
  {
   "cell_type": "code",
   "execution_count": 6,
   "id": "29a972f8",
   "metadata": {},
   "outputs": [],
   "source": [
    "feature_indexes = dict(zip(features, range(len(features))))\n",
    "\n",
    "useless_features = [        \"FMONTH\", \"IDATE\", \"IMONTH\", \"IDAY\", \"IYEAR\", \"SEQNO\", \"_PSU\", \"CTELENUM\", \"COLGHOUS\", \"STATERES\", \n",
    "                            \"_STATE\", \"PVTRESD1\", \"LANDLINE\", \"HHADULT\", \"CELLFON3\", \"NUMADULT\", \"NUMMEN\", \"NUMWOMEN\",\n",
    "                            \"CTELNUM1\", \"CELLFON2\", \"PVTRESD2\", \"CCLGHOUS\", \"CSTATE\", \"RENTHOM1\", \"NUMHHOL2\", \"NUMPHON2\",\n",
    "                            \"CPDEMO1\", \"VETERAN3\", \"BLIND\", \"STOPSMK2\", \"LASTSMK2\", \"USENOW3\", \"FLSHTMY2\", \"IMFVPLAC\",\n",
    "                            \"HIVTSTD3\", \"WHRTST10\", \"PDIABTST\", \"CRGVLNG1\", \"CRGVPERS\", \"CRGVHOUS\", \"CRGVMST2\", \"VINOCRE2\",\n",
    "                            \"VIEYEXM2\", \"LONGWTCH\", \"SXORIENT\", \"RCSGENDR\", \"RCSRLTN2\", \"CASTHNO2\", \"EMTSUPRT\", \"LSATISFY\",\n",
    "                            \"ADPLEASR\", \"ADENERGY\", \"ADFAIL\", \"ADTHINK\", \"ADMOVE\", \"_STSTR\", \"_STRWT\", \"_CHISPNC\", \"_CRACE1\",\n",
    "                            \"_CPRACE\", \"_CLLCPWT\", \"_DUALUSE\", \"_DUALCOR\", \"_LLCPWT\", \"_MRACE1\", \"_HISPANC\", \"_RACEG21\",\n",
    "                            \"_RACEGR3\", \"_RACE_G1\", \"_AGEG5YR\", \"_AGE65YR\", \"_AGE_G\", \"_EDUCAG\", \"_INCOMG\", \"FC60_\", \"PAMIN11_\",\n",
    "                            \"PAMIN21_\", \"_PAREC1\", \"_PASTAE1\", \"_RFSEAT2\", \"_RFSEAT3\", \"_FRTRESP\", \"_VEGRESP\", \"_FRUITEX\", \"_VEGETEX\", \"PAMISS1_\"]\n",
    "\n",
    "repetitive_features = [\"LADULT\", \"CADULT\", \"HLTHPLN1\", \"BPHIGH4\", \"BPMEDS\", \"BLOODCHO\", \"CHOLCHK\", \"TOLDHI2\", \n",
    "                       \"ASTHMA3\", \"ASTHNOW\", \"HAVARTH3\", \"EDUCA\", \"CHILDREN\", \"INCOME2\", \"INTERNET\", \"WEIGHT2\",\n",
    "                       \"HEIGHT3\", \"SMOKE100\", \"SMOKDAY2\", \"ALCDAY5\", \"AVEDRNK2\", \"DRNK3GE5\", \"MAXDRNKS\", \"FRUITJU1\",\n",
    "                       \"FRUIT1\", \"FVBEANS\", \"FVGREEN\", \"FVORANG\", \"VEGETAB1\", \"EXERANY2\", \"EXRACT11\", \"EXEROFT1\", \n",
    "                       \"EXERHMM1\", \"EXRACT21\", \"EXEROFT2\", \"EXERHMM2\", \"STRENGTH\", \"FLUSHOT6\", \"PNEUVAC3\", \"HIVTST6\",\n",
    "                       \"_RFHLTH\"]"
   ]
  },
  {
   "cell_type": "code",
   "execution_count": 7,
   "id": "ad536ef9",
   "metadata": {},
   "outputs": [
    {
     "data": {
      "text/plain": [
       "(328135, 321)"
      ]
     },
     "execution_count": 7,
     "metadata": {},
     "output_type": "execute_result"
    }
   ],
   "source": [
    "x.shape"
   ]
  },
  {
   "cell_type": "code",
   "execution_count": 11,
   "id": "73bf5a4d",
   "metadata": {},
   "outputs": [
    {
     "name": "stdout",
     "output_type": "stream",
     "text": [
      "Removed 127 features: ['PAMISS1_', 'INCOME2', 'CADULT', 'STATERES', 'PDIABTST', 'CASTHNO2', '_STSTR', 'VEGETAB1', '_STATE', '_CPRACE', 'RCSGENDR', 'TOLDHI2', '_INCOMG', 'CCLGHOUS', 'CRGVPERS', 'CPDEMO1', 'LASTSMK2', 'PVTRESD1', 'NUMPHON2', 'CHOLCHK', 'CRGVHOUS', 'FRUITJU1', 'HAVARTH3', 'SMOKE100', 'EDUCA', 'NUMWOMEN', 'CRGVMST2', 'PAMIN11_', 'VIEYEXM2', '_DUALUSE', '_PASTAE1', 'ADMOVE', 'HHADULT', 'RCSRLTN2', '_FRUITEX', 'FRUIT1', 'VINOCRE2', '_AGE_G', '_RFSEAT2', 'IMONTH', 'FVBEANS', 'RENTHOM1', 'BLOODCHO', 'FVGREEN', 'IMFVPLAC', 'FC60_', '_STRWT', 'VETERAN3', 'ADTHINK', 'ASTHMA3', '_RFHLTH', 'INTERNET', '_CRACE1', 'CELLFON3', '_PSU', 'AVEDRNK2', 'HLTHPLN1', '_RACEGR3', 'EXERHMM2', 'FMONTH', '_RACE_G1', 'SEQNO', 'SXORIENT', '_LLCPWT', '_RACEG21', 'IDATE', 'WEIGHT2', 'COLGHOUS', '_CHISPNC', 'IDAY', 'ADPLEASR', 'EXERHMM1', 'LONGWTCH', 'NUMADULT', '_PAREC1', 'PNEUVAC3', 'BPMEDS', '_CLLCPWT', 'CTELENUM', 'LANDLINE', 'NUMHHOL2', '_RFSEAT3', '_AGE65YR', '_DUALCOR', 'EXEROFT1', 'FLSHTMY2', 'ADENERGY', '_VEGETEX', '_AGEG5YR', 'EXEROFT2', 'HEIGHT3', 'MAXDRNKS', 'PAMIN21_', 'FLUSHOT6', '_VEGRESP', 'BPHIGH4', 'STOPSMK2', '_EDUCAG', 'LSATISFY', 'EXRACT21', 'ADFAIL', 'IYEAR', 'DRNK3GE5', 'CELLFON2', 'FVORANG', 'PVTRESD2', 'WHRTST10', 'CSTATE', '_HISPANC', 'EXRACT11', 'CRGVLNG1', 'HIVTST6', 'CTELNUM1', 'HIVTSTD3', 'USENOW3', 'STRENGTH', 'ASTHNOW', 'EXERANY2', 'NUMMEN', 'EMTSUPRT', 'SMOKDAY2', '_MRACE1', 'CHILDREN', 'LADULT', 'BLIND', 'ALCDAY5', '_FRTRESP']\n",
      "Removed 80 features: ['INSULIN', 'BLDSUGAR', 'FEETCHK2', 'DOCTDIAB', 'CHKHEMO3', 'FEETCHK', 'EYEEXAM', 'DIABEYE', 'DIABEDU', 'CRGVREL1', 'CRGVHRS1', 'CRGVPRB1', 'VIDFCLT2', 'VIREDIF3', 'VIPRFVS2', 'VIINSUR2', 'VICTRCT4', 'VIGLUMA2', 'VIMACDG2', 'CDHOUSE', 'CDASSIST', 'CDHELP', 'CDSOCIAL', 'CDDISCUS', 'WTCHSALT', 'DRADVISE', 'ASTHMAGE', 'ASATTACK', 'ASERVIST', 'ASDRVIST', 'ASRCHKUP', 'ASACTLIM', 'ASYMPTOM', 'ASNOSLEP', 'ASTHMED3', 'ASINHALR', 'HAREHAB1', 'STREHAB1', 'CVDASPRN', 'ASPUNSAF', 'RLIVPAIN', 'RDUCHART', 'RDUCSTRK', 'ARTTODAY', 'ARTHWGT', 'ARTHEXER', 'ARTHEDU', 'TETANUS', 'HPVADVC2', 'HPVADSHT', 'SHINGLE2', 'HADMAM', 'HOWLONG', 'HADPAP2', 'LASTPAP2', 'HPVTEST', 'HPLSTTST', 'HADHYST2', 'PROFEXAM', 'LENGEXAM', 'LSTBLDS3', 'HADSGCO1', 'LASTSIG3', 'PCPSAAD2', 'PCPSADI1', 'PCPSARE1', 'PSATEST1', 'PSATIME', 'PCPSARS1', 'PCPSADE1', 'PCDMDECN', 'SCNTPAID', 'SCNTWRK1', 'SCNTLPAD', 'SCNTLWK1', 'ADDOWN', 'ADSLEEP', 'ADEAT1', 'MISTMNT', 'ADANXEV']\n"
     ]
    }
   ],
   "source": [
    "# Remove useless and repetitive features\n",
    "clean_x, clean_features, clean_feature_indexes = drop_feature(x, list(set(useless_features).union(set(repetitive_features))), features, feature_indexes)\n",
    "\n",
    "# Remove features with more than 90% of NaN values\n",
    "clean_x, clean_features, clean_feature_indexes = drop_feature_threshold(clean_x, clean_features, clean_feature_indexes, threshold=0.9)"
   ]
  },
  {
   "cell_type": "code",
   "execution_count": null,
   "id": "3835b108",
   "metadata": {},
   "outputs": [],
   "source": []
  }
 ],
 "metadata": {
  "kernelspec": {
   "display_name": "ML_env",
   "language": "python",
   "name": "python3"
  },
  "language_info": {
   "codemirror_mode": {
    "name": "ipython",
    "version": 3
   },
   "file_extension": ".py",
   "mimetype": "text/x-python",
   "name": "python",
   "nbconvert_exporter": "python",
   "pygments_lexer": "ipython3",
   "version": "3.11.5"
  }
 },
 "nbformat": 4,
 "nbformat_minor": 5
}
