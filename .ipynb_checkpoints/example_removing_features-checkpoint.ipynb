{
 "cells": [
  {
   "cell_type": "code",
   "execution_count": null,
   "id": "fc6b3c95",
   "metadata": {},
   "outputs": [],
   "source": [
    "import sys\n",
    "# Add the path to the scripts folder\n",
    "sys.path.append('util/')\n",
    "\n",
    "import numpy as np\n",
    "from util.features_util import *\n",
    "from helpers import *"
   ]
  },
  {
   "cell_type": "code",
   "execution_count": null,
   "id": "94a29480",
   "metadata": {},
   "outputs": [],
   "source": [
    "def load_train_data(sub_sample=False):\n",
    "    path_x_train = \"data/x_train.csv\"\n",
    "    path_y_train = \"data/y_train.csv\"\n",
    "\n",
    "    features_names = np.genfromtxt(\n",
    "        path_x_train, \n",
    "        delimiter=\",\", \n",
    "        dtype=str,\n",
    "        max_rows=1\n",
    "    )\n",
    "\n",
    "    x_train = np.genfromtxt(\n",
    "        path_x_train, \n",
    "        delimiter=\",\", \n",
    "        skip_header=1\n",
    "    )\n",
    "    \n",
    "    y_train = np.genfromtxt(\n",
    "        path_y_train,\n",
    "        delimiter=\",\",\n",
    "        skip_header=1,\n",
    "        usecols=0\n",
    "    )\n",
    "\n",
    "    # sub-sample\n",
    "    if sub_sample:\n",
    "        x_train = x_train[::50]\n",
    "        y_train = y_train[::50]\n",
    "\n",
    "    return x_train, y_train, features_names"
   ]
  },
  {
   "cell_type": "code",
   "execution_count": null,
   "id": "0bdae4c4",
   "metadata": {},
   "outputs": [],
   "source": [
    "# Import data and create the dictionary of features\n",
    "x, y, features = load_train_data()\n",
    "\n",
    "feature_indexes = dict(zip(features, range(len(features))))"
   ]
  },
  {
   "cell_type": "code",
   "execution_count": null,
   "id": "92e780c0",
   "metadata": {},
   "outputs": [],
   "source": [
    "x.shape"
   ]
  },
  {
   "cell_type": "code",
   "execution_count": null,
   "id": "29a972f8",
   "metadata": {},
   "outputs": [],
   "source": [
    "# Example: keep only the features in the section \"Fruit & Veg\"\n",
    "healthy_food_features = [\"FTJUDA1_\", \"FRUTDA1_\", \"BEANDAY_\", \"GRENDAY_\", \"ORNGDAY_\", \"VEGEDA1_\", \"_MISFRTN\", \"_MISVEGN\", \"_FRUTSUM\", \"_VEGESUM\", \"_FRTLT1\", \"_VEGLT1\", \"_FRT16\", \"_VEG23\"]\n",
    "\n",
    "clean_x, clean_features, clean_feature_indexes = keep_features(x, healthy_food_features, features, feature_indexes)"
   ]
  },
  {
   "cell_type": "code",
   "execution_count": null,
   "id": "3c2e0d4e",
   "metadata": {},
   "outputs": [],
   "source": [
    "clean_x.shape"
   ]
  }
 ],
 "metadata": {
  "kernelspec": {
   "display_name": "ML_env",
   "language": "python",
   "name": "python3"
  },
  "language_info": {
   "codemirror_mode": {
    "name": "ipython",
    "version": 3
   },
   "file_extension": ".py",
   "mimetype": "text/x-python",
   "name": "python",
   "nbconvert_exporter": "python",
   "pygments_lexer": "ipython3",
   "version": "3.11.5"
  }
 },
 "nbformat": 4,
 "nbformat_minor": 5
}
