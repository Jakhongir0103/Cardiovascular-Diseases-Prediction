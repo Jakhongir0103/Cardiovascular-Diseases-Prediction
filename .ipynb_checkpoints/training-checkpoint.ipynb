{
 "cells": [
  {
   "cell_type": "code",
   "execution_count": null,
   "id": "initial_id",
   "metadata": {
    "collapsed": true
   },
   "outputs": [],
   "source": [
    "# LOAD DATASET\n",
    "from util.data_loader import load_dataset\n",
    "x_train, y_train, x_test, feature_names = load_dataset(path_x_train=\"data/dataset/x_train.csv\",\n",
    "                                                       path_y_train=\"data/dataset/y_train.csv\",\n",
    "                                                       path_x_test=\"data/dataset/x_test.csv\")"
   ]
  },
  {
   "cell_type": "code",
   "execution_count": null,
   "outputs": [],
   "source": [
    "# REMOVE USELESS FEATURES\n",
    "from util.features_info import FEATURES_DICT\n",
    "from util.features_util import keep_features\n",
    "feature_indexes = dict(zip(feature_names, range(len(feature_names))))\n",
    "x_clean, clean_features, clean_feature_index = keep_features(x_train, FEATURES_DICT.keys(), feature_names, feature_indexes)"
   ],
   "metadata": {
    "collapsed": false
   },
   "id": "e689f404263de818"
  },
  {
   "cell_type": "code",
   "execution_count": null,
   "outputs": [],
   "source": [
    "# PREPROCESS KEPT FEATURES\n",
    "from util.features_info import REPLACEMENT_LIST\n",
    "from util.preprocessing import preprocessing_pipeline\n",
    "x_preprocessed = preprocessing_pipeline(x_clean, where=clean_features, feature_index=clean_feature_index,\n",
    "                                        nan_replacement=REPLACEMENT_LIST)"
   ],
   "metadata": {
    "collapsed": false
   },
   "id": "27a66579f5168c5e"
  },
  {
   "cell_type": "code",
   "execution_count": null,
   "outputs": [],
   "source": [],
   "metadata": {
    "collapsed": false
   },
   "id": "78216bae25f9daf1"
  }
 ],
 "metadata": {
  "kernelspec": {
   "display_name": "Python 3",
   "language": "python",
   "name": "python3"
  },
  "language_info": {
   "codemirror_mode": {
    "name": "ipython",
    "version": 2
   },
   "file_extension": ".py",
   "mimetype": "text/x-python",
   "name": "python",
   "nbconvert_exporter": "python",
   "pygments_lexer": "ipython2",
   "version": "2.7.6"
  }
 },
 "nbformat": 4,
 "nbformat_minor": 5
}
