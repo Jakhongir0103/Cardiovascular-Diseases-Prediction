{
 "cells": [
  {
   "cell_type": "code",
   "execution_count": 3,
   "outputs": [],
   "source": [
    "import os\n",
    "import pickle\n",
    "\n",
    "import numpy as np\n",
    "import matplotlib.pyplot as plt\n",
    "import seaborn as sns\n",
    "\n",
    "from util.data_loader import (load_dataset, split_train_validation, \n",
    "                              custom_random_oversampling, create_csv_submission,\n",
    "                              change_negative_class)\n",
    "from util.features_util import keep_features\n",
    "from util.features_info import FEATURES_DICT, REPLACEMENT_LIST\n",
    "from util.preprocessing import preprocessing_pipeline\n",
    "from util.train import reg_logistic_regression\n",
    "from util.plotting import loss_visualization\n",
    "from util.evaluation import evaluation_summary\n",
    "from util.util import init_random_seeds\n",
    "from util.predict import predict, predict_no_labels\n",
    "\n",
    "init_random_seeds()\n",
    "\n",
    "BASE_PATH = os.path.dirname(os.getcwd()) + \"/data\""
   ],
   "metadata": {
    "collapsed": false,
    "ExecuteTime": {
     "end_time": "2023-10-27T18:03:56.483521Z",
     "start_time": "2023-10-27T18:03:56.478411Z"
    }
   },
   "id": "85c380c8a2d01dff"
  },
  {
   "cell_type": "markdown",
   "source": [
    "# Data loading"
   ],
   "metadata": {
    "collapsed": false
   },
   "id": "3b64d4bcc611d949"
  },
  {
   "cell_type": "markdown",
   "source": [
    "### ⚠️ Note that the `x_sub` here refers to data for which predictions will be made, but for which we don't have the labels! To refer to the data used for local testing we'll use `x_va` and `y_va` (validation)."
   ],
   "metadata": {
    "collapsed": false
   },
   "id": "a5937ab513c67357"
  },
  {
   "cell_type": "code",
   "execution_count": 4,
   "id": "initial_id",
   "metadata": {
    "collapsed": true,
    "ExecuteTime": {
     "end_time": "2023-10-27T18:03:59.711233Z",
     "start_time": "2023-10-27T18:03:57.816858Z"
    }
   },
   "outputs": [
    {
     "ename": "KeyboardInterrupt",
     "evalue": "",
     "output_type": "error",
     "traceback": [
      "\u001B[0;31m---------------------------------------------------------------------------\u001B[0m",
      "\u001B[0;31mKeyboardInterrupt\u001B[0m                         Traceback (most recent call last)",
      "Cell \u001B[0;32mIn[4], line 2\u001B[0m\n\u001B[1;32m      1\u001B[0m \u001B[38;5;66;03m# Load data without subsampling\u001B[39;00m\n\u001B[0;32m----> 2\u001B[0m x_train, y_train, x_sub, feature_names \u001B[38;5;241m=\u001B[39m \u001B[43mload_dataset\u001B[49m\u001B[43m(\u001B[49m\u001B[43mpath_x_train\u001B[49m\u001B[38;5;241;43m=\u001B[39;49m\u001B[43mBASE_PATH\u001B[49m\u001B[43m \u001B[49m\u001B[38;5;241;43m+\u001B[39;49m\u001B[43m \u001B[49m\u001B[38;5;124;43m\"\u001B[39;49m\u001B[38;5;124;43m/x_train.csv\u001B[39;49m\u001B[38;5;124;43m\"\u001B[39;49m\u001B[43m,\u001B[49m\n\u001B[1;32m      3\u001B[0m \u001B[43m                                                      \u001B[49m\u001B[43mpath_y_train\u001B[49m\u001B[38;5;241;43m=\u001B[39;49m\u001B[43mBASE_PATH\u001B[49m\u001B[43m \u001B[49m\u001B[38;5;241;43m+\u001B[39;49m\u001B[43m \u001B[49m\u001B[38;5;124;43m\"\u001B[39;49m\u001B[38;5;124;43m/y_train.csv\u001B[39;49m\u001B[38;5;124;43m\"\u001B[39;49m\u001B[43m,\u001B[49m\n\u001B[1;32m      4\u001B[0m \u001B[43m                                                      \u001B[49m\u001B[43mpath_x_test\u001B[49m\u001B[38;5;241;43m=\u001B[39;49m\u001B[43mBASE_PATH\u001B[49m\u001B[43m \u001B[49m\u001B[38;5;241;43m+\u001B[39;49m\u001B[43m \u001B[49m\u001B[38;5;124;43m\"\u001B[39;49m\u001B[38;5;124;43m/x_test.csv\u001B[39;49m\u001B[38;5;124;43m\"\u001B[39;49m\u001B[43m,\u001B[49m\n\u001B[1;32m      5\u001B[0m \u001B[43m                                                      \u001B[49m\u001B[43msub_sample\u001B[49m\u001B[38;5;241;43m=\u001B[39;49m\u001B[38;5;28;43;01mFalse\u001B[39;49;00m\u001B[43m)\u001B[49m\n\u001B[1;32m      6\u001B[0m \u001B[38;5;66;03m# Create the feature index dictionary\u001B[39;00m\n\u001B[1;32m      7\u001B[0m feature_indexes \u001B[38;5;241m=\u001B[39m \u001B[38;5;28mdict\u001B[39m(\u001B[38;5;28mzip\u001B[39m(feature_names, \u001B[38;5;28mrange\u001B[39m(\u001B[38;5;28mlen\u001B[39m(feature_names))))\n",
      "File \u001B[0;32m~/EPFL-courses/ML/ML-proj_1/ml-project-1-sarcastic-gradient-descent/util/data_loader.py:20\u001B[0m, in \u001B[0;36mload_dataset\u001B[0;34m(path_x_train, path_y_train, path_x_test, sub_sample)\u001B[0m\n\u001B[1;32m      9\u001B[0m \u001B[38;5;250m\u001B[39m\u001B[38;5;124;03m\"\"\"\u001B[39;00m\n\u001B[1;32m     10\u001B[0m \u001B[38;5;124;03mLoads the dataset\u001B[39;00m\n\u001B[1;32m     11\u001B[0m \u001B[38;5;124;03m:param path_x_train: path of x_train.csv\u001B[39;00m\n\u001B[0;32m   (...)\u001B[0m\n\u001B[1;32m     15\u001B[0m \u001B[38;5;124;03m:return: (x_train: np.ndarray, y_train: np.ndarray, x_test: np.ndarray, feature_names: List)\u001B[39;00m\n\u001B[1;32m     16\u001B[0m \u001B[38;5;124;03m\"\"\"\u001B[39;00m\n\u001B[1;32m     18\u001B[0m features_names \u001B[38;5;241m=\u001B[39m np\u001B[38;5;241m.\u001B[39mgenfromtxt(path_x_train, delimiter\u001B[38;5;241m=\u001B[39m\u001B[38;5;124m\"\u001B[39m\u001B[38;5;124m,\u001B[39m\u001B[38;5;124m\"\u001B[39m, dtype\u001B[38;5;241m=\u001B[39m\u001B[38;5;28mstr\u001B[39m, max_rows\u001B[38;5;241m=\u001B[39m\u001B[38;5;241m1\u001B[39m)\n\u001B[0;32m---> 20\u001B[0m x_train \u001B[38;5;241m=\u001B[39m \u001B[43mnp\u001B[49m\u001B[38;5;241;43m.\u001B[39;49m\u001B[43mgenfromtxt\u001B[49m\u001B[43m(\u001B[49m\u001B[43mpath_x_train\u001B[49m\u001B[43m,\u001B[49m\u001B[43m \u001B[49m\u001B[43mdelimiter\u001B[49m\u001B[38;5;241;43m=\u001B[39;49m\u001B[38;5;124;43m\"\u001B[39;49m\u001B[38;5;124;43m,\u001B[39;49m\u001B[38;5;124;43m\"\u001B[39;49m\u001B[43m,\u001B[49m\u001B[43m \u001B[49m\u001B[43mskip_header\u001B[49m\u001B[38;5;241;43m=\u001B[39;49m\u001B[38;5;241;43m1\u001B[39;49m\u001B[43m)\u001B[49m\n\u001B[1;32m     22\u001B[0m y_train \u001B[38;5;241m=\u001B[39m np\u001B[38;5;241m.\u001B[39mgenfromtxt(path_y_train, delimiter\u001B[38;5;241m=\u001B[39m\u001B[38;5;124m\"\u001B[39m\u001B[38;5;124m,\u001B[39m\u001B[38;5;124m\"\u001B[39m, skip_header\u001B[38;5;241m=\u001B[39m\u001B[38;5;241m1\u001B[39m)\n\u001B[1;32m     24\u001B[0m x_test \u001B[38;5;241m=\u001B[39m np\u001B[38;5;241m.\u001B[39mgenfromtxt(path_x_test, delimiter\u001B[38;5;241m=\u001B[39m\u001B[38;5;124m\"\u001B[39m\u001B[38;5;124m,\u001B[39m\u001B[38;5;124m\"\u001B[39m, skip_header\u001B[38;5;241m=\u001B[39m\u001B[38;5;241m1\u001B[39m)\n",
      "File \u001B[0;32m~/anaconda3/envs/ada/lib/python3.9/site-packages/numpy/lib/npyio.py:2248\u001B[0m, in \u001B[0;36mgenfromtxt\u001B[0;34m(fname, dtype, comments, delimiter, skip_header, skip_footer, converters, missing_values, filling_values, usecols, names, excludelist, deletechars, replace_space, autostrip, case_sensitive, defaultfmt, unpack, usemask, loose, invalid_raise, max_rows, encoding, ndmin, like)\u001B[0m\n\u001B[1;32m   2246\u001B[0m \u001B[38;5;66;03m# Parse each line\u001B[39;00m\n\u001B[1;32m   2247\u001B[0m \u001B[38;5;28;01mfor\u001B[39;00m (i, line) \u001B[38;5;129;01min\u001B[39;00m \u001B[38;5;28menumerate\u001B[39m(itertools\u001B[38;5;241m.\u001B[39mchain([first_line, ], fhd)):\n\u001B[0;32m-> 2248\u001B[0m     values \u001B[38;5;241m=\u001B[39m \u001B[43msplit_line\u001B[49m\u001B[43m(\u001B[49m\u001B[43mline\u001B[49m\u001B[43m)\u001B[49m\n\u001B[1;32m   2249\u001B[0m     nbvalues \u001B[38;5;241m=\u001B[39m \u001B[38;5;28mlen\u001B[39m(values)\n\u001B[1;32m   2250\u001B[0m     \u001B[38;5;66;03m# Skip an empty line\u001B[39;00m\n",
      "File \u001B[0;32m~/anaconda3/envs/ada/lib/python3.9/site-packages/numpy/lib/_iotools.py:226\u001B[0m, in \u001B[0;36mLineSplitter.__call__\u001B[0;34m(self, line)\u001B[0m\n\u001B[1;32m    225\u001B[0m \u001B[38;5;28;01mdef\u001B[39;00m \u001B[38;5;21m__call__\u001B[39m(\u001B[38;5;28mself\u001B[39m, line):\n\u001B[0;32m--> 226\u001B[0m     \u001B[38;5;28;01mreturn\u001B[39;00m \u001B[38;5;28;43mself\u001B[39;49m\u001B[38;5;241;43m.\u001B[39;49m\u001B[43m_handyman\u001B[49m\u001B[43m(\u001B[49m\u001B[43m_decode_line\u001B[49m\u001B[43m(\u001B[49m\u001B[43mline\u001B[49m\u001B[43m,\u001B[49m\u001B[43m \u001B[49m\u001B[38;5;28;43mself\u001B[39;49m\u001B[38;5;241;43m.\u001B[39;49m\u001B[43mencoding\u001B[49m\u001B[43m)\u001B[49m\u001B[43m)\u001B[49m\n",
      "File \u001B[0;32m~/anaconda3/envs/ada/lib/python3.9/site-packages/numpy/lib/_iotools.py:201\u001B[0m, in \u001B[0;36mLineSplitter._delimited_splitter\u001B[0;34m(self, line)\u001B[0m\n\u001B[1;32m    199\u001B[0m \u001B[38;5;250m\u001B[39m\u001B[38;5;124;03m\"\"\"Chop off comments, strip, and split at delimiter. \"\"\"\u001B[39;00m\n\u001B[1;32m    200\u001B[0m \u001B[38;5;28;01mif\u001B[39;00m \u001B[38;5;28mself\u001B[39m\u001B[38;5;241m.\u001B[39mcomments \u001B[38;5;129;01mis\u001B[39;00m \u001B[38;5;129;01mnot\u001B[39;00m \u001B[38;5;28;01mNone\u001B[39;00m:\n\u001B[0;32m--> 201\u001B[0m     line \u001B[38;5;241m=\u001B[39m \u001B[43mline\u001B[49m\u001B[38;5;241;43m.\u001B[39;49m\u001B[43msplit\u001B[49m\u001B[43m(\u001B[49m\u001B[38;5;28;43mself\u001B[39;49m\u001B[38;5;241;43m.\u001B[39;49m\u001B[43mcomments\u001B[49m\u001B[43m)\u001B[49m[\u001B[38;5;241m0\u001B[39m]\n\u001B[1;32m    202\u001B[0m line \u001B[38;5;241m=\u001B[39m line\u001B[38;5;241m.\u001B[39mstrip(\u001B[38;5;124m\"\u001B[39m\u001B[38;5;124m \u001B[39m\u001B[38;5;130;01m\\r\u001B[39;00m\u001B[38;5;130;01m\\n\u001B[39;00m\u001B[38;5;124m\"\u001B[39m)\n\u001B[1;32m    203\u001B[0m \u001B[38;5;28;01mif\u001B[39;00m \u001B[38;5;129;01mnot\u001B[39;00m line:\n",
      "\u001B[0;31mKeyboardInterrupt\u001B[0m: "
     ]
    }
   ],
   "source": [
    "# Load data without subsampling\n",
    "x_train, y_train, x_sub, feature_names = load_dataset(path_x_train=BASE_PATH + \"/x_train.csv\",\n",
    "                                                      path_y_train=BASE_PATH + \"/y_train.csv\",\n",
    "                                                      path_x_test=BASE_PATH + \"/x_test.csv\",\n",
    "                                                      sub_sample=False)\n",
    "# Create the feature index dictionary\n",
    "feature_indexes = dict(zip(feature_names, range(len(feature_names))))"
   ]
  },
  {
   "cell_type": "markdown",
   "source": [
    "# Pre-processing"
   ],
   "metadata": {
    "collapsed": false
   },
   "id": "36e3edd16fb40470"
  },
  {
   "cell_type": "code",
   "execution_count": null,
   "outputs": [],
   "source": [
    "# Keeping only selected features both in train and validation set\n",
    "x_train_clean, clean_features, clean_feature_index = keep_features(x_train, FEATURES_DICT.keys(), feature_names, feature_indexes, verbose=False)\n",
    "\n",
    "\n",
    "\n",
    "# "
   ],
   "metadata": {
    "collapsed": false,
    "ExecuteTime": {
     "start_time": "2023-10-27T18:03:52.910980Z"
    }
   },
   "id": "e689f404263de818"
  },
  {
   "cell_type": "code",
   "execution_count": 4,
   "outputs": [],
   "source": [
    "# Call to the preprocessing pipeline both for train and test set\n",
    "# NOTE: the preprocessing automatically performs also normalization\n",
    "\n",
    "x_train_preprocessed = preprocessing_pipeline(x_train_clean, \n",
    "                                              where=clean_features,\n",
    "                                              feature_index=clean_feature_index,\n",
    "                                              nan_replacement=REPLACEMENT_LIST,\n",
    "                                              normalize=\"mixed\")"
   ],
   "metadata": {
    "collapsed": false,
    "ExecuteTime": {
     "end_time": "2023-10-27T17:26:39.392211Z",
     "start_time": "2023-10-27T17:26:08.235866Z"
    }
   },
   "id": "27a66579f5168c5e"
  },
  {
   "cell_type": "markdown",
   "source": [
    "## Split local data into train and validation"
   ],
   "metadata": {
    "collapsed": false
   },
   "id": "586b891cc87308d6"
  },
  {
   "cell_type": "markdown",
   "source": [
    "#### From now on we'll use the local train and validation data: `x_tr` and `y_tr` for training and `x_va` and `y_va` for validation"
   ],
   "metadata": {
    "collapsed": false
   },
   "id": "e62ba34f804ff725"
  },
  {
   "cell_type": "code",
   "execution_count": 5,
   "outputs": [],
   "source": [
    "# Translate labels from -1/1 to 0/1\n",
    "y_train = change_negative_class(y_train[:, 1], current=-1, new=0)\n",
    "\n",
    "# Split local data into train and validation\n",
    "(x_tr, x_va, y_tr, y_va) = split_train_validation(x_train_preprocessed,\n",
    "                                                  y_train,\n",
    "                                                  valid_proportion=0.2)"
   ],
   "metadata": {
    "collapsed": false,
    "ExecuteTime": {
     "end_time": "2023-10-27T17:26:39.469604Z",
     "start_time": "2023-10-27T17:26:39.393258Z"
    }
   },
   "id": "78216bae25f9daf1"
  },
  {
   "cell_type": "markdown",
   "source": [
    "## Data preparation for training"
   ],
   "metadata": {
    "collapsed": false
   },
   "id": "dad9faf89279df11"
  },
  {
   "cell_type": "code",
   "execution_count": 6,
   "outputs": [],
   "source": [
    "# NO OVERSAMPLING in this version\n",
    "\n",
    "# Add bias column to the training and validation data\n",
    "x_tr_bias = np.append(x_tr, np.ones(shape=(x_tr.shape[0], 1)), axis=1)\n",
    "x_va_bias = np.append(x_va, np.ones(shape=(x_va.shape[0], 1)), axis=1)\n"
   ],
   "metadata": {
    "collapsed": false,
    "ExecuteTime": {
     "end_time": "2023-10-27T17:26:39.542815Z",
     "start_time": "2023-10-27T17:26:39.470785Z"
    }
   },
   "id": "ec5c3da2192a614c"
  },
  {
   "cell_type": "markdown",
   "source": [
    "# Training"
   ],
   "metadata": {
    "collapsed": false
   },
   "id": "36603cf5d842e758"
  },
  {
   "cell_type": "code",
   "execution_count": 9,
   "outputs": [],
   "source": [
    "from util.train import reg_logistic_regression_hyperparameters\n",
    "import pickle\n",
    "\n",
    "lambdas_ = [0.0001, 0.001, 0.01]\n",
    "gammas = [0.01, 0.05, 0.1, 0.5]\n",
    "batch_sizes = [500, 5000, 10000]\n",
    "\n",
    "hyperparameters = {\n",
    "    \"lambda_\": lambdas_,\n",
    "    \"gamma\": gammas,\n",
    "    \"batch_size\": batch_sizes,\n",
    "    \"optimizer\": [\"sgd\"]\n",
    "}"
   ],
   "metadata": {
    "collapsed": false,
    "ExecuteTime": {
     "end_time": "2023-10-27T17:27:22.619314Z",
     "start_time": "2023-10-27T17:27:22.613534Z"
    }
   },
   "id": "a2d6de69bc4a90b4"
  },
  {
   "cell_type": "code",
   "execution_count": null,
   "outputs": [
    {
     "name": "stdout",
     "output_type": "stream",
     "text": [
      "Iteration 0/5000 -> lowest loss inf\n",
      "Iteration 200/5000 -> lowest loss 2.2721576197821785\n",
      "Iteration 400/5000 -> lowest loss 1.5450867887259807\n",
      "Iteration 600/5000 -> lowest loss 1.1029804684836204\n",
      "Iteration 800/5000 -> lowest loss 0.7962107316219671\n",
      "Iteration 1000/5000 -> lowest loss 0.5941908574597533\n",
      "Iteration 1200/5000 -> lowest loss 0.47203068002594645\n",
      "Iteration 1400/5000 -> lowest loss 0.4024570731459295\n",
      "Iteration 1600/5000 -> lowest loss 0.3597763617495505\n",
      "Iteration 1800/5000 -> lowest loss 0.33082694930234513\n",
      "Iteration 2000/5000 -> lowest loss 0.3098765253689637\n",
      "Iteration 2200/5000 -> lowest loss 0.2938892008743678\n",
      "Iteration 2400/5000 -> lowest loss 0.2813962015420893\n",
      "Iteration 2600/5000 -> lowest loss 0.2716372463887492\n",
      "Iteration 2800/5000 -> lowest loss 0.2633479423216804\n",
      "Iteration 3000/5000 -> lowest loss 0.2565084715438245\n",
      "Iteration 3200/5000 -> lowest loss 0.2510127655219539\n",
      "Iteration 3400/5000 -> lowest loss 0.24642109595396153\n",
      "Iteration 3600/5000 -> lowest loss 0.2422842107103062\n",
      "Iteration 3800/5000 -> lowest loss 0.23908760268679027\n",
      "Iteration 4000/5000 -> lowest loss 0.23619009761198687\n",
      "Iteration 4200/5000 -> lowest loss 0.233762594945466\n",
      "Iteration 4400/5000 -> lowest loss 0.23180260328828867\n",
      "Iteration 4600/5000 -> lowest loss 0.23018715988243957\n",
      "Iteration 4800/5000 -> lowest loss 0.22882704299549617\n",
      "Iteration 0/5000 -> lowest loss inf\n",
      "Iteration 200/5000 -> lowest loss 1.962991072224316\n",
      "Iteration 400/5000 -> lowest loss 1.330215131221249\n",
      "Iteration 600/5000 -> lowest loss 0.9396845511127325\n",
      "Iteration 800/5000 -> lowest loss 0.6870110105232049\n",
      "Iteration 1000/5000 -> lowest loss 0.5339912478172016\n",
      "Iteration 1200/5000 -> lowest loss 0.44391543887701906\n",
      "Iteration 1400/5000 -> lowest loss 0.38925955695537734\n",
      "Iteration 1600/5000 -> lowest loss 0.35350802792836805\n",
      "Iteration 1800/5000 -> lowest loss 0.3286144541375255\n",
      "Iteration 2000/5000 -> lowest loss 0.3102533954526616\n",
      "Iteration 2200/5000 -> lowest loss 0.29595839712109556\n",
      "Iteration 2400/5000 -> lowest loss 0.2846228073935413\n",
      "Iteration 2600/5000 -> lowest loss 0.27533229635261297\n",
      "Iteration 2800/5000 -> lowest loss 0.2676622064518037\n",
      "Iteration 3000/5000 -> lowest loss 0.26118898798887885\n",
      "Iteration 3200/5000 -> lowest loss 0.25567619550465237\n",
      "Iteration 3400/5000 -> lowest loss 0.250999332788453\n",
      "Iteration 3600/5000 -> lowest loss 0.247051634780282\n",
      "Iteration 3800/5000 -> lowest loss 0.2436627509688745\n",
      "Iteration 4000/5000 -> lowest loss 0.2408474337572305\n",
      "Iteration 4200/5000 -> lowest loss 0.2384896788903524\n",
      "Iteration 4400/5000 -> lowest loss 0.23653739451881606\n",
      "Iteration 4600/5000 -> lowest loss 0.23480191803114558\n",
      "Iteration 4800/5000 -> lowest loss 0.23332875253311225\n",
      "Iteration 0/5000 -> lowest loss inf\n",
      "Iteration 200/5000 -> lowest loss 1.9727874018260134\n",
      "Iteration 400/5000 -> lowest loss 1.396216021346007\n",
      "Iteration 600/5000 -> lowest loss 1.015020035157029\n",
      "Iteration 800/5000 -> lowest loss 0.749202593221126\n",
      "Iteration 1000/5000 -> lowest loss 0.5730940283824779\n",
      "Iteration 1200/5000 -> lowest loss 0.46736437322785535\n",
      "Iteration 1400/5000 -> lowest loss 0.40490281427722186\n",
      "Iteration 1600/5000 -> lowest loss 0.3646127741308985\n",
      "Iteration 1800/5000 -> lowest loss 0.33612758555350336\n",
      "Iteration 2000/5000 -> lowest loss 0.315262413347646\n",
      "Iteration 2200/5000 -> lowest loss 0.29927451501663277\n",
      "Iteration 2400/5000 -> lowest loss 0.2868306851243566\n",
      "Iteration 2600/5000 -> lowest loss 0.27669552481659365\n",
      "Iteration 2800/5000 -> lowest loss 0.2686476620070538\n",
      "Iteration 3000/5000 -> lowest loss 0.2620074721692391\n",
      "Iteration 3200/5000 -> lowest loss 0.256362057518833\n",
      "Iteration 3400/5000 -> lowest loss 0.25158374998538136\n",
      "Iteration 3600/5000 -> lowest loss 0.2475447512862469\n",
      "Iteration 3800/5000 -> lowest loss 0.24407597486967705\n",
      "Iteration 4000/5000 -> lowest loss 0.24114697270554675\n",
      "Iteration 4200/5000 -> lowest loss 0.23853712358584764\n",
      "Iteration 4400/5000 -> lowest loss 0.2362596575164882\n",
      "Iteration 4600/5000 -> lowest loss 0.23424521946267368\n",
      "Iteration 4800/5000 -> lowest loss 0.23251257545420023\n",
      "Iteration 0/5000 -> lowest loss inf\n",
      "Iteration 200/5000 -> lowest loss 0.5475935541298219\n",
      "Iteration 400/5000 -> lowest loss 0.29077162404433754\n",
      "Iteration 600/5000 -> lowest loss 0.24816577635597134\n",
      "Iteration 800/5000 -> lowest loss 0.23355828112794266\n",
      "Iteration 1000/5000 -> lowest loss 0.22754277452277352\n",
      "Iteration 1200/5000 -> lowest loss 0.22467100821212138\n",
      "Iteration 1400/5000 -> lowest loss 0.22298978258526148\n",
      "Iteration 1600/5000 -> lowest loss 0.22181534608660328\n",
      "Iteration 1800/5000 -> lowest loss 0.22115964686480283\n",
      "Iteration 2000/5000 -> lowest loss 0.22049510203967015\n",
      "Iteration 2200/5000 -> lowest loss 0.2201454510969562\n",
      "Iteration 2400/5000 -> lowest loss 0.22001318605813278\n",
      "Iteration 2600/5000 -> lowest loss 0.22001318605813278\n",
      "Iteration 2800/5000 -> lowest loss 0.21992384210611124\n",
      "Iteration 3000/5000 -> lowest loss 0.2195869815610246\n",
      "Iteration 3200/5000 -> lowest loss 0.21936783474240362\n",
      "Iteration 3400/5000 -> lowest loss 0.21936783474240362\n",
      "Iteration 3600/5000 -> lowest loss 0.21919508452636524\n",
      "Iteration 3800/5000 -> lowest loss 0.21911671204772074\n",
      "Iteration 4000/5000 -> lowest loss 0.21911671204772074\n",
      "Iteration 4200/5000 -> lowest loss 0.21911671204772074\n",
      "Iteration 4400/5000 -> lowest loss 0.21911671204772074\n",
      "Iteration 4600/5000 -> lowest loss 0.21906206722437882\n",
      "Iteration 4800/5000 -> lowest loss 0.21906206722437882\n",
      "Iteration 0/5000 -> lowest loss inf\n",
      "Iteration 200/5000 -> lowest loss 0.5165166269401879\n",
      "Iteration 400/5000 -> lowest loss 0.29661933739249446\n",
      "Iteration 600/5000 -> lowest loss 0.2536649121333549\n",
      "Iteration 800/5000 -> lowest loss 0.236323717798853\n",
      "Iteration 1000/5000 -> lowest loss 0.2282377867952012\n",
      "Iteration 1200/5000 -> lowest loss 0.2246184680066999\n",
      "Iteration 1400/5000 -> lowest loss 0.22259368572896152\n",
      "Iteration 1600/5000 -> lowest loss 0.22139034262855586\n",
      "Iteration 1800/5000 -> lowest loss 0.22065032205761168\n",
      "Iteration 2000/5000 -> lowest loss 0.2201466922877198\n",
      "Iteration 2200/5000 -> lowest loss 0.21981896306879425\n",
      "Iteration 2400/5000 -> lowest loss 0.21950404262219117\n",
      "Iteration 2600/5000 -> lowest loss 0.21935960319633868\n",
      "Iteration 2800/5000 -> lowest loss 0.21918478279547274\n",
      "Iteration 3000/5000 -> lowest loss 0.21908877923259593\n",
      "Iteration 3200/5000 -> lowest loss 0.21900999784146127\n",
      "Iteration 3400/5000 -> lowest loss 0.21888520660023178\n",
      "Iteration 3600/5000 -> lowest loss 0.21888520660023178\n",
      "Iteration 3800/5000 -> lowest loss 0.2188569674866404\n",
      "Iteration 4000/5000 -> lowest loss 0.2187827393329425\n",
      "Iteration 4200/5000 -> lowest loss 0.2187827393329425\n",
      "Iteration 4400/5000 -> lowest loss 0.21877224592197883\n",
      "Iteration 4600/5000 -> lowest loss 0.21871248566211232\n",
      "Iteration 4800/5000 -> lowest loss 0.21867758629246364\n",
      "Iteration 0/5000 -> lowest loss inf\n",
      "Iteration 200/5000 -> lowest loss 0.5950876168143462\n",
      "Iteration 400/5000 -> lowest loss 0.3172201928933491\n",
      "Iteration 600/5000 -> lowest loss 0.26294630067980995\n",
      "Iteration 800/5000 -> lowest loss 0.24233057555062323\n",
      "Iteration 1000/5000 -> lowest loss 0.23240782127693224\n",
      "Iteration 1200/5000 -> lowest loss 0.22743464647625125\n",
      "Iteration 1400/5000 -> lowest loss 0.22479465877946908\n",
      "Iteration 1600/5000 -> lowest loss 0.22332819494630898\n",
      "Iteration 1800/5000 -> lowest loss 0.22232591309959993\n",
      "Iteration 2000/5000 -> lowest loss 0.22169669436611458\n",
      "Iteration 2200/5000 -> lowest loss 0.22125029814340727\n",
      "Iteration 2400/5000 -> lowest loss 0.22093437131169644\n",
      "Iteration 2600/5000 -> lowest loss 0.22061376306715083\n",
      "Iteration 2800/5000 -> lowest loss 0.22038499875249964\n",
      "Iteration 3000/5000 -> lowest loss 0.22023176256823632\n",
      "Iteration 3200/5000 -> lowest loss 0.220130218109086\n",
      "Iteration 3400/5000 -> lowest loss 0.21997657441860827\n",
      "Iteration 3600/5000 -> lowest loss 0.21994185581270495\n",
      "Iteration 3800/5000 -> lowest loss 0.21989588783190248\n",
      "Iteration 4000/5000 -> lowest loss 0.21981660774645487\n",
      "Iteration 4200/5000 -> lowest loss 0.21978784074326746\n",
      "Iteration 4400/5000 -> lowest loss 0.21973419861008564\n",
      "Iteration 4600/5000 -> lowest loss 0.21964911367991205\n",
      "Iteration 4800/5000 -> lowest loss 0.21959857666822943\n",
      "Iteration 0/5000 -> lowest loss inf\n",
      "Iteration 200/5000 -> lowest loss 0.315104500996425\n",
      "Iteration 400/5000 -> lowest loss 0.23891057201331803\n",
      "Iteration 600/5000 -> lowest loss 0.22599594322653996\n",
      "Iteration 800/5000 -> lowest loss 0.22244286260960444\n",
      "Iteration 1000/5000 -> lowest loss 0.22126463334270344\n",
      "Iteration 1200/5000 -> lowest loss 0.22027531744989695\n",
      "Iteration 1400/5000 -> lowest loss 0.21998391365413483\n",
      "Iteration 1600/5000 -> lowest loss 0.21956394112003946\n",
      "Iteration 1800/5000 -> lowest loss 0.21942196434307604\n",
      "Iteration 2000/5000 -> lowest loss 0.21928109939259946\n",
      "Iteration 2200/5000 -> lowest loss 0.21928109939259946\n",
      "Iteration 2400/5000 -> lowest loss 0.2191023255775909\n",
      "Iteration 2600/5000 -> lowest loss 0.2189910936234037\n",
      "Iteration 2800/5000 -> lowest loss 0.2189910936234037\n",
      "Iteration 3000/5000 -> lowest loss 0.2189910936234037\n",
      "Iteration 3200/5000 -> lowest loss 0.2189644289037307\n",
      "Iteration 3400/5000 -> lowest loss 0.2189644289037307\n",
      "Iteration 3600/5000 -> lowest loss 0.2189644289037307\n",
      "Iteration 3800/5000 -> lowest loss 0.2189644289037307\n",
      "Iteration 4000/5000 -> lowest loss 0.2189644289037307\n",
      "Iteration 4200/5000 -> lowest loss 0.2189644289037307\n",
      "Iteration 4400/5000 -> lowest loss 0.21874799625163077\n",
      "Iteration 4600/5000 -> lowest loss 0.2186833163719563\n",
      "Iteration 4800/5000 -> lowest loss 0.2186833163719563\n",
      "Iteration 0/5000 -> lowest loss inf\n",
      "Iteration 200/5000 -> lowest loss 0.307148477536912\n",
      "Iteration 400/5000 -> lowest loss 0.24081085255063445\n",
      "Iteration 600/5000 -> lowest loss 0.2280646425778096\n",
      "Iteration 800/5000 -> lowest loss 0.22378875380077756\n",
      "Iteration 1000/5000 -> lowest loss 0.22173559135629045\n",
      "Iteration 1200/5000 -> lowest loss 0.22064012349791212\n",
      "Iteration 1400/5000 -> lowest loss 0.21997612533987793\n",
      "Iteration 1600/5000 -> lowest loss 0.2195592264543277\n",
      "Iteration 1800/5000 -> lowest loss 0.21942352476832414\n",
      "Iteration 2000/5000 -> lowest loss 0.21928782920698933\n",
      "Iteration 2200/5000 -> lowest loss 0.21910523097619305\n",
      "Iteration 2400/5000 -> lowest loss 0.21900706598571568\n",
      "Iteration 2600/5000 -> lowest loss 0.21893372305698958\n",
      "Iteration 2800/5000 -> lowest loss 0.21880942780286594\n",
      "Iteration 3000/5000 -> lowest loss 0.2187558615235123\n",
      "Iteration 3200/5000 -> lowest loss 0.21873560051881327\n",
      "Iteration 3400/5000 -> lowest loss 0.21873560051881327\n",
      "Iteration 3600/5000 -> lowest loss 0.2185880350815691\n",
      "Iteration 3800/5000 -> lowest loss 0.2185880350815691\n",
      "Iteration 4000/5000 -> lowest loss 0.2185880350815691\n",
      "Iteration 4200/5000 -> lowest loss 0.2185880350815691\n",
      "Iteration 4400/5000 -> lowest loss 0.2185880350815691\n",
      "Iteration 4600/5000 -> lowest loss 0.2185880350815691\n",
      "Iteration 4800/5000 -> lowest loss 0.2185396508037694\n",
      "Iteration 0/5000 -> lowest loss inf\n",
      "Iteration 200/5000 -> lowest loss 0.30502987661169956\n",
      "Iteration 400/5000 -> lowest loss 0.23403556905166256\n",
      "Iteration 600/5000 -> lowest loss 0.22409474438884697\n",
      "Iteration 800/5000 -> lowest loss 0.2216661845381591\n",
      "Iteration 1000/5000 -> lowest loss 0.22072270019852983\n",
      "Iteration 1200/5000 -> lowest loss 0.22016186769987986\n",
      "Iteration 1400/5000 -> lowest loss 0.21990392648627857\n",
      "Iteration 1600/5000 -> lowest loss 0.2195673086465947\n",
      "Iteration 1800/5000 -> lowest loss 0.21937500534672993\n",
      "Iteration 2000/5000 -> lowest loss 0.2192543266756953\n",
      "Iteration 2200/5000 -> lowest loss 0.21913389275371437\n",
      "Iteration 2400/5000 -> lowest loss 0.2190336891317435\n",
      "Iteration 2600/5000 -> lowest loss 0.21897240637027549\n",
      "Iteration 2800/5000 -> lowest loss 0.21888168725235987\n",
      "Iteration 3000/5000 -> lowest loss 0.2188147061110253\n",
      "Iteration 3200/5000 -> lowest loss 0.21871213951697235\n",
      "Iteration 3400/5000 -> lowest loss 0.21871213951697235\n",
      "Iteration 3600/5000 -> lowest loss 0.2187066309204914\n",
      "Iteration 3800/5000 -> lowest loss 0.21860517434179275\n",
      "Iteration 4000/5000 -> lowest loss 0.21853439048616627\n",
      "Iteration 4200/5000 -> lowest loss 0.21853439048616627\n",
      "Iteration 4400/5000 -> lowest loss 0.21853439048616627\n",
      "Iteration 4600/5000 -> lowest loss 0.21853439048616627\n",
      "Iteration 4800/5000 -> lowest loss 0.21845349472838577\n",
      "Iteration 0/5000 -> lowest loss inf\n",
      "Iteration 200/5000 -> lowest loss 0.2227191500309445\n",
      "Iteration 400/5000 -> lowest loss 0.22059114689948664\n",
      "Iteration 600/5000 -> lowest loss 0.2199796808164806\n",
      "Iteration 800/5000 -> lowest loss 0.21988528476799113\n",
      "Iteration 1000/5000 -> lowest loss 0.21988528476799113\n",
      "Iteration 1200/5000 -> lowest loss 0.21988528476799113\n",
      "Iteration 1400/5000 -> lowest loss 0.21988528476799113\n",
      "Iteration 1600/5000 -> lowest loss 0.2197899802163069\n",
      "Iteration 1800/5000 -> lowest loss 0.2197899802163069\n",
      "Iteration 2000/5000 -> lowest loss 0.2197899802163069\n",
      "Iteration 2200/5000 -> lowest loss 0.2197899802163069\n",
      "Iteration 2400/5000 -> lowest loss 0.2197899802163069\n",
      "Iteration 2600/5000 -> lowest loss 0.2195842374632137\n",
      "Iteration 2800/5000 -> lowest loss 0.2195842374632137\n",
      "Iteration 3000/5000 -> lowest loss 0.2195842374632137\n",
      "Iteration 3200/5000 -> lowest loss 0.2195842374632137\n",
      "Iteration 3400/5000 -> lowest loss 0.2195842374632137\n",
      "Iteration 3600/5000 -> lowest loss 0.2195842374632137\n",
      "Iteration 3800/5000 -> lowest loss 0.2195842374632137\n",
      "Iteration 4000/5000 -> lowest loss 0.2195842374632137\n",
      "Iteration 4200/5000 -> lowest loss 0.2195842374632137\n",
      "Iteration 4400/5000 -> lowest loss 0.2195842374632137\n",
      "Iteration 4600/5000 -> lowest loss 0.2195842374632137\n",
      "Iteration 4800/5000 -> lowest loss 0.2195842374632137\n",
      "Iteration 0/5000 -> lowest loss inf\n",
      "Iteration 200/5000 -> lowest loss 0.221353792274655\n",
      "Iteration 400/5000 -> lowest loss 0.2190340068343074\n",
      "Iteration 600/5000 -> lowest loss 0.2188826469760349\n",
      "Iteration 800/5000 -> lowest loss 0.21858299089937072\n",
      "Iteration 1000/5000 -> lowest loss 0.21855970521266788\n",
      "Iteration 1200/5000 -> lowest loss 0.21845743264727402\n",
      "Iteration 1400/5000 -> lowest loss 0.21824065718655206\n",
      "Iteration 1600/5000 -> lowest loss 0.21823603011838724\n",
      "Iteration 1800/5000 -> lowest loss 0.21823146695079199\n",
      "Iteration 2000/5000 -> lowest loss 0.21823146695079199\n",
      "Iteration 2200/5000 -> lowest loss 0.21823146695079199\n",
      "Iteration 2400/5000 -> lowest loss 0.21815686413043925\n",
      "Iteration 2600/5000 -> lowest loss 0.21815686413043925\n",
      "Iteration 2800/5000 -> lowest loss 0.21815686413043925\n",
      "Iteration 3000/5000 -> lowest loss 0.21815686413043925\n",
      "Iteration 3200/5000 -> lowest loss 0.21815686413043925\n",
      "Iteration 3400/5000 -> lowest loss 0.21815686413043925\n",
      "Iteration 3600/5000 -> lowest loss 0.21815686413043925\n",
      "Iteration 3800/5000 -> lowest loss 0.21815686413043925\n",
      "Iteration 4000/5000 -> lowest loss 0.21815686413043925\n",
      "Iteration 4200/5000 -> lowest loss 0.21815686413043925\n",
      "Iteration 4400/5000 -> lowest loss 0.21815686413043925\n",
      "Iteration 4600/5000 -> lowest loss 0.21815686413043925\n",
      "Iteration 4800/5000 -> lowest loss 0.21815686413043925\n",
      "Iteration 0/5000 -> lowest loss inf\n",
      "Iteration 200/5000 -> lowest loss 0.22003984086407385\n",
      "Iteration 400/5000 -> lowest loss 0.21889348694211352\n",
      "Iteration 600/5000 -> lowest loss 0.2186295633667329\n",
      "Iteration 800/5000 -> lowest loss 0.21859219403273178\n",
      "Iteration 1000/5000 -> lowest loss 0.2185546568316961\n",
      "Iteration 1200/5000 -> lowest loss 0.218490529662931\n",
      "Iteration 1400/5000 -> lowest loss 0.21840536987193038\n",
      "Iteration 1600/5000 -> lowest loss 0.21840536987193038\n",
      "Iteration 1800/5000 -> lowest loss 0.2183972193664729\n",
      "Iteration 2000/5000 -> lowest loss 0.21832846417022875\n",
      "Iteration 2200/5000 -> lowest loss 0.21827205463629193\n",
      "Iteration 2400/5000 -> lowest loss 0.21827205463629193\n",
      "Iteration 2600/5000 -> lowest loss 0.21825715562246212\n",
      "Iteration 2800/5000 -> lowest loss 0.21823421860463096\n",
      "Iteration 3000/5000 -> lowest loss 0.21820865516298557\n",
      "Iteration 3200/5000 -> lowest loss 0.21817592422145188\n",
      "Iteration 3400/5000 -> lowest loss 0.21817592422145188\n",
      "Iteration 3600/5000 -> lowest loss 0.21817592422145188\n",
      "Iteration 3800/5000 -> lowest loss 0.21817592422145188\n",
      "Iteration 4000/5000 -> lowest loss 0.21814490574031334\n",
      "Iteration 4200/5000 -> lowest loss 0.21814490574031334\n",
      "Iteration 4400/5000 -> lowest loss 0.21814490574031334\n",
      "Iteration 4600/5000 -> lowest loss 0.21814490574031334\n",
      "Iteration 4800/5000 -> lowest loss 0.21811610230352577\n",
      "Iteration 0/5000 -> lowest loss inf\n",
      "Iteration 200/5000 -> lowest loss 2.01340494067175\n",
      "Iteration 400/5000 -> lowest loss 1.3661793942098612\n",
      "Iteration 600/5000 -> lowest loss 0.9743667029857362\n",
      "Iteration 800/5000 -> lowest loss 0.7115336042364356\n",
      "Iteration 1000/5000 -> lowest loss 0.5466004357426192\n",
      "Iteration 1200/5000 -> lowest loss 0.4470402746522548\n",
      "Iteration 1400/5000 -> lowest loss 0.38610669327362834\n",
      "Iteration 1600/5000 -> lowest loss 0.34653346789003325\n",
      "Iteration 1800/5000 -> lowest loss 0.31918615769419567\n",
      "Iteration 2000/5000 -> lowest loss 0.2994565215007142\n",
      "Iteration 2200/5000 -> lowest loss 0.2850876647239836\n",
      "Iteration 2400/5000 -> lowest loss 0.2737902280476728\n",
      "Iteration 2600/5000 -> lowest loss 0.26474275463586955\n",
      "Iteration 2800/5000 -> lowest loss 0.25780276623932163\n",
      "Iteration 3000/5000 -> lowest loss 0.25228669923010266\n",
      "Iteration 3200/5000 -> lowest loss 0.24805365903741092\n",
      "Iteration 3400/5000 -> lowest loss 0.24440003936527188\n",
      "Iteration 3600/5000 -> lowest loss 0.24097885365544022\n",
      "Iteration 3800/5000 -> lowest loss 0.23846148597844963\n",
      "Iteration 4000/5000 -> lowest loss 0.23623130215727167\n",
      "Iteration 4200/5000 -> lowest loss 0.23437511076316284\n",
      "Iteration 4400/5000 -> lowest loss 0.23273713806410287\n",
      "Iteration 4600/5000 -> lowest loss 0.23135982349089024\n",
      "Iteration 4800/5000 -> lowest loss 0.23006426883833211\n",
      "Iteration 0/5000 -> lowest loss inf\n",
      "Iteration 200/5000 -> lowest loss 2.111323697488604\n",
      "Iteration 400/5000 -> lowest loss 1.4406828211198506\n",
      "Iteration 600/5000 -> lowest loss 1.0093088049019752\n",
      "Iteration 800/5000 -> lowest loss 0.7302416072025264\n",
      "Iteration 1000/5000 -> lowest loss 0.5602063187807531\n",
      "Iteration 1200/5000 -> lowest loss 0.45809842564074854\n",
      "Iteration 1400/5000 -> lowest loss 0.3951149088703464\n",
      "Iteration 1600/5000 -> lowest loss 0.3538971198764252\n",
      "Iteration 1800/5000 -> lowest loss 0.32566368801592777\n",
      "Iteration 2000/5000 -> lowest loss 0.3054259175577855\n",
      "Iteration 2200/5000 -> lowest loss 0.2904609467217962\n",
      "Iteration 2400/5000 -> lowest loss 0.27892612796307625\n",
      "Iteration 2600/5000 -> lowest loss 0.2698761087532347\n",
      "Iteration 2800/5000 -> lowest loss 0.26259691110859806\n",
      "Iteration 3000/5000 -> lowest loss 0.2566219557881962\n",
      "Iteration 3200/5000 -> lowest loss 0.251584155482884\n",
      "Iteration 3400/5000 -> lowest loss 0.24729457577379566\n",
      "Iteration 3600/5000 -> lowest loss 0.24369098979490295\n",
      "Iteration 3800/5000 -> lowest loss 0.24064488875528417\n",
      "Iteration 4000/5000 -> lowest loss 0.23797346986814163\n",
      "Iteration 4200/5000 -> lowest loss 0.23576600871677086\n",
      "Iteration 4400/5000 -> lowest loss 0.23392763550026446\n",
      "Iteration 4600/5000 -> lowest loss 0.2323492919556848\n",
      "Iteration 4800/5000 -> lowest loss 0.23099813737438765\n",
      "Iteration 0/5000 -> lowest loss inf\n",
      "Iteration 200/5000 -> lowest loss 2.21175282921827\n",
      "Iteration 400/5000 -> lowest loss 1.44587681166709\n",
      "Iteration 600/5000 -> lowest loss 0.9844221661985365\n",
      "Iteration 800/5000 -> lowest loss 0.6922710674813721\n",
      "Iteration 1000/5000 -> lowest loss 0.51976498726465\n",
      "Iteration 1200/5000 -> lowest loss 0.4239825917966643\n",
      "Iteration 1400/5000 -> lowest loss 0.3685617150838971\n",
      "Iteration 1600/5000 -> lowest loss 0.33378460707874896\n",
      "Iteration 1800/5000 -> lowest loss 0.31061532903778866\n",
      "Iteration 2000/5000 -> lowest loss 0.29417386683787927\n",
      "Iteration 2200/5000 -> lowest loss 0.2817406945081673\n",
      "Iteration 2400/5000 -> lowest loss 0.2720001173807624\n",
      "Iteration 2600/5000 -> lowest loss 0.26419919183240076\n",
      "Iteration 2800/5000 -> lowest loss 0.2576961919802199\n",
      "Iteration 3000/5000 -> lowest loss 0.25233272086399794\n",
      "Iteration 3200/5000 -> lowest loss 0.2477749351468789\n",
      "Iteration 3400/5000 -> lowest loss 0.2439430807748529\n",
      "Iteration 3600/5000 -> lowest loss 0.2407532542412428\n",
      "Iteration 3800/5000 -> lowest loss 0.23804063681624751\n",
      "Iteration 4000/5000 -> lowest loss 0.23580569883320626\n",
      "Iteration 4200/5000 -> lowest loss 0.23399549425373864\n",
      "Iteration 4400/5000 -> lowest loss 0.23252779788253017\n",
      "Iteration 4600/5000 -> lowest loss 0.2312968344385109\n",
      "Iteration 4800/5000 -> lowest loss 0.2302615399409855\n",
      "Iteration 0/5000 -> lowest loss inf\n",
      "Iteration 200/5000 -> lowest loss 0.5364435658879576\n",
      "Iteration 400/5000 -> lowest loss 0.28643636922105353\n",
      "Iteration 600/5000 -> lowest loss 0.24483793292420744\n",
      "Iteration 800/5000 -> lowest loss 0.23249590933650047\n",
      "Iteration 1000/5000 -> lowest loss 0.22778420660690368\n",
      "Iteration 1200/5000 -> lowest loss 0.22510442573205316\n",
      "Iteration 1400/5000 -> lowest loss 0.22350963588954925\n",
      "Iteration 1600/5000 -> lowest loss 0.22241949006032424\n",
      "Iteration 1800/5000 -> lowest loss 0.22184202471189113\n",
      "Iteration 2000/5000 -> lowest loss 0.22118975510844097\n",
      "Iteration 2200/5000 -> lowest loss 0.22076988074117404\n",
      "Iteration 2400/5000 -> lowest loss 0.22076988074117404\n",
      "Iteration 2600/5000 -> lowest loss 0.22042398790048962\n",
      "Iteration 2800/5000 -> lowest loss 0.22035615497571834\n",
      "Iteration 3000/5000 -> lowest loss 0.22019881367293495\n",
      "Iteration 3200/5000 -> lowest loss 0.22019881367293495\n",
      "Iteration 3400/5000 -> lowest loss 0.22014356402796467\n",
      "Iteration 3600/5000 -> lowest loss 0.2200119210821022\n",
      "Iteration 3800/5000 -> lowest loss 0.2200119210821022\n",
      "Iteration 4000/5000 -> lowest loss 0.2200119210821022\n",
      "Iteration 4200/5000 -> lowest loss 0.21989041762761247\n",
      "Iteration 4400/5000 -> lowest loss 0.2198147551055788\n",
      "Iteration 4600/5000 -> lowest loss 0.2198147551055788\n",
      "Iteration 4800/5000 -> lowest loss 0.2197736533184226\n",
      "Iteration 0/5000 -> lowest loss inf\n",
      "Iteration 200/5000 -> lowest loss 0.6027909652497209\n",
      "Iteration 400/5000 -> lowest loss 0.31861636447391894\n",
      "Iteration 600/5000 -> lowest loss 0.26245012972713444\n",
      "Iteration 800/5000 -> lowest loss 0.24069068373153268\n",
      "Iteration 1000/5000 -> lowest loss 0.23097499839277705\n",
      "Iteration 1200/5000 -> lowest loss 0.22622837977536958\n",
      "Iteration 1400/5000 -> lowest loss 0.22379785108777342\n",
      "Iteration 1600/5000 -> lowest loss 0.22238178988613827\n",
      "Iteration 1800/5000 -> lowest loss 0.2215591868473821\n",
      "Iteration 2000/5000 -> lowest loss 0.2210172835813806\n",
      "Iteration 2200/5000 -> lowest loss 0.22063089158519927\n",
      "Iteration 2400/5000 -> lowest loss 0.2203879282020888\n",
      "Iteration 2600/5000 -> lowest loss 0.22021855989827177\n",
      "Iteration 2800/5000 -> lowest loss 0.22008347137837334\n",
      "Iteration 3000/5000 -> lowest loss 0.21998903533415468\n",
      "Iteration 3200/5000 -> lowest loss 0.21985940889057484\n",
      "Iteration 3400/5000 -> lowest loss 0.21984921769572857\n",
      "Iteration 3600/5000 -> lowest loss 0.21977424843960613\n",
      "Iteration 3800/5000 -> lowest loss 0.21972618512588826\n",
      "Iteration 4000/5000 -> lowest loss 0.21968845259540687\n",
      "Iteration 4200/5000 -> lowest loss 0.21964482972078436\n",
      "Iteration 4400/5000 -> lowest loss 0.21964482972078436\n",
      "Iteration 4600/5000 -> lowest loss 0.2196254446408744\n",
      "Iteration 4800/5000 -> lowest loss 0.21956933039853566\n",
      "Iteration 0/5000 -> lowest loss inf\n",
      "Iteration 200/5000 -> lowest loss 0.5645054220581655\n",
      "Iteration 400/5000 -> lowest loss 0.30595285066080175\n",
      "Iteration 600/5000 -> lowest loss 0.2575285047141809\n",
      "Iteration 800/5000 -> lowest loss 0.24011638500409427\n",
      "Iteration 1000/5000 -> lowest loss 0.23167969073993142\n",
      "Iteration 1200/5000 -> lowest loss 0.22734526539002528\n",
      "Iteration 1400/5000 -> lowest loss 0.22470925777008083\n",
      "Iteration 1600/5000 -> lowest loss 0.22311213042794442\n",
      "Iteration 1800/5000 -> lowest loss 0.22205288997234673\n",
      "Iteration 2000/5000 -> lowest loss 0.22137511007010247\n",
      "Iteration 2200/5000 -> lowest loss 0.22082305502728947\n",
      "Iteration 2400/5000 -> lowest loss 0.2204898007668005\n",
      "Iteration 2600/5000 -> lowest loss 0.2202405698714968\n",
      "Iteration 2800/5000 -> lowest loss 0.2200198764182785\n",
      "Iteration 3000/5000 -> lowest loss 0.21992675386744007\n",
      "Iteration 3200/5000 -> lowest loss 0.2197904742380562\n",
      "Iteration 3400/5000 -> lowest loss 0.21970603566876432\n",
      "Iteration 3600/5000 -> lowest loss 0.2196612367903192\n",
      "Iteration 3800/5000 -> lowest loss 0.21963766438218815\n",
      "Iteration 4000/5000 -> lowest loss 0.21958524389244444\n",
      "Iteration 4200/5000 -> lowest loss 0.21955234572644336\n",
      "Iteration 4400/5000 -> lowest loss 0.2195001385982857\n",
      "Iteration 4600/5000 -> lowest loss 0.21947298114486882\n",
      "Iteration 4800/5000 -> lowest loss 0.21947298114486882\n",
      "Iteration 0/5000 -> lowest loss inf\n",
      "Iteration 200/5000 -> lowest loss 0.2987039211814743\n",
      "Iteration 400/5000 -> lowest loss 0.23565159084131365\n",
      "Iteration 600/5000 -> lowest loss 0.2250372572107446\n",
      "Iteration 800/5000 -> lowest loss 0.2221463683815504\n",
      "Iteration 1000/5000 -> lowest loss 0.22142187050384762\n",
      "Iteration 1200/5000 -> lowest loss 0.22070238228813735\n",
      "Iteration 1400/5000 -> lowest loss 0.22048972707725126\n",
      "Iteration 1600/5000 -> lowest loss 0.22048972707725126\n",
      "Iteration 1800/5000 -> lowest loss 0.22035764906347965\n",
      "Iteration 2000/5000 -> lowest loss 0.22020561915342915\n",
      "Iteration 2200/5000 -> lowest loss 0.22001315132403207\n",
      "Iteration 2400/5000 -> lowest loss 0.21989903416277212\n",
      "Iteration 2600/5000 -> lowest loss 0.21989903416277212\n",
      "Iteration 2800/5000 -> lowest loss 0.21989903416277212\n",
      "Iteration 3000/5000 -> lowest loss 0.21971533771212653\n",
      "Iteration 3200/5000 -> lowest loss 0.21960470744341995\n",
      "Iteration 3400/5000 -> lowest loss 0.21960470744341995\n",
      "Iteration 3600/5000 -> lowest loss 0.2195982582613205\n",
      "Iteration 3800/5000 -> lowest loss 0.2195982582613205\n",
      "Iteration 4000/5000 -> lowest loss 0.21957303090846872\n",
      "Iteration 4200/5000 -> lowest loss 0.21957303090846872\n",
      "Iteration 4400/5000 -> lowest loss 0.21957303090846872\n",
      "Iteration 4600/5000 -> lowest loss 0.21957303090846872\n",
      "Iteration 4800/5000 -> lowest loss 0.21955221096469502\n",
      "Iteration 0/5000 -> lowest loss inf\n",
      "Iteration 200/5000 -> lowest loss 0.30843507898705347\n",
      "Iteration 400/5000 -> lowest loss 0.2393961201500365\n",
      "Iteration 600/5000 -> lowest loss 0.22651921853654466\n",
      "Iteration 800/5000 -> lowest loss 0.22252352161523434\n",
      "Iteration 1000/5000 -> lowest loss 0.22096986753517137\n",
      "Iteration 1200/5000 -> lowest loss 0.22030798335114607\n",
      "Iteration 1400/5000 -> lowest loss 0.21996129870116293\n",
      "Iteration 1600/5000 -> lowest loss 0.21972709194478207\n",
      "Iteration 1800/5000 -> lowest loss 0.21951329511802795\n",
      "Iteration 2000/5000 -> lowest loss 0.21948136107511168\n",
      "Iteration 2200/5000 -> lowest loss 0.21948136107511168\n",
      "Iteration 2400/5000 -> lowest loss 0.2194642740617522\n",
      "Iteration 2600/5000 -> lowest loss 0.21937766656892216\n",
      "Iteration 2800/5000 -> lowest loss 0.21937766656892216\n",
      "Iteration 3000/5000 -> lowest loss 0.21929290847668179\n",
      "Iteration 3200/5000 -> lowest loss 0.21929290847668179\n",
      "Iteration 3400/5000 -> lowest loss 0.21929290847668179\n",
      "Iteration 3600/5000 -> lowest loss 0.21929169088521075\n",
      "Iteration 3800/5000 -> lowest loss 0.21929169088521075\n",
      "Iteration 4000/5000 -> lowest loss 0.21929169088521075\n",
      "Iteration 4200/5000 -> lowest loss 0.21928523974781694\n",
      "Iteration 4400/5000 -> lowest loss 0.21928421297339176\n",
      "Iteration 4600/5000 -> lowest loss 0.21928421297339176\n",
      "Iteration 4800/5000 -> lowest loss 0.21928421297339176\n",
      "Iteration 0/5000 -> lowest loss inf\n",
      "Iteration 200/5000 -> lowest loss 0.289217120014979\n",
      "Iteration 400/5000 -> lowest loss 0.2323011088718986\n",
      "Iteration 600/5000 -> lowest loss 0.22439030310770458\n",
      "Iteration 800/5000 -> lowest loss 0.22209185480085275\n",
      "Iteration 1000/5000 -> lowest loss 0.22107312126225379\n",
      "Iteration 1200/5000 -> lowest loss 0.22035181537318815\n",
      "Iteration 1400/5000 -> lowest loss 0.22004025501444455\n",
      "Iteration 1600/5000 -> lowest loss 0.21985377070228507\n",
      "Iteration 1800/5000 -> lowest loss 0.21974114350969637\n",
      "Iteration 2000/5000 -> lowest loss 0.21963784244265178\n",
      "Iteration 2200/5000 -> lowest loss 0.2195867394182451\n",
      "Iteration 2400/5000 -> lowest loss 0.21951321802380253\n",
      "Iteration 2600/5000 -> lowest loss 0.21948400601342544\n",
      "Iteration 2800/5000 -> lowest loss 0.21945143102117481\n",
      "Iteration 3000/5000 -> lowest loss 0.21941311318311577\n",
      "Iteration 3200/5000 -> lowest loss 0.21941311318311577\n",
      "Iteration 3400/5000 -> lowest loss 0.21941311318311577\n",
      "Iteration 3600/5000 -> lowest loss 0.21939722045446963\n",
      "Iteration 3800/5000 -> lowest loss 0.2193545741570375\n",
      "Iteration 4000/5000 -> lowest loss 0.2193545741570375\n",
      "Iteration 4200/5000 -> lowest loss 0.2193545741570375\n",
      "Iteration 4400/5000 -> lowest loss 0.2193545741570375\n",
      "Iteration 4600/5000 -> lowest loss 0.21933539256817672\n",
      "Iteration 4800/5000 -> lowest loss 0.21932857363039798\n",
      "Iteration 0/5000 -> lowest loss inf\n",
      "Iteration 200/5000 -> lowest loss 0.2220838573154675\n",
      "Iteration 400/5000 -> lowest loss 0.22086488937860288\n",
      "Iteration 600/5000 -> lowest loss 0.22086488937860288\n",
      "Iteration 800/5000 -> lowest loss 0.2207255432504153\n",
      "Iteration 1000/5000 -> lowest loss 0.2204166290897335\n",
      "Iteration 1200/5000 -> lowest loss 0.2204166290897335\n",
      "Iteration 1400/5000 -> lowest loss 0.2204166290897335\n",
      "Iteration 1600/5000 -> lowest loss 0.22041563383464846\n",
      "Iteration 1800/5000 -> lowest loss 0.22041563383464846\n",
      "Iteration 2000/5000 -> lowest loss 0.22041563383464846\n",
      "Iteration 2200/5000 -> lowest loss 0.22041563383464846\n",
      "Iteration 2400/5000 -> lowest loss 0.22026203026313435\n",
      "Iteration 2600/5000 -> lowest loss 0.22026203026313435\n",
      "Iteration 2800/5000 -> lowest loss 0.22026203026313435\n",
      "Iteration 3000/5000 -> lowest loss 0.22026203026313435\n",
      "Iteration 3200/5000 -> lowest loss 0.22026203026313435\n",
      "Iteration 3400/5000 -> lowest loss 0.22026203026313435\n",
      "Iteration 3600/5000 -> lowest loss 0.22026203026313435\n",
      "Iteration 3800/5000 -> lowest loss 0.22026203026313435\n",
      "Iteration 4000/5000 -> lowest loss 0.22026203026313435\n",
      "Iteration 4200/5000 -> lowest loss 0.22026203026313435\n",
      "Iteration 4400/5000 -> lowest loss 0.22026203026313435\n",
      "Iteration 4600/5000 -> lowest loss 0.22026203026313435\n",
      "Iteration 4800/5000 -> lowest loss 0.22026203026313435\n",
      "Iteration 0/5000 -> lowest loss inf\n",
      "Iteration 200/5000 -> lowest loss 0.22115098735826375\n",
      "Iteration 400/5000 -> lowest loss 0.21983581637496513\n",
      "Iteration 600/5000 -> lowest loss 0.21953335731234497\n",
      "Iteration 800/5000 -> lowest loss 0.21945060218638582\n",
      "Iteration 1000/5000 -> lowest loss 0.21937702247348914\n",
      "Iteration 1200/5000 -> lowest loss 0.21937702247348914\n",
      "Iteration 1400/5000 -> lowest loss 0.21933992872359728\n",
      "Iteration 1600/5000 -> lowest loss 0.21932895357426926\n",
      "Iteration 1800/5000 -> lowest loss 0.21932895357426926\n",
      "Iteration 2000/5000 -> lowest loss 0.21932895357426926\n",
      "Iteration 2200/5000 -> lowest loss 0.21924897639566218\n",
      "Iteration 2400/5000 -> lowest loss 0.21923773039214398\n",
      "Iteration 2600/5000 -> lowest loss 0.21923773039214398\n",
      "Iteration 2800/5000 -> lowest loss 0.21921348666267715\n",
      "Iteration 3000/5000 -> lowest loss 0.21921348666267715\n",
      "Iteration 3200/5000 -> lowest loss 0.21921348666267715\n",
      "Iteration 3400/5000 -> lowest loss 0.21921348666267715\n",
      "Iteration 3600/5000 -> lowest loss 0.21921348666267715\n",
      "Iteration 3800/5000 -> lowest loss 0.21921348666267715\n",
      "Iteration 4000/5000 -> lowest loss 0.21921348666267715\n",
      "Iteration 4200/5000 -> lowest loss 0.21921348666267715\n",
      "Iteration 4400/5000 -> lowest loss 0.21921348666267715\n",
      "Iteration 4600/5000 -> lowest loss 0.21921348666267715\n",
      "Iteration 4800/5000 -> lowest loss 0.21912673150987647\n",
      "Iteration 0/5000 -> lowest loss inf\n",
      "Iteration 200/5000 -> lowest loss 0.2203254922743528\n",
      "Iteration 400/5000 -> lowest loss 0.21945167569934862\n",
      "Iteration 600/5000 -> lowest loss 0.21930552630484906\n",
      "Iteration 800/5000 -> lowest loss 0.21927775783423425\n",
      "Iteration 1000/5000 -> lowest loss 0.2192492870973332\n",
      "Iteration 1200/5000 -> lowest loss 0.2192440502589242\n",
      "Iteration 1400/5000 -> lowest loss 0.2192440502589242\n",
      "Iteration 1600/5000 -> lowest loss 0.2192440502589242\n",
      "Iteration 1800/5000 -> lowest loss 0.2192440502589242\n",
      "Iteration 2000/5000 -> lowest loss 0.219243749263867\n",
      "Iteration 2200/5000 -> lowest loss 0.219243749263867\n",
      "Iteration 2400/5000 -> lowest loss 0.21923709725010557\n",
      "Iteration 2600/5000 -> lowest loss 0.21919202939626223\n",
      "Iteration 2800/5000 -> lowest loss 0.21919202939626223\n",
      "Iteration 3000/5000 -> lowest loss 0.21919202939626223\n",
      "Iteration 3200/5000 -> lowest loss 0.21919202939626223\n",
      "Iteration 3400/5000 -> lowest loss 0.21919202939626223\n",
      "Iteration 3600/5000 -> lowest loss 0.21919202939626223\n",
      "Iteration 3800/5000 -> lowest loss 0.21919202939626223\n",
      "Iteration 4000/5000 -> lowest loss 0.21919202939626223\n",
      "Iteration 4200/5000 -> lowest loss 0.21919202939626223\n",
      "Iteration 4400/5000 -> lowest loss 0.21919202939626223\n",
      "Iteration 4600/5000 -> lowest loss 0.21919202939626223\n",
      "Iteration 4800/5000 -> lowest loss 0.21919202939626223\n",
      "Iteration 0/5000 -> lowest loss inf\n",
      "Iteration 200/5000 -> lowest loss 1.7047443031058482\n",
      "Iteration 400/5000 -> lowest loss 1.0747601558235254\n",
      "Iteration 600/5000 -> lowest loss 0.7207642551452227\n",
      "Iteration 800/5000 -> lowest loss 0.5255298839630064\n",
      "Iteration 1000/5000 -> lowest loss 0.4216982612085622\n",
      "Iteration 1200/5000 -> lowest loss 0.3624243838423568\n",
      "Iteration 1400/5000 -> lowest loss 0.32538164425664884\n",
      "Iteration 1600/5000 -> lowest loss 0.30172522373656124\n",
      "Iteration 1800/5000 -> lowest loss 0.28530798517987094\n",
      "Iteration 2000/5000 -> lowest loss 0.27356492130505483\n",
      "Iteration 2200/5000 -> lowest loss 0.2651043074344006\n",
      "Iteration 2400/5000 -> lowest loss 0.2587663362381933\n",
      "Iteration 2600/5000 -> lowest loss 0.25400442511886656\n",
      "Iteration 2800/5000 -> lowest loss 0.25023198924686496\n",
      "Iteration 3000/5000 -> lowest loss 0.24764968188460587\n",
      "Iteration 3200/5000 -> lowest loss 0.24569867508682228\n",
      "Iteration 3400/5000 -> lowest loss 0.2441208682870163\n",
      "Iteration 3600/5000 -> lowest loss 0.24296634571765835\n",
      "Iteration 3800/5000 -> lowest loss 0.24224028350571786\n",
      "Iteration 4000/5000 -> lowest loss 0.2415518023215239\n",
      "Iteration 4200/5000 -> lowest loss 0.24114026373561306\n",
      "Iteration 4400/5000 -> lowest loss 0.2408113666170043\n",
      "Iteration 4600/5000 -> lowest loss 0.24051984425275824\n",
      "Iteration 4800/5000 -> lowest loss 0.24044419991817687\n",
      "Iteration 0/5000 -> lowest loss inf\n",
      "Iteration 200/5000 -> lowest loss 2.0600265715933888\n",
      "Iteration 400/5000 -> lowest loss 1.335151878772078\n",
      "Iteration 600/5000 -> lowest loss 0.8816093985801627\n",
      "Iteration 800/5000 -> lowest loss 0.6055264431793007\n",
      "Iteration 1000/5000 -> lowest loss 0.4524155346094243\n",
      "Iteration 1200/5000 -> lowest loss 0.3722158049948273\n",
      "Iteration 1400/5000 -> lowest loss 0.32849041949088476\n",
      "Iteration 1600/5000 -> lowest loss 0.30202473927138124\n",
      "Iteration 1800/5000 -> lowest loss 0.284537975697708\n",
      "Iteration 2000/5000 -> lowest loss 0.2723343708022345\n",
      "Iteration 2200/5000 -> lowest loss 0.2635182851835674\n",
      "Iteration 2400/5000 -> lowest loss 0.25696706493295174\n",
      "Iteration 2600/5000 -> lowest loss 0.2520156778065154\n",
      "Iteration 2800/5000 -> lowest loss 0.24817823339610143\n",
      "Iteration 3000/5000 -> lowest loss 0.24534178259623698\n",
      "Iteration 3200/5000 -> lowest loss 0.243218335840766\n",
      "Iteration 3400/5000 -> lowest loss 0.24164935227013035\n",
      "Iteration 3600/5000 -> lowest loss 0.24062433387119864\n",
      "Iteration 3800/5000 -> lowest loss 0.23990579090508687\n",
      "Iteration 4000/5000 -> lowest loss 0.23946149680934503\n",
      "Iteration 4200/5000 -> lowest loss 0.23918220942231277\n",
      "Iteration 4400/5000 -> lowest loss 0.2390210037329104\n",
      "Iteration 4600/5000 -> lowest loss 0.23895696286007048\n",
      "Iteration 4800/5000 -> lowest loss 0.23891013495871202\n",
      "Iteration 0/5000 -> lowest loss inf\n",
      "Iteration 200/5000 -> lowest loss 1.872387047488378\n",
      "Iteration 400/5000 -> lowest loss 1.2226172481158082\n",
      "Iteration 600/5000 -> lowest loss 0.8389760081841624\n",
      "Iteration 800/5000 -> lowest loss 0.6017382568434185\n",
      "Iteration 1000/5000 -> lowest loss 0.46452840129931416\n",
      "Iteration 1200/5000 -> lowest loss 0.38737957206082624\n",
      "Iteration 1400/5000 -> lowest loss 0.34114037973273253\n",
      "Iteration 1600/5000 -> lowest loss 0.3116564862904982\n",
      "Iteration 1800/5000 -> lowest loss 0.2917318672287119\n",
      "Iteration 2000/5000 -> lowest loss 0.2776095868086704\n",
      "Iteration 2200/5000 -> lowest loss 0.26742199012846257\n",
      "Iteration 2400/5000 -> lowest loss 0.25987089777878775\n",
      "Iteration 2600/5000 -> lowest loss 0.2541773535312989\n",
      "Iteration 2800/5000 -> lowest loss 0.24989920349581923\n",
      "Iteration 3000/5000 -> lowest loss 0.24669724884437208\n",
      "Iteration 3200/5000 -> lowest loss 0.24425557341428794\n",
      "Iteration 3400/5000 -> lowest loss 0.2424030210815776\n",
      "Iteration 3600/5000 -> lowest loss 0.2411651847015531\n",
      "Iteration 3800/5000 -> lowest loss 0.24034528344044181\n",
      "Iteration 4000/5000 -> lowest loss 0.23979710326191456\n",
      "Iteration 4200/5000 -> lowest loss 0.23951445858035986\n",
      "Iteration 4400/5000 -> lowest loss 0.23938780954591876\n",
      "Iteration 4600/5000 -> lowest loss 0.23930429635137904\n",
      "Iteration 4800/5000 -> lowest loss 0.23928765103137403\n",
      "Iteration 0/5000 -> lowest loss inf\n",
      "Iteration 200/5000 -> lowest loss 0.4692032451852573\n",
      "Iteration 400/5000 -> lowest loss 0.27055402355902664\n",
      "Iteration 600/5000 -> lowest loss 0.24553899235455892\n",
      "Iteration 800/5000 -> lowest loss 0.24111520243948334\n",
      "Iteration 1000/5000 -> lowest loss 0.24013997442657403\n",
      "Iteration 1200/5000 -> lowest loss 0.23975052859319781\n",
      "Iteration 1400/5000 -> lowest loss 0.2397007679682339\n",
      "Iteration 1600/5000 -> lowest loss 0.23951162841290508\n",
      "Iteration 1800/5000 -> lowest loss 0.23951162841290508\n",
      "Iteration 2000/5000 -> lowest loss 0.23951162841290508\n",
      "Iteration 2200/5000 -> lowest loss 0.23951162841290508\n",
      "Iteration 2400/5000 -> lowest loss 0.23951162841290508\n",
      "Iteration 2600/5000 -> lowest loss 0.23951162841290508\n",
      "Iteration 2800/5000 -> lowest loss 0.23951162841290508\n",
      "Iteration 3000/5000 -> lowest loss 0.23949108592275728\n",
      "Iteration 3200/5000 -> lowest loss 0.23949108592275728\n",
      "Iteration 3400/5000 -> lowest loss 0.23949108592275728\n",
      "Iteration 3600/5000 -> lowest loss 0.23949108592275728\n",
      "Iteration 3800/5000 -> lowest loss 0.23949108592275728\n",
      "Iteration 4000/5000 -> lowest loss 0.23949108592275728\n",
      "Iteration 4200/5000 -> lowest loss 0.23949108592275728\n",
      "Iteration 4400/5000 -> lowest loss 0.23949108592275728\n",
      "Iteration 4600/5000 -> lowest loss 0.23949108592275728\n",
      "Iteration 4800/5000 -> lowest loss 0.23949108592275728\n",
      "Iteration 0/5000 -> lowest loss inf\n",
      "Iteration 200/5000 -> lowest loss 0.48040295501053476\n",
      "Iteration 400/5000 -> lowest loss 0.2734873294061184\n",
      "Iteration 600/5000 -> lowest loss 0.2463149785506228\n",
      "Iteration 800/5000 -> lowest loss 0.24106946406752455\n",
      "Iteration 1000/5000 -> lowest loss 0.23996577366287833\n",
      "Iteration 1200/5000 -> lowest loss 0.23973040178730556\n",
      "Iteration 1400/5000 -> lowest loss 0.23970078943314632\n",
      "Iteration 1600/5000 -> lowest loss 0.23970078943314632\n",
      "Iteration 1800/5000 -> lowest loss 0.23970078943314632\n",
      "Iteration 2000/5000 -> lowest loss 0.23970078943314632\n",
      "Iteration 2200/5000 -> lowest loss 0.23970078943314632\n",
      "Iteration 2400/5000 -> lowest loss 0.23970078943314632\n",
      "Iteration 2600/5000 -> lowest loss 0.23970078943314632\n",
      "Iteration 2800/5000 -> lowest loss 0.23970078943314632\n",
      "Iteration 3000/5000 -> lowest loss 0.23970078943314632\n",
      "Iteration 3200/5000 -> lowest loss 0.23970078943314632\n",
      "Iteration 3400/5000 -> lowest loss 0.23970078943314632\n",
      "Iteration 3600/5000 -> lowest loss 0.23970078943314632\n",
      "Iteration 3800/5000 -> lowest loss 0.23970078943314632\n",
      "Iteration 4000/5000 -> lowest loss 0.23970078943314632\n",
      "Iteration 4200/5000 -> lowest loss 0.23970078943314632\n",
      "Iteration 4400/5000 -> lowest loss 0.23970078943314632\n",
      "Iteration 4600/5000 -> lowest loss 0.23968001334972616\n",
      "Iteration 4800/5000 -> lowest loss 0.23968001334972616\n",
      "Iteration 0/5000 -> lowest loss inf\n",
      "Iteration 200/5000 -> lowest loss 0.4568788166186528\n",
      "Iteration 400/5000 -> lowest loss 0.26714380873514204\n",
      "Iteration 600/5000 -> lowest loss 0.24562471582916057\n",
      "Iteration 800/5000 -> lowest loss 0.24173705027933504\n",
      "Iteration 1000/5000 -> lowest loss 0.24063037964884687\n",
      "Iteration 1200/5000 -> lowest loss 0.24031010638245512\n",
      "Iteration 1400/5000 -> lowest loss 0.24008604471631326\n",
      "Iteration 1600/5000 -> lowest loss 0.23997260705160633\n",
      "Iteration 1800/5000 -> lowest loss 0.23989733742358663\n",
      "Iteration 2000/5000 -> lowest loss 0.23982760192369887\n",
      "Iteration 2200/5000 -> lowest loss 0.2398177194449072\n",
      "Iteration 2400/5000 -> lowest loss 0.23975911211555767\n",
      "Iteration 2600/5000 -> lowest loss 0.23975911211555767\n",
      "Iteration 2800/5000 -> lowest loss 0.23975911211555767\n",
      "Iteration 3000/5000 -> lowest loss 0.23975911211555767\n",
      "Iteration 3200/5000 -> lowest loss 0.23975911211555767\n",
      "Iteration 3400/5000 -> lowest loss 0.23975911211555767\n",
      "Iteration 3600/5000 -> lowest loss 0.23975911211555767\n",
      "Iteration 3800/5000 -> lowest loss 0.23975911211555767\n",
      "Iteration 4000/5000 -> lowest loss 0.23975911211555767\n",
      "Iteration 4200/5000 -> lowest loss 0.23975911211555767\n",
      "Iteration 4400/5000 -> lowest loss 0.23975911211555767\n",
      "Iteration 4600/5000 -> lowest loss 0.23975911211555767\n",
      "Iteration 4800/5000 -> lowest loss 0.23975911211555767\n",
      "Iteration 0/5000 -> lowest loss inf\n",
      "Iteration 200/5000 -> lowest loss 0.27246053292220257\n",
      "Iteration 400/5000 -> lowest loss 0.2403404194562128\n",
      "Iteration 600/5000 -> lowest loss 0.23916797131498424\n",
      "Iteration 800/5000 -> lowest loss 0.23916797131498424\n",
      "Iteration 1000/5000 -> lowest loss 0.23916797131498424\n",
      "Iteration 1200/5000 -> lowest loss 0.23916797131498424\n",
      "Iteration 1400/5000 -> lowest loss 0.23916797131498424\n",
      "Iteration 1600/5000 -> lowest loss 0.23916797131498424\n",
      "Iteration 1800/5000 -> lowest loss 0.23916797131498424\n",
      "Iteration 2000/5000 -> lowest loss 0.23916797131498424\n",
      "Iteration 2200/5000 -> lowest loss 0.23916797131498424\n",
      "Iteration 2400/5000 -> lowest loss 0.23916797131498424\n",
      "Iteration 2600/5000 -> lowest loss 0.23916797131498424\n",
      "Iteration 2800/5000 -> lowest loss 0.23916797131498424\n",
      "Iteration 3000/5000 -> lowest loss 0.23916797131498424\n",
      "Iteration 3200/5000 -> lowest loss 0.23916797131498424\n",
      "Iteration 3400/5000 -> lowest loss 0.23916797131498424\n",
      "Iteration 3600/5000 -> lowest loss 0.23916797131498424\n",
      "Iteration 3800/5000 -> lowest loss 0.23916797131498424\n",
      "Iteration 4000/5000 -> lowest loss 0.23916797131498424\n",
      "Iteration 4200/5000 -> lowest loss 0.23916797131498424\n",
      "Iteration 4400/5000 -> lowest loss 0.23916797131498424\n",
      "Iteration 4600/5000 -> lowest loss 0.23916797131498424\n",
      "Iteration 4800/5000 -> lowest loss 0.23916797131498424\n",
      "Iteration 0/5000 -> lowest loss inf\n",
      "Iteration 200/5000 -> lowest loss 0.2705218693846372\n",
      "Iteration 400/5000 -> lowest loss 0.24071886932835027\n",
      "Iteration 600/5000 -> lowest loss 0.23989796011294437\n",
      "Iteration 800/5000 -> lowest loss 0.23967176554249445\n",
      "Iteration 1000/5000 -> lowest loss 0.23967176554249445\n",
      "Iteration 1200/5000 -> lowest loss 0.23967176554249445\n",
      "Iteration 1400/5000 -> lowest loss 0.23967176554249445\n",
      "Iteration 1600/5000 -> lowest loss 0.23967176554249445\n",
      "Iteration 1800/5000 -> lowest loss 0.23967176554249445\n",
      "Iteration 2000/5000 -> lowest loss 0.23967176554249445\n",
      "Iteration 2200/5000 -> lowest loss 0.23967176554249445\n",
      "Iteration 2400/5000 -> lowest loss 0.23957930716216128\n",
      "Iteration 2600/5000 -> lowest loss 0.23957930716216128\n",
      "Iteration 2800/5000 -> lowest loss 0.23957930716216128\n",
      "Iteration 3000/5000 -> lowest loss 0.23957930716216128\n",
      "Iteration 3200/5000 -> lowest loss 0.23957930716216128\n",
      "Iteration 3400/5000 -> lowest loss 0.23957930716216128\n",
      "Iteration 3600/5000 -> lowest loss 0.23957930716216128\n",
      "Iteration 3800/5000 -> lowest loss 0.23957930716216128\n",
      "Iteration 4000/5000 -> lowest loss 0.23957930716216128\n",
      "Iteration 4200/5000 -> lowest loss 0.23957930716216128\n",
      "Iteration 4400/5000 -> lowest loss 0.23957930716216128\n",
      "Iteration 4600/5000 -> lowest loss 0.23957930716216128\n",
      "Iteration 4800/5000 -> lowest loss 0.23957930716216128\n",
      "Iteration 0/5000 -> lowest loss inf\n",
      "Iteration 200/5000 -> lowest loss 0.27343081332231517\n",
      "Iteration 400/5000 -> lowest loss 0.24021982414505\n",
      "Iteration 600/5000 -> lowest loss 0.2394740256508505\n",
      "Iteration 800/5000 -> lowest loss 0.2394740256508505\n",
      "Iteration 1000/5000 -> lowest loss 0.2394740256508505\n",
      "Iteration 1200/5000 -> lowest loss 0.2394740256508505\n",
      "Iteration 1400/5000 -> lowest loss 0.2394740256508505\n",
      "Iteration 1600/5000 -> lowest loss 0.2394740256508505\n",
      "Iteration 1800/5000 -> lowest loss 0.2394740256508505\n",
      "Iteration 2000/5000 -> lowest loss 0.2394740256508505\n",
      "Iteration 2200/5000 -> lowest loss 0.2394740256508505\n",
      "Iteration 2400/5000 -> lowest loss 0.2394740256508505\n",
      "Iteration 2600/5000 -> lowest loss 0.2394740256508505\n",
      "Iteration 2800/5000 -> lowest loss 0.2394740256508505\n",
      "Iteration 3000/5000 -> lowest loss 0.2394740256508505\n",
      "Iteration 3200/5000 -> lowest loss 0.2394740256508505\n",
      "Iteration 3400/5000 -> lowest loss 0.2394740256508505\n",
      "Iteration 3600/5000 -> lowest loss 0.2394740256508505\n",
      "Iteration 3800/5000 -> lowest loss 0.2394740256508505\n",
      "Iteration 4000/5000 -> lowest loss 0.2394740256508505\n",
      "Iteration 4200/5000 -> lowest loss 0.2394740256508505\n",
      "Iteration 4400/5000 -> lowest loss 0.2394740256508505\n",
      "Iteration 4600/5000 -> lowest loss 0.2394740256508505\n",
      "Iteration 4800/5000 -> lowest loss 0.2394740256508505\n",
      "Iteration 0/5000 -> lowest loss inf\n",
      "Iteration 200/5000 -> lowest loss 0.23897483586227286\n",
      "Iteration 400/5000 -> lowest loss 0.23897483586227286\n",
      "Iteration 600/5000 -> lowest loss 0.23897483586227286\n",
      "Iteration 800/5000 -> lowest loss 0.23897483586227286\n"
     ]
    }
   ],
   "source": [
    "res = reg_logistic_regression_hyperparameters(\n",
    "    x_tr_bias,\n",
    "    y_tr,\n",
    "    x_va_bias,\n",
    "    y_va,\n",
    "    hyperparameters\n",
    ")\n",
    "\n",
    "print(res)"
   ],
   "metadata": {
    "collapsed": false,
    "ExecuteTime": {
     "start_time": "2023-10-27T16:22:55.017300Z"
    }
   },
   "id": "d46da6d4ef9a7466"
  },
  {
   "cell_type": "code",
   "execution_count": null,
   "outputs": [],
   "source": [
    "with open('objs_no_oversampling_mixed.pkl', 'wb') as f:\n",
    "    pickle.dump(res, f)\n",
    "    "
   ],
   "metadata": {
    "collapsed": false
   },
   "id": "28094af644c381cd"
  },
  {
   "cell_type": "markdown",
   "source": [
    "## Load results"
   ],
   "metadata": {
    "collapsed": false
   },
   "id": "b6b1c12625a7113e"
  },
  {
   "cell_type": "code",
   "execution_count": 25,
   "outputs": [
    {
     "data": {
      "text/plain": "dict_keys(['lambda_', 'gamma', 'batch_size', 'optimizer', 'best_weights', 'train_loss', 'valid_loss'])"
     },
     "execution_count": 25,
     "metadata": {},
     "output_type": "execute_result"
    }
   ],
   "source": [
    "with open('objs_no_oversampling_mixed.pkl', 'rb') as f:\n",
    "    res = pickle.load(f)\n",
    "\n",
    "res[0].keys()"
   ],
   "metadata": {
    "collapsed": false,
    "ExecuteTime": {
     "end_time": "2023-10-27T17:29:41.069942Z",
     "start_time": "2023-10-27T17:29:41.046662Z"
    }
   },
   "id": "b5f08feef995da0e"
  },
  {
   "cell_type": "code",
   "execution_count": 26,
   "outputs": [
    {
     "data": {
      "text/plain": "<Figure size 500x400 with 2 Axes>",
      "image/png": "[encoded data removed]"
     },
     "metadata": {},
     "output_type": "display_data"
    },
    {
     "data": {
      "text/plain": "<Figure size 500x400 with 2 Axes>",
      "image/png": "[encoded data removed]"
     },
     "metadata": {},
     "output_type": "display_data"
    },
    {
     "data": {
      "text/plain": "<Figure size 500x400 with 2 Axes>",
      "image/png": "[encoded data removed]"
     },
     "metadata": {},
     "output_type": "display_data"
    }
   ],
   "source": [
    "# Plot a heatmap for each batch size\n",
    "for batch_size in batch_sizes:\n",
    "    # Filter data for the current batch size\n",
    "    filtered_res = [d for d in res if d['batch_size'] == batch_size]\n",
    "\n",
    "    # Create a pivot table for the heatmap\n",
    "    pivot_res = np.zeros((len(np.unique([d['lambda_'] for d in res])),\n",
    "                           len(np.unique([d['gamma'] for d in res]))))\n",
    "    for item in filtered_res:\n",
    "        lambda_idx = np.where(np.unique([d['lambda_'] for d in res]) == item['lambda_'])[0][0]\n",
    "        gamma_idx = np.where(np.unique([d['gamma'] for d in res]) == item['gamma'])[0][0]\n",
    "        pivot_res[lambda_idx, gamma_idx] = item['valid_loss']\n",
    "\n",
    "    # Create a heatmap\n",
    "    plt.figure(figsize=(5, 4))\n",
    "    sns.heatmap(pivot_res, annot=True, xticklabels=np.unique([d['gamma'] for d in res]),\n",
    "                yticklabels=np.unique([d['lambda_'] for d in res]))\n",
    "    plt.xlabel('Gamma')\n",
    "    plt.ylabel('Lambda')\n",
    "    plt.title(f'Batch Size {batch_size} Heatmap')\n",
    "    plt.savefig(os.path.dirname(os.getcwd()) + '/plots/' + f'heatmap_batch_size_{batch_size}_new.png')\n",
    "\n",
    "\n"
   ],
   "metadata": {
    "collapsed": false,
    "ExecuteTime": {
     "end_time": "2023-10-27T17:29:41.654069Z",
     "start_time": "2023-10-27T17:29:41.205384Z"
    }
   },
   "id": "9f1849d6439df50b"
  },
  {
   "cell_type": "markdown",
   "source": [
    "## Evaluation on training set"
   ],
   "metadata": {
    "collapsed": false
   },
   "id": "1aeee948df6ad075"
  },
  {
   "cell_type": "code",
   "execution_count": 27,
   "outputs": [
    {
     "name": "stdout",
     "output_type": "stream",
     "text": [
      "Optimal hyperparameters: gamma 0.5, lambda 0.0001, batch size 10000\n",
      "Minimum validation loss: 0.21811610230352577\n"
     ]
    }
   ],
   "source": [
    "res.sort(key=lambda x: x[\"valid_loss\"], reverse=False)\n",
    "res_opt = res[0]\n",
    "print(\"Optimal hyperparameters: gamma {}, lambda {}, batch size {}\".format(res_opt[\"gamma\"],\n",
    "                                                                           res_opt[\"lambda_\"],\n",
    "                                                                           res_opt[\"batch_size\"]))\n",
    "print(\"Minimum validation loss: {}\".format(res_opt[\"valid_loss\"]))\n",
    "w_opt = res_opt[\"best_weights\"]"
   ],
   "metadata": {
    "collapsed": false,
    "ExecuteTime": {
     "end_time": "2023-10-27T17:29:41.654358Z",
     "start_time": "2023-10-27T17:29:41.648651Z"
    }
   },
   "id": "7411482c1875bd07"
  },
  {
   "cell_type": "code",
   "execution_count": 28,
   "outputs": [
    {
     "name": "stdout",
     "output_type": "stream",
     "text": [
      "EVALUATION SUMMARY ON TRAINING SET\n",
      "Accuracy: 91.65%\n",
      "Precision: 61.23%\n",
      "Recall: 15.70%\n",
      "F1-score: 24.99%\n"
     ]
    }
   ],
   "source": [
    "predicted_y_tr = predict(x_tr_bias,\n",
    "                         w_opt,\n",
    "                         threshold=0.5,\n",
    "                         negative_label=0)\n",
    "\n",
    "print(\"EVALUATION SUMMARY ON TRAINING SET\")\n",
    "evaluation_summary(y_tr, predicted_y_tr)"
   ],
   "metadata": {
    "collapsed": false,
    "ExecuteTime": {
     "end_time": "2023-10-27T17:29:42.366309Z",
     "start_time": "2023-10-27T17:29:42.338627Z"
    }
   },
   "id": "ff359b422657efa4"
  },
  {
   "cell_type": "code",
   "execution_count": 22,
   "outputs": [
    {
     "data": {
      "text/plain": "<Figure size 640x480 with 1 Axes>",
      "image/png": "[encoded data removed]"
     },
     "metadata": {},
     "output_type": "display_data"
    }
   ],
   "source": [
    "sns.histplot(predict_no_labels(x_tr_bias, w_opt), bins=30, kde=True)\n",
    "plt.title(\"Distribution of unlabeled predictions on training set\")\n",
    "plt.show()"
   ],
   "metadata": {
    "collapsed": false,
    "ExecuteTime": {
     "end_time": "2023-10-27T17:29:09.742997Z",
     "start_time": "2023-10-27T17:29:09.261964Z"
    }
   },
   "id": "9f9f9def8291efda"
  },
  {
   "cell_type": "markdown",
   "source": [
    "# Evaluation on validation set"
   ],
   "metadata": {
    "collapsed": false
   },
   "id": "4a062336d16cb11f"
  },
  {
   "cell_type": "code",
   "execution_count": 23,
   "outputs": [
    {
     "data": {
      "text/plain": "<Figure size 800x500 with 1 Axes>",
      "image/png": "[encoded data removed]"
     },
     "metadata": {},
     "output_type": "display_data"
    }
   ],
   "source": [
    "from util.plotting import decision_threshold\n",
    "opt_threshold = decision_threshold(x_va_bias, w_opt, y_va)"
   ],
   "metadata": {
    "collapsed": false,
    "ExecuteTime": {
     "end_time": "2023-10-27T17:29:18.067012Z",
     "start_time": "2023-10-27T17:29:17.398433Z"
    }
   },
   "id": "c1994ebe173c27f5"
  },
  {
   "cell_type": "code",
   "execution_count": 24,
   "outputs": [
    {
     "name": "stdout",
     "output_type": "stream",
     "text": [
      "EVALUATION SUMMARY ON VALIDATION SET\n",
      "Accuracy: 84.67%\n",
      "Precision: 29.25%\n",
      "Recall: 53.66%\n",
      "F1-score: 37.86%\n",
      "Optimal threshold -> 0.9950\n"
     ]
    }
   ],
   "source": [
    "predicted_y_va = predict(x_va_bias,\n",
    "                         w_opt,\n",
    "                         threshold=opt_threshold,\n",
    "                         negative_label=0)\n",
    "print(\"EVALUATION SUMMARY ON VALIDATION SET\")\n",
    "evaluation_summary(y_va, predicted_y_va)\n",
    "print(\"Optimal threshold -> {:.4f}\".format(opt_threshold))"
   ],
   "metadata": {
    "collapsed": false,
    "ExecuteTime": {
     "end_time": "2023-10-27T17:29:27.932894Z",
     "start_time": "2023-10-27T17:29:27.864911Z"
    }
   },
   "id": "6552088718b44c3e"
  },
  {
   "cell_type": "code",
   "execution_count": 17,
   "outputs": [
    {
     "data": {
      "text/plain": "<Figure size 640x480 with 1 Axes>",
      "image/png": "[encoded data removed]"
     },
     "metadata": {},
     "output_type": "display_data"
    }
   ],
   "source": [
    "sns.histplot(predict_no_labels(x_va_bias, w_opt), bins=30, kde=True)\n",
    "plt.title(\"Distribution of unlabeled predictions on validation set\")\n",
    "plt.show()"
   ],
   "metadata": {
    "collapsed": false,
    "ExecuteTime": {
     "end_time": "2023-10-27T17:28:25.980109Z",
     "start_time": "2023-10-27T17:28:25.806668Z"
    }
   },
   "id": "8278d139e24ed163"
  },
  {
   "cell_type": "markdown",
   "source": [
    "\n",
    "---\n",
    "\n",
    "# COMPUTE RESULT FOR SUBMISSION"
   ],
   "metadata": {
    "collapsed": false
   },
   "id": "38c630565361d30d"
  },
  {
   "cell_type": "code",
   "execution_count": 18,
   "outputs": [
    {
     "name": "stdout",
     "output_type": "stream",
     "text": [
      "Kept 124 features: dict_keys(['GENHLTH', 'PHYSHLTH', 'MENTHLTH', 'POORHLTH', 'PERSDOC2', 'MEDCOST', 'CHECKUP1', '_HCVU651', '_CHOLCHK', '_RFCHOL', 'CVDSTRK3', '_ASTHMS1', 'CHCSCNCR', 'CHCOCNCR', 'CHCCOPD1', '_DRDXAR1', 'ADDEPEV2', 'CHCKIDNY', 'DIABETE3', 'DIABAGE2', 'SEX', '_AGE80', 'MARITAL', '_CHLDCNT', '_EDUCAG', '_INCOMG', 'PREGNANT', 'QLACTLM2', 'USEEQUIP', 'DECIDE', 'DIFFWALK', 'DIFFDRES', 'DIFFALON', 'HTM4', 'WTKG3', '_BMI5', '_SMOKER3', 'USENOW3', 'DRNKANY5', 'DROCDY3_', '_RFBING5', '_DRNKWEK', '_RFDRHV5', 'FTJUDA1_', 'FRUTDA1_', 'BEANDAY_', 'GRENDAY_', 'ORNGDAY_', 'VEGEDA1_', '_FRUTSUM', '_VEGESUM', '_FRTLT1', '_VEGLT1', '_TOTINDA', 'METVL11_', 'METVL21_', 'MAXVO2_', 'ACTIN11_', 'ACTIN21_', 'PADUR1_', 'PADUR2_', 'PAFREQ1_', 'PAFREQ2_', '_MINAC11', '_MINAC21', 'STRFREQ_', 'PA1MIN_', 'PAVIG11_', 'PAVIG21_', 'PA1VIGM_', '_PACAT1', '_PAINDX1', '_PA150R2', '_PA300R2', '_PA30021', '_PASTRNG', 'FLUSHOT6', 'PNEUVAC3', 'HIVTST6', 'PREDIAB1', 'INSULIN', 'DOCTDIAB', 'CHKHEMO3', 'FEETCHK', 'DIABEYE', 'CIMEMLOS', 'CDASSIST', 'ASATTACK', 'ASERVIST', 'ASTHMED3', 'HAREHAB1', 'STREHAB1', 'CVDASPRN', 'RLIVPAIN', 'RDUCHART', 'RDUCSTRK', 'ARTHWGT', 'ARTHEXER', 'HADMAM', 'HADPAP2', 'HPVTEST', 'HADHYST2', 'PROFEXAM', 'BLDSTOOL', 'LSTBLDS3', 'HADSIGM3', 'LASTSIG3', 'PCPSARE1', 'PSATEST1', 'PSATIME', 'SCNTMNY1', 'SCNTMEL1', 'SCNTWRK1', 'ADDOWN', 'ADSLEEP', 'ADEAT1', 'MISTMNT', 'ADANXEV', '_RFHYPE5', '_LTASTH1', '_CASTHM1', '_LMTACT1', '_FLSHOT6', '_PNEUMO2'])\n"
     ]
    },
    {
     "ename": "AttributeError",
     "evalue": "'NoneType' object has no attribute 'shape'",
     "output_type": "error",
     "traceback": [
      "\u001B[0;31m---------------------------------------------------------------------------\u001B[0m",
      "\u001B[0;31mAttributeError\u001B[0m                            Traceback (most recent call last)",
      "Cell \u001B[0;32mIn[18], line 11\u001B[0m\n\u001B[1;32m      5\u001B[0m x_sub_preprocessed \u001B[38;5;241m=\u001B[39m preprocessing_pipeline(x_sub_clean,\n\u001B[1;32m      6\u001B[0m                                             where\u001B[38;5;241m=\u001B[39mclean_features,\n\u001B[1;32m      7\u001B[0m                                             feature_index\u001B[38;5;241m=\u001B[39mclean_feature_index,\n\u001B[1;32m      8\u001B[0m                                             nan_replacement\u001B[38;5;241m=\u001B[39mREPLACEMENT_LIST)\n\u001B[1;32m     10\u001B[0m \u001B[38;5;66;03m# Add bias column to the submission data\u001B[39;00m\n\u001B[0;32m---> 11\u001B[0m x_sub_bias \u001B[38;5;241m=\u001B[39m np\u001B[38;5;241m.\u001B[39mappend(x_sub_preprocessed, np\u001B[38;5;241m.\u001B[39mones(shape\u001B[38;5;241m=\u001B[39m(\u001B[43mx_sub_preprocessed\u001B[49m\u001B[38;5;241;43m.\u001B[39;49m\u001B[43mshape\u001B[49m[\u001B[38;5;241m0\u001B[39m], \u001B[38;5;241m1\u001B[39m)), axis\u001B[38;5;241m=\u001B[39m\u001B[38;5;241m1\u001B[39m)\n",
      "\u001B[0;31mAttributeError\u001B[0m: 'NoneType' object has no attribute 'shape'"
     ]
    }
   ],
   "source": [
    "ids = x_sub[:, 0]\n",
    "# Keep only selected features in submission\n",
    "x_sub_clean, clean_features, clean_feature_index = keep_features(x_sub, FEATURES_DICT.keys(), feature_names, feature_indexes)\n",
    "\n",
    "x_sub_preprocessed = preprocessing_pipeline(x_sub_clean,\n",
    "                                            where=clean_features,\n",
    "                                            feature_index=clean_feature_index,\n",
    "                                            nan_replacement=REPLACEMENT_LIST)\n",
    "\n",
    "# Add bias column to the submission data\n",
    "x_sub_bias = np.append(x_sub_preprocessed, np.ones(shape=(x_sub_preprocessed.shape[0], 1)), axis=1)"
   ],
   "metadata": {
    "collapsed": false,
    "ExecuteTime": {
     "end_time": "2023-10-27T17:28:38.402551Z",
     "start_time": "2023-10-27T17:28:28.366412Z"
    }
   },
   "id": "1671bb9e6224fcd3"
  },
  {
   "cell_type": "code",
   "execution_count": null,
   "outputs": [],
   "source": [
    "predicted_y_sub = predict(x_sub_bias,\n",
    "                          w_opt,\n",
    "                          threshold=opt_threshold,\n",
    "                          negative_label=-1)\n",
    "\n",
    "sns.histplot(predict_no_labels(x_sub_bias, w_opt), bins=30, kde=True)"
   ],
   "metadata": {
    "collapsed": false,
    "ExecuteTime": {
     "end_time": "2023-10-27T17:28:38.406281Z",
     "start_time": "2023-10-27T17:28:38.403885Z"
    }
   },
   "id": "7959791cb26e3099"
  },
  {
   "cell_type": "code",
   "execution_count": null,
   "outputs": [],
   "source": [
    "fig, axs = plt.subplots(nrows=1, ncols=2, figsize=(10, 5))\n",
    "\n",
    "sns.histplot(y_train, ax=axs[0])\n",
    "axs[0].set_title(\"Distribution of labels in training set\")\n",
    "sns.histplot(predicted_y_sub, ax=axs[1])\n",
    "axs[1].set_title(\"Distribution of predictions in submission set\")"
   ],
   "metadata": {
    "collapsed": false
   },
   "id": "444426d8da3e32e3"
  },
  {
   "cell_type": "code",
   "execution_count": null,
   "outputs": [],
   "source": [
    "# Save predictions to csv file\n",
    "\n",
    "create_csv_submission(ids=ids,\n",
    "                      y_pred=predicted_y_sub,\n",
    "                      path=BASE_PATH + \"/submission.csv\")"
   ],
   "metadata": {
    "collapsed": false
   },
   "id": "fa9f96e8e472b7a6"
  },
  {
   "cell_type": "code",
   "execution_count": null,
   "outputs": [],
   "source": [],
   "metadata": {
    "collapsed": false
   },
   "id": "b5a12be2f2d648b"
  }
 ],
 "metadata": {
  "kernelspec": {
   "display_name": "Python 3",
   "language": "python",
   "name": "python3"
  },
  "language_info": {
   "codemirror_mode": {
    "name": "ipython",
    "version": 2
   },
   "file_extension": ".py",
   "mimetype": "text/x-python",
   "name": "python",
   "nbconvert_exporter": "python",
   "pygments_lexer": "ipython2",
   "version": "2.7.6"
  }
 },
 "nbformat": 4,
 "nbformat_minor": 5
}
