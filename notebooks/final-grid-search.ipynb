{
 "cells": [
  {
   "cell_type": "code",
   "execution_count": 2,
   "outputs": [],
   "source": [
    "import os\n",
    "import numpy as np\n",
    "import pickle\n",
    "\n",
    "from util.data_loader import load_dataset, split_train_validation, create_csv_submission, change_negative_class\n",
    "from util.features_util import keep_features, merge_features\n",
    "from util.features_info import FEATURES_DICT, REPLACEMENT_LIST\n",
    "from util.preprocessing import preprocessing_pipeline, basic_preprocessing_pipeline\n",
    "from util.train import reg_logistic_regression_hyperparameters\n",
    "from util.evaluation import evaluation_summary, accuracy, f1_score\n",
    "from util.util import init_random_seeds\n",
    "from util.predict import predict\n",
    "from util.plotting import decision_threshold\n",
    "\n",
    "init_random_seeds()\n",
    "\n",
    "BASE_PATH = os.path.dirname(os.getcwd()) + \"/data\"\n",
    "\n",
    "\n",
    "# Load data without subsampling\n",
    "x_train, y_train, x_sub, feature_names = load_dataset(path_x_train=BASE_PATH + \"/x_train.csv\",\n",
    "                                                      path_y_train=BASE_PATH + \"/y_train.csv\",\n",
    "                                                      path_x_test=BASE_PATH + \"/x_test.csv\",\n",
    "                                                      sub_sample=False)"
   ],
   "metadata": {
    "collapsed": false,
    "ExecuteTime": {
     "end_time": "2023-10-29T22:09:04.798361Z",
     "start_time": "2023-10-29T22:07:58.071638Z"
    }
   },
   "id": "4f6ff2291e9804f2"
  },
  {
   "cell_type": "code",
   "execution_count": 3,
   "outputs": [],
   "source": [
    "# Create the feature index dictionary\n",
    "feature_index = dict(zip(feature_names, range(len(feature_names))))"
   ],
   "metadata": {
    "collapsed": false,
    "ExecuteTime": {
     "end_time": "2023-10-29T22:09:04.804073Z",
     "start_time": "2023-10-29T22:09:04.798708Z"
    }
   },
   "id": "473de0a6f6b2274d"
  },
  {
   "cell_type": "code",
   "execution_count": null,
   "outputs": [],
   "source": [
    "lambdas_ = [0.00001, 0.0001, 0.001, 0.01, 0.1]\n",
    "gammas = [0.01, 0.05, 0.1, 0.5, 1]\n",
    "batch_sizes = [10000]\n",
    "\n",
    "hyperparameters = {\n",
    "    \"lambda_\": lambdas_,\n",
    "    \"gamma\": gammas,\n",
    "    \"batch_size\": batch_sizes,\n",
    "    \"optimizer\": [\"sgd\"]\n",
    "}"
   ],
   "metadata": {
    "collapsed": false,
    "ExecuteTime": {
     "start_time": "2023-10-29T22:07:11.304963Z"
    }
   },
   "id": "c5bcab25fcdc7b0d"
  },
  {
   "cell_type": "markdown",
   "source": [
    "# THE GOOD"
   ],
   "metadata": {
    "collapsed": false
   },
   "id": "8c15585efa8efe8b"
  },
  {
   "cell_type": "code",
   "execution_count": null,
   "outputs": [],
   "source": [
    "############# Pre processing #############\n",
    "# Pre-process the selected features\n",
    "# Keeping only selected features both in train and validation set\n",
    "x_train_clean, clean_features, clean_feature_index = keep_features(x_train,\n",
    "                                                                   FEATURES_DICT.keys(),\n",
    "                                                                   feature_names,\n",
    "                                                                   feature_index,\n",
    "                                                                   verbose=False)\n",
    "# Call to the preprocessing pipeline both for the set of selected features\n",
    "x_train_clean_proc = preprocessing_pipeline(x_train_clean,\n",
    "                                            where=clean_features,\n",
    "                                            feature_index=clean_feature_index,\n",
    "                                            nan_replacement=REPLACEMENT_LIST,\n",
    "                                            normalize=\"z-score\")\n",
    "\n",
    "############# Data preparation #############\n",
    "# Translate labels from -1/1 to 0/1\n",
    "y_train = change_negative_class(y_train[:, 1], current=-1, new=0)\n",
    "\n",
    "# Split local data into train and validation\n",
    "(x_tr, x_va, y_tr, y_va) = split_train_validation(x_train_clean_proc,\n",
    "                                                  y_train,\n",
    "                                                  valid_proportion=0.1)\n",
    "\n",
    "# Add bias column to the training and validation data\n",
    "x_tr_bias = np.append(x_tr, np.ones(shape=(x_tr.shape[0], 1)), axis=1)\n",
    "x_va_bias = np.append(x_va, np.ones(shape=(x_va.shape[0], 1)), axis=1)\n",
    "\n",
    "\n",
    "############# Grid search #############\n",
    "res = reg_logistic_regression_hyperparameters(\n",
    "    x_tr_bias,\n",
    "    y_tr,\n",
    "    x_va_bias,\n",
    "    y_va,\n",
    "    hyperparameters\n",
    ")\n",
    "\n",
    "with open('THE-GOOD.pkl', 'wb') as f:\n",
    "    pickle.dump(res, f)\n",
    "\n",
    "# Keep best parameters\n",
    "print(\"THE GOOD:\")\n",
    "res.sort(key=lambda x: x[\"valid_loss\"], reverse=False)\n",
    "w_opt = res[0][\"best_weights\"]\n",
    "threshold_opt = decision_threshold(x_va_bias, w_opt, y_va)\n",
    "\n",
    "predicted_y_va = predict(x_va_bias,\n",
    "                         w_opt,\n",
    "                         threshold=threshold_opt,\n",
    "                         negative_label=0)\n",
    "# Print stats for best model\n",
    "print(\"EVALUATION SUMMARY FOR BEST PARAMS (gamma={} lambda={} batch-size={})\".format(res['gamma'], res['lambda_'], res['batch_size']))\n",
    "evaluation_summary(y_va, predicted_y_va)"
   ],
   "metadata": {
    "collapsed": false,
    "ExecuteTime": {
     "end_time": "2023-10-29T22:07:11.308089Z",
     "start_time": "2023-10-29T22:07:11.306080Z"
    }
   },
   "id": "8e6db36ccc5a8b55"
  },
  {
   "cell_type": "markdown",
   "source": [
    "# THE BAD"
   ],
   "metadata": {
    "collapsed": false
   },
   "id": "a796e5104a975b9"
  },
  {
   "cell_type": "code",
   "execution_count": null,
   "outputs": [],
   "source": [
    "############# Pre processing #############\n",
    "# Call to the basic preprocessing pipeline for all features \n",
    "x_train_proc = basic_preprocessing_pipeline(x_train,\n",
    "                                            where=feature_names,\n",
    "                                            feature_index=feature_index,\n",
    "                                            normalization=\"z-score\")\n",
    "\n",
    "############# Data preparation #############\n",
    "# Translate labels from -1/1 to 0/1\n",
    "y_train = change_negative_class(y_train[:, 1], current=-1, new=0)\n",
    "\n",
    "# Split local data into train and validation\n",
    "(x_tr, x_va, y_tr, y_va) = split_train_validation(x_train_proc,\n",
    "                                                  y_train,\n",
    "                                                  valid_proportion=0.1)\n",
    "\n",
    "# Add bias column to the training and validation data\n",
    "x_tr_bias = np.append(x_tr, np.ones(shape=(x_tr.shape[0], 1)), axis=1)\n",
    "x_va_bias = np.append(x_va, np.ones(shape=(x_va.shape[0], 1)), axis=1)\n",
    "\n",
    "\n",
    "############# Grid search #############\n",
    "res = reg_logistic_regression_hyperparameters(\n",
    "    x_tr_bias,\n",
    "    y_tr,\n",
    "    x_va_bias,\n",
    "    y_va,\n",
    "    hyperparameters\n",
    ")\n",
    "\n",
    "with open('THE-BAD.pkl', 'wb') as f:\n",
    "    pickle.dump(res, f)\n",
    "\n",
    "# Keep best parameters\n",
    "print(\"THE BAD:\")\n",
    "res.sort(key=lambda x: x[\"valid_loss\"], reverse=False)\n",
    "w_opt = res[0][\"best_weights\"]\n",
    "threshold_opt = decision_threshold(x_va_bias, w_opt, y_va)\n",
    "\n",
    "predicted_y_va = predict(x_va_bias,\n",
    "                         w_opt,\n",
    "                         threshold=threshold_opt,\n",
    "                         negative_label=0)\n",
    "# Print stats for best model\n",
    "print(\"EVALUATION SUMMARY FOR BEST PARAMS (gamma={} lambda={} batch-size={})\".format(res['gamma'], res['lambda_'], res['batch_size']))\n",
    "evaluation_summary(y_va, predicted_y_va)"
   ],
   "metadata": {
    "collapsed": false,
    "ExecuteTime": {
     "start_time": "2023-10-29T22:07:11.307623Z"
    }
   },
   "id": "5417c43831966020"
  },
  {
   "cell_type": "markdown",
   "source": [
    "# THE UGLY"
   ],
   "metadata": {
    "collapsed": false
   },
   "id": "9377be793cf41740"
  },
  {
   "cell_type": "code",
   "execution_count": null,
   "outputs": [],
   "source": [
    "x_train_clean, clean_features, clean_feature_index = keep_features(x_train,\n",
    "                                                                   FEATURES_DICT.keys(),\n",
    "                                                                   feature_names,\n",
    "                                                                   feature_index,\n",
    "                                                                   verbose=False)\n",
    "# Call to the preprocessing pipeline both for the set of selected features\n",
    "x_train_clean_proc = preprocessing_pipeline(x_train_clean,\n",
    "                                            where=clean_features,\n",
    "                                            feature_index=clean_feature_index,\n",
    "                                            nan_replacement=REPLACEMENT_LIST,\n",
    "                                            normalize=\"z-score\")\n",
    "\n",
    "# Call to a simplified version of the preprocessing pipeline on the rest of the features\n",
    "x_train_dirty_proc = basic_preprocessing_pipeline(x_train,\n",
    "                                                  where=[f for f in feature_names if f not in clean_features],\n",
    "                                                  feature_index=feature_index,\n",
    "                                                  normalization=\"z-score\")\n",
    "\n",
    "# Merge the results of the two preprocessing methods in one array\n",
    "x_train_merged = merge_features(x_big=x_train_dirty_proc,\n",
    "                                feature_index_big=feature_index,\n",
    "                                x_small=x_train_clean_proc,\n",
    "                                feature_index_small=clean_feature_index)\n",
    "\n",
    "\n",
    "############# Data preparation #############\n",
    "# Translate labels from -1/1 to 0/1\n",
    "y_train = change_negative_class(y_train[:, 1], current=-1, new=0)\n",
    "\n",
    "# Split local data into train and validation\n",
    "(x_tr, x_va, y_tr, y_va) = split_train_validation(x_train_merged,\n",
    "                                                  y_train,\n",
    "                                                  valid_proportion=0.1)\n",
    "\n",
    "# Add bias column to the training and validation data\n",
    "x_tr_bias = np.append(x_tr, np.ones(shape=(x_tr.shape[0], 1)), axis=1)\n",
    "x_va_bias = np.append(x_va, np.ones(shape=(x_va.shape[0], 1)), axis=1)\n",
    "\n",
    "############# Grid search #############\n",
    "res = reg_logistic_regression_hyperparameters(\n",
    "    x_tr_bias,\n",
    "    y_tr,\n",
    "    x_va_bias,\n",
    "    y_va,\n",
    "    hyperparameters\n",
    ")\n",
    "\n",
    "with open('THE-UGLY.pkl', 'wb') as f:\n",
    "    pickle.dump(res, f)\n",
    "\n",
    "# Keep best parameters\n",
    "print(\"THE UGLY:\")\n",
    "res.sort(key=lambda x: x[\"valid_loss\"], reverse=False)\n",
    "w_opt = res[0][\"best_weights\"]\n",
    "threshold_opt = decision_threshold(x_va_bias, w_opt, y_va)\n",
    "\n",
    "predicted_y_va = predict(x_va_bias,\n",
    "                         w_opt,\n",
    "                         threshold=threshold_opt,\n",
    "                         negative_label=0)\n",
    "# Print stats for best model\n",
    "print(\"EVALUATION SUMMARY FOR BEST PARAMS (gamma={} lambda={} batch-size={})\".format(res['gamma'], res['lambda_'], res['batch_size']))\n",
    "evaluation_summary(y_va, predicted_y_va)"
   ],
   "metadata": {
    "collapsed": false,
    "ExecuteTime": {
     "start_time": "2023-10-29T22:07:11.308988Z"
    }
   },
   "id": "d6e76bb029b67e1b"
  },
  {
   "cell_type": "code",
   "execution_count": null,
   "outputs": [],
   "source": [],
   "metadata": {
    "collapsed": false,
    "ExecuteTime": {
     "start_time": "2023-10-29T22:07:11.309674Z"
    }
   },
   "id": "f0be358a9b6fd325"
  },
  {
   "cell_type": "code",
   "execution_count": null,
   "outputs": [],
   "source": [],
   "metadata": {
    "collapsed": false,
    "ExecuteTime": {
     "end_time": "2023-10-29T22:07:11.310894Z",
     "start_time": "2023-10-29T22:07:11.310327Z"
    }
   },
   "id": "6e24628892a93a87"
  },
  {
   "cell_type": "code",
   "execution_count": null,
   "outputs": [],
   "source": [],
   "metadata": {
    "collapsed": false
   },
   "id": "3b27d50d75daf581"
  }
 ],
 "metadata": {
  "kernelspec": {
   "display_name": "Python 3",
   "language": "python",
   "name": "python3"
  },
  "language_info": {
   "codemirror_mode": {
    "name": "ipython",
    "version": 2
   },
   "file_extension": ".py",
   "mimetype": "text/x-python",
   "name": "python",
   "nbconvert_exporter": "python",
   "pygments_lexer": "ipython2",
   "version": "2.7.6"
  }
 },
 "nbformat": 4,
 "nbformat_minor": 5
}
