{
 "cells": [
  {
   "cell_type": "code",
   "execution_count": null,
   "outputs": [],
   "source": [
    "import os\n",
    "\n",
    "import numpy as np\n",
    "import matplotlib.pyplot as plt\n",
    "import seaborn as sns\n",
    "\n",
    "from util.data_loader import (load_dataset, split_train_validation, \n",
    "                              custom_random_oversampling, create_csv_submission,\n",
    "                              change_negative_class)\n",
    "from util.features_util import keep_features\n",
    "from util.features_info import FEATURES_DICT, REPLACEMENT_LIST, FEATURES_BY_CATEGORY\n",
    "from util.preprocessing import preprocessing_pipeline\n",
    "from util.custom_pca import CustomPCA\n",
    "from util.train import reg_logistic_regression\n",
    "from util.plotting import loss_visualization, decision_threshold\n",
    "from util.evaluation import evaluation_summary\n",
    "from util.predict import predict, predict_no_labels\n",
    "\n",
    "\n",
    "BASE_PATH = os.path.dirname(os.getcwd()) + \"/data\""
   ],
   "metadata": {
    "collapsed": false
   },
   "id": "85c380c8a2d01dff"
  },
  {
   "cell_type": "markdown",
   "source": [
    "# Data loading"
   ],
   "metadata": {
    "collapsed": false
   },
   "id": "3b64d4bcc611d949"
  },
  {
   "cell_type": "markdown",
   "source": [
    "### ⚠️ Note that the `x_sub` here refers to data for which predictions will be made, but for which we don't have the labels! To refer to the data used for local testing we'll use `x_va` and `y_va` (validation)."
   ],
   "metadata": {
    "collapsed": false
   },
   "id": "a5937ab513c67357"
  },
  {
   "cell_type": "code",
   "execution_count": null,
   "id": "initial_id",
   "metadata": {
    "collapsed": true
   },
   "outputs": [],
   "source": [
    "# Load data without subsampling\n",
    "x_train, y_train, x_sub, feature_names = load_dataset(path_x_train=BASE_PATH + \"/x_train.csv\",\n",
    "                                                      path_y_train=BASE_PATH + \"/y_train.csv\",\n",
    "                                                      path_x_test=BASE_PATH + \"/x_test.csv\",\n",
    "                                                      sub_sample=False)\n",
    "# Create the feature index dictionary\n",
    "feature_indexes = dict(zip(feature_names, range(len(feature_names))))"
   ]
  },
  {
   "cell_type": "markdown",
   "source": [
    "# Pre-processing"
   ],
   "metadata": {
    "collapsed": false
   },
   "id": "36e3edd16fb40470"
  },
  {
   "cell_type": "code",
   "execution_count": null,
   "outputs": [],
   "source": [
    "# Keeping only selected features both in train and validation set\n",
    "x_train_clean, clean_features, clean_feature_index = keep_features(x_train, FEATURES_DICT.keys(), feature_names, feature_indexes)"
   ],
   "metadata": {
    "collapsed": false
   },
   "id": "e689f404263de818"
  },
  {
   "cell_type": "code",
   "execution_count": null,
   "outputs": [],
   "source": [
    "# Call to the preprocessing pipeline both for train and test set\n",
    "# NOTE: the preprocessing automatically performs also normalization\n",
    "\n",
    "x_train_preprocessed = preprocessing_pipeline(x_train_clean, \n",
    "                                              where=clean_features,\n",
    "                                              feature_index=clean_feature_index,\n",
    "                                              nan_replacement=REPLACEMENT_LIST)\n",
    "\n",
    "# Translate labels from -1/1 to 0/1\n",
    "reduced_y_train = change_negative_class(y_train[:, 1], current=-1, new=0)"
   ],
   "metadata": {
    "collapsed": false
   },
   "id": "27a66579f5168c5e"
  },
  {
   "cell_type": "markdown",
   "source": [
    "### PCA exploration"
   ],
   "metadata": {
    "collapsed": false
   },
   "id": "8f3f7891544d529a"
  },
  {
   "cell_type": "markdown",
   "source": [
    "##### For each group of features we plot the correlation matrix. Then we're going to perform PCA on each group of features."
   ],
   "metadata": {
    "collapsed": false
   },
   "id": "86036bd6fbd414b3"
  },
  {
   "cell_type": "code",
   "execution_count": null,
   "outputs": [],
   "source": [
    "# Plot correlation matrix (2 plot per each row)\n",
    "for i, category in enumerate(FEATURES_BY_CATEGORY.keys()):\n",
    "    # Create list of features to keep\n",
    "    tmp_fs_to_keep = [str(f) for f in FEATURES_BY_CATEGORY[category]]\n",
    "    \n",
    "    tmp_x, tmp_features, tmp_feature_index = keep_features(x_train_preprocessed,\n",
    "                                                           features_to_keep=tmp_fs_to_keep,\n",
    "                                                           features=clean_features,\n",
    "                                                           feature_index=clean_feature_index,\n",
    "                                                           verbose=False)\n",
    "\n",
    "    if len(tmp_fs_to_keep) > 1:\n",
    "        # Calculate the correlation matrix using numpy\n",
    "        fig = plt.figure(figsize=(6, 6))\n",
    "        ax = plt.gca()\n",
    "        \n",
    "        correlation_matrix = np.corrcoef(tmp_x, rowvar=False)\n",
    "        sns.heatmap(correlation_matrix, annot=False, fmt='.2f', cmap='coolwarm', square=True,\n",
    "                    xticklabels=tmp_features, yticklabels=tmp_features, ax=ax, vmin=-1, vmax=1)\n",
    "    \n",
    "        # Set axis labels and title\n",
    "        plt.title(category)\n",
    "        plt.tight_layout()\n",
    "        plt.savefig(os.path.dirname(os.getcwd()) + \"/plots/corr_matrix_{}.png\".format(category))\n",
    "        plt.close(fig)\n",
    "        "
   ],
   "metadata": {
    "collapsed": false
   },
   "id": "40a5f413cd3ebeb8"
  },
  {
   "cell_type": "code",
   "execution_count": null,
   "outputs": [],
   "source": [
    "# Perform PCA on each group of features, keeping only the smallest\n",
    "# number of components that explain 90% of the variance\n",
    "\n",
    "reduced_x_train = np.empty((x_train_preprocessed.shape[0], 0))\n",
    "\n",
    "PCA_per_category = {}\n",
    "\n",
    "for category in FEATURES_BY_CATEGORY.keys():\n",
    "    \n",
    "    if len(FEATURES_BY_CATEGORY[category]) > 1:\n",
    "        # Create the array with data only for the current category\n",
    "        fs_in_category = [str(f) for f in FEATURES_BY_CATEGORY[category]]\n",
    "        fs_in_category_indices = [clean_feature_index[feature] for feature in clean_features if feature in fs_in_category]\n",
    "        category_data = x_train_preprocessed[:, fs_in_category_indices]\n",
    "        \n",
    "        # Cerates the PCA object and fit the data\n",
    "        tmp_pca = CustomPCA()\n",
    "        tmp_pca.fit(category_data)\n",
    "        # Save the PCA object so that we can use it later to transform the test data\n",
    "        PCA_per_category[category] = tmp_pca\n",
    "        \n",
    "        # Append the reduced data to the combined matrix\n",
    "        reduced_data = tmp_pca.transform(category_data, threshold=0.9)\n",
    "        reduced_x_train = np.concatenate((reduced_x_train, reduced_data), axis=1)\n",
    "        \n",
    "    else:\n",
    "        reduced_x_train = np.concatenate((reduced_x_train, x_train_preprocessed[:, clean_feature_index[str(FEATURES_BY_CATEGORY[category][0])]].reshape(-1, 1)), axis=1)\n"
   ],
   "metadata": {
    "collapsed": false
   },
   "id": "6218046b46dbb033"
  },
  {
   "cell_type": "code",
   "execution_count": null,
   "outputs": [],
   "source": [
    "print(\"Number of features reduced to {} thanks to PCA\".format(reduced_x_train.shape[1]))"
   ],
   "metadata": {
    "collapsed": false
   },
   "id": "e38d1bfd22363d69"
  },
  {
   "cell_type": "markdown",
   "source": [
    "## Split local data into train and validation"
   ],
   "metadata": {
    "collapsed": false
   },
   "id": "586b891cc87308d6"
  },
  {
   "cell_type": "markdown",
   "source": [
    "#### From now on we'll use the local train and validation data: `x_tr` and `y_tr` for training and `x_va` and `y_va` for validation"
   ],
   "metadata": {
    "collapsed": false
   },
   "id": "e62ba34f804ff725"
  },
  {
   "cell_type": "code",
   "execution_count": null,
   "outputs": [],
   "source": [
    "\n",
    "\n",
    "# Split local data into train and validation\n",
    "(x_tr, x_va, y_tr, y_va) = split_train_validation(reduced_x_train,\n",
    "                                                  reduced_y_train,\n",
    "                                                  valid_proportion=0.2)"
   ],
   "metadata": {
    "collapsed": false
   },
   "id": "78216bae25f9daf1"
  },
  {
   "cell_type": "markdown",
   "source": [
    "## Data preparation for training"
   ],
   "metadata": {
    "collapsed": false
   },
   "id": "dad9faf89279df11"
  },
  {
   "cell_type": "code",
   "execution_count": null,
   "outputs": [],
   "source": [
    "# Perform over sampling (due to unbalanced data)\n",
    "x_tr_oversampled, y_tr_oversampled = custom_random_oversampling(x_tr, y_tr)\n",
    "\n",
    "# NOTE: to properly validate the model we should not oversampled the validation set!\n",
    "# x_va_oversampled, y_va_oversampled = custom_random_oversampling(x_va, y_va[:,1])\n",
    "\n",
    "\n",
    "# Add bias column to the training and validation data\n",
    "x_tr_oversampled_bias = np.append(x_tr_oversampled, np.ones(shape=(x_tr_oversampled.shape[0], 1)), axis=1)\n",
    "x_va_bias = np.append(x_va, np.ones(shape=(x_va.shape[0], 1)), axis=1)\n"
   ],
   "metadata": {
    "collapsed": false
   },
   "id": "ec5c3da2192a614c"
  },
  {
   "cell_type": "markdown",
   "source": [
    "# Training"
   ],
   "metadata": {
    "collapsed": false
   },
   "id": "36603cf5d842e758"
  },
  {
   "cell_type": "code",
   "execution_count": null,
   "outputs": [],
   "source": [
    "w, train_loss, valid_loss = reg_logistic_regression(x_tr_oversampled_bias,\n",
    "                                                    y_tr_oversampled,\n",
    "                                                    x_va_bias,\n",
    "                                                    y_va,\n",
    "                                                    lambda_=0.001, \n",
    "                                                    max_iter=5000,\n",
    "                                                    gamma=0.01,\n",
    "                                                    batch_size=100, \n",
    "                                                    w=np.random.random(size=x_tr_oversampled_bias.shape[1]),\n",
    "                                                    all_losses=True)\n"
   ],
   "metadata": {
    "collapsed": false
   },
   "id": "55f08d97bec28491"
  },
  {
   "cell_type": "code",
   "execution_count": null,
   "outputs": [],
   "source": [
    "# plot losses\n",
    "loss_visualization(train_loss, valid_loss)\n",
    "plt.yscale(\"log\")"
   ],
   "metadata": {
    "collapsed": false
   },
   "id": "b9ea96301cc4be57"
  },
  {
   "cell_type": "markdown",
   "source": [
    "# Evaluation on training set"
   ],
   "metadata": {
    "collapsed": false
   },
   "id": "1aeee948df6ad075"
  },
  {
   "cell_type": "code",
   "execution_count": null,
   "outputs": [],
   "source": [
    "predicted_y_tr = predict(x_tr_oversampled_bias,\n",
    "                         w,\n",
    "                         threshold=0.5,\n",
    "                         negative_label=0)\n",
    "\n",
    "print(\"EVALUATION SUMMARY ON TRAINING SET\")\n",
    "evaluation_summary(y_tr_oversampled, predicted_y_tr)"
   ],
   "metadata": {
    "collapsed": false
   },
   "id": "ff359b422657efa4"
  },
  {
   "cell_type": "code",
   "execution_count": null,
   "outputs": [],
   "source": [
    "sns.histplot(predict_no_labels(x_tr_oversampled_bias, w), bins=30, kde=True)\n",
    "plt.title(\"Distribution of unlabeled predictions on training set\")\n",
    "plt.show()"
   ],
   "metadata": {
    "collapsed": false
   },
   "id": "9f9f9def8291efda"
  },
  {
   "cell_type": "markdown",
   "source": [
    "# Evaluation on validation set"
   ],
   "metadata": {
    "collapsed": false
   },
   "id": "4a062336d16cb11f"
  },
  {
   "cell_type": "code",
   "execution_count": null,
   "outputs": [],
   "source": [
    "predicted_y_va = predict(x_va_bias,\n",
    "                         w,\n",
    "                         threshold=0.65,\n",
    "                         negative_label=0)\n",
    "print(\"EVALUATION SUMMARY ON VALIDATION SET\")\n",
    "evaluation_summary(y_va, predicted_y_va)"
   ],
   "metadata": {
    "collapsed": false
   },
   "id": "6552088718b44c3e"
  },
  {
   "cell_type": "code",
   "execution_count": null,
   "outputs": [],
   "source": [
    "sns.histplot(predict_no_labels(x_va_bias, w), bins=30, kde=True)\n",
    "plt.title(\"Distribution of unlabeled predictions on validation set\")\n",
    "plt.show()"
   ],
   "metadata": {
    "collapsed": false
   },
   "id": "8278d139e24ed163"
  },
  {
   "cell_type": "code",
   "execution_count": null,
   "outputs": [],
   "source": [
    "decision_threshold(x_va_bias, w, y_va)"
   ],
   "metadata": {
    "collapsed": false
   },
   "id": "8fec4251777fd09f"
  },
  {
   "cell_type": "markdown",
   "source": [
    "\n",
    "---\n",
    "\n",
    "# COMPUTE RESULT FOR SUBMISSION"
   ],
   "metadata": {
    "collapsed": false
   },
   "id": "38c630565361d30d"
  },
  {
   "cell_type": "markdown",
   "source": [
    "## Pre processing and data preparation"
   ],
   "metadata": {
    "collapsed": false
   },
   "id": "7b247e61f9a811fb"
  },
  {
   "cell_type": "code",
   "execution_count": null,
   "outputs": [],
   "source": [
    "# Keep only selected features in submission data\n",
    "ids = x_sub[:, 0]\n",
    "\n",
    "x_sub_clean, clean_features, clean_feature_index = keep_features(x_sub, FEATURES_DICT.keys(), feature_names, feature_indexes)\n",
    "\n",
    "x_sub_preprocessed = preprocessing_pipeline(x_sub_clean,\n",
    "                                            where=clean_features,\n",
    "                                            feature_index=clean_feature_index,\n",
    "                                            nan_replacement=REPLACEMENT_LIST)"
   ],
   "metadata": {
    "collapsed": false
   },
   "id": "1671bb9e6224fcd3"
  },
  {
   "cell_type": "code",
   "execution_count": null,
   "outputs": [],
   "source": [
    "# Perform PCA on each group of features, keeping the same components \n",
    "# that have explained 90% of the variance for the training data\n",
    "\n",
    "reduced_x_sub = np.empty((x_sub_preprocessed.shape[0], 0))\n",
    "\n",
    "for category in FEATURES_BY_CATEGORY.keys():\n",
    "\n",
    "    if len(FEATURES_BY_CATEGORY[category]) > 1:\n",
    "        # Create the array with data only for the current category\n",
    "        fs_in_category = [str(f) for f in FEATURES_BY_CATEGORY[category]]\n",
    "        fs_in_category_indices = [clean_feature_index[feature] for feature in clean_features if feature in fs_in_category]\n",
    "        category_data_sub = x_sub_preprocessed[:, fs_in_category_indices]\n",
    "        \n",
    "        # Load the PCA object for the current category (already fitted on the training data)\n",
    "        tmp_pca = PCA_per_category[category]\n",
    "        # Append the reduced data to the combined matrix        \n",
    "        reduced_data = tmp_pca.transform(category_data_sub, threshold=0.9)\n",
    "        reduced_x_sub = np.concatenate((reduced_x_sub, reduced_data), axis=1)\n",
    "    else:\n",
    "        reduced_x_sub = np.concatenate((reduced_x_sub, x_sub_preprocessed[:, clean_feature_index[str(FEATURES_BY_CATEGORY[category][0])]].reshape(-1, 1)), axis=1)\n"
   ],
   "metadata": {
    "collapsed": false
   },
   "id": "c7442b56519a9aca"
  },
  {
   "cell_type": "code",
   "execution_count": null,
   "outputs": [],
   "source": [
    "# Add bias column to the submission data\n",
    "x_sub_bias = np.append(reduced_x_sub, np.ones(shape=(reduced_x_sub.shape[0], 1)), axis=1)"
   ],
   "metadata": {
    "collapsed": false
   },
   "id": "6d77412288ed4710"
  },
  {
   "cell_type": "code",
   "execution_count": null,
   "outputs": [],
   "source": [
    "predicted_y_sub = predict(x_sub_bias,\n",
    "                          w,\n",
    "                          threshold=0.65,\n",
    "                          negative_label=-1)\n",
    "\n",
    "sns.histplot(predict_no_labels(x_sub_bias, w), bins=30, kde=True)"
   ],
   "metadata": {
    "collapsed": false
   },
   "id": "7959791cb26e3099"
  },
  {
   "cell_type": "code",
   "execution_count": null,
   "outputs": [],
   "source": [
    "# Save predictions to csv file\n",
    "\n",
    "create_csv_submission(ids=ids, y_pred=predicted_y_sub, path=BASE_PATH + \"/submission.csv\")\n",
    "\n",
    "reduced_y_train = change_negative_class(y_train[:, 1], current=-1, new=0)\n"
   ],
   "metadata": {
    "collapsed": false
   },
   "id": "fa9f96e8e472b7a6"
  }
 ],
 "metadata": {
  "kernelspec": {
   "display_name": "Python 3",
   "language": "python",
   "name": "python3"
  },
  "language_info": {
   "codemirror_mode": {
    "name": "ipython",
    "version": 2
   },
   "file_extension": ".py",
   "mimetype": "text/x-python",
   "name": "python",
   "nbconvert_exporter": "python",
   "pygments_lexer": "ipython2",
   "version": "2.7.6"
  }
 },
 "nbformat": 4,
 "nbformat_minor": 5
}
