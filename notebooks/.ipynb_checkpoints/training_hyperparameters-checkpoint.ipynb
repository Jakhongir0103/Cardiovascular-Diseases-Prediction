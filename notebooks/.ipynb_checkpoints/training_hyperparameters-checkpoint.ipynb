{
 "cells": [
  {
   "cell_type": "code",
   "execution_count": 3,
   "id": "initial_id",
   "metadata": {
    "ExecuteTime": {
     "start_time": "2023-10-24T17:24:31.453380Z"
    },
    "is_executing": true,
    "tags": []
   },
   "outputs": [],
   "source": [
    "import matplotlib.pyplot as plt\n",
    "\n",
    "# LOAD DATASET\n",
    "import os\n",
    "from util.data_loader import load_dataset\n",
    "\n",
    "BASE_PATH = os.path.dirname(os.getcwd()) + \"/data\"\n",
    "\n",
    "# Load data without subsampling\n",
    "x_train, y_train, x_test, feature_names = load_dataset(path_x_train=BASE_PATH + \"/x_train.csv\",\n",
    "                                                      path_y_train=BASE_PATH + \"/y_train.csv\",\n",
    "                                                      path_x_test=BASE_PATH + \"/x_test.csv\",\n",
    "                                                      sub_sample=False)"
   ]
  },
  {
   "cell_type": "code",
   "execution_count": null,
   "id": "d8b2a808-0019-4c13-a4df-8d6242a3e87d",
   "metadata": {},
   "outputs": [],
   "source": []
  },
  {
   "cell_type": "code",
   "execution_count": 1,
   "id": "32bf9dc9-2392-411d-828f-1d5c2b9fc0e2",
   "metadata": {
    "tags": []
   },
   "outputs": [],
   "source": [
    "import matplotlib.pyplot as plt\n",
    "import sys\n",
    "# Add the path to the scripts folder\n",
    "sys.path.append('..')\n",
    "from util.data_loader import load_dataset\n",
    "x_train, y_train, x_test, feature_names = load_dataset(\n",
    "    path_x_train=\"./../../course/projects/project1/data/dataset/x_train.csv\",\n",
    "    path_y_train=\"./../../course/projects/project1/data/dataset/y_train.csv\",\n",
    "    path_x_test=\"./../../course/projects/project1/data/dataset/x_test.csv\",\n",
    "    sub_sample=False\n",
    ")"
   ]
  },
  {
   "cell_type": "markdown",
   "id": "11cab552-58bb-4833-bcef-75874080452e",
   "metadata": {},
   "source": [
    "# Preprocess"
   ]
  },
  {
   "cell_type": "code",
   "execution_count": 2,
   "id": "e689f404263de818",
   "metadata": {
    "collapsed": false,
    "is_executing": true,
    "jupyter": {
     "outputs_hidden": false
    },
    "tags": []
   },
   "outputs": [
    {
     "name": "stdout",
     "output_type": "stream",
     "text": [
      "Kept 76 features: dict_keys(['GENHLTH', 'PHYSHLTH', 'MENTHLTH', 'POORHLTH', 'PERSDOC2', 'MEDCOST', 'CHECKUP1', '_HCVU651', '_CHOLCHK', '_RFCHOL', 'CVDSTRK3', '_ASTHMS1', 'CHCSCNCR', 'CHCOCNCR', 'CHCCOPD1', '_DRDXAR1', 'ADDEPEV2', 'CHCKIDNY', 'DIABETE3', 'DIABAGE2', 'SEX', '_AGE80', 'MARITAL', '_CHLDCNT', '_EDUCAG', '_INCOMG', 'PREGNANT', 'QLACTLM2', 'USEEQUIP', 'DECIDE', 'DIFFWALK', 'DIFFDRES', 'DIFFALON', 'HTM4', 'WTKG3', '_BMI5', '_SMOKER3', 'USENOW3', 'DRNKANY5', 'DROCDY3_', '_RFBING5', '_DRNKWEK', '_RFDRHV5', 'FTJUDA1_', 'FRUTDA1_', 'BEANDAY_', 'GRENDAY_', 'ORNGDAY_', 'VEGEDA1_', '_FRUTSUM', '_VEGESUM', '_FRTLT1', '_VEGLT1', '_TOTINDA', 'METVL11_', 'METVL21_', 'MAXVO2_', 'ACTIN11_', 'ACTIN21_', 'PADUR1_', 'PADUR2_', 'PAFREQ1_', 'PAFREQ2_', '_MINAC11', '_MINAC21', 'STRFREQ_', 'PA1MIN_', 'PAVIG11_', 'PAVIG21_', 'PA1VIGM_', '_PACAT1', '_PAINDX1', '_PA150R2', '_PA300R2', '_PA30021', '_PASTRNG'])\n",
      "Kept 76 features: dict_keys(['GENHLTH', 'PHYSHLTH', 'MENTHLTH', 'POORHLTH', 'PERSDOC2', 'MEDCOST', 'CHECKUP1', '_HCVU651', '_CHOLCHK', '_RFCHOL', 'CVDSTRK3', '_ASTHMS1', 'CHCSCNCR', 'CHCOCNCR', 'CHCCOPD1', '_DRDXAR1', 'ADDEPEV2', 'CHCKIDNY', 'DIABETE3', 'DIABAGE2', 'SEX', '_AGE80', 'MARITAL', '_CHLDCNT', '_EDUCAG', '_INCOMG', 'PREGNANT', 'QLACTLM2', 'USEEQUIP', 'DECIDE', 'DIFFWALK', 'DIFFDRES', 'DIFFALON', 'HTM4', 'WTKG3', '_BMI5', '_SMOKER3', 'USENOW3', 'DRNKANY5', 'DROCDY3_', '_RFBING5', '_DRNKWEK', '_RFDRHV5', 'FTJUDA1_', 'FRUTDA1_', 'BEANDAY_', 'GRENDAY_', 'ORNGDAY_', 'VEGEDA1_', '_FRUTSUM', '_VEGESUM', '_FRTLT1', '_VEGLT1', '_TOTINDA', 'METVL11_', 'METVL21_', 'MAXVO2_', 'ACTIN11_', 'ACTIN21_', 'PADUR1_', 'PADUR2_', 'PAFREQ1_', 'PAFREQ2_', '_MINAC11', '_MINAC21', 'STRFREQ_', 'PA1MIN_', 'PAVIG11_', 'PAVIG21_', 'PA1VIGM_', '_PACAT1', '_PAINDX1', '_PA150R2', '_PA300R2', '_PA30021', '_PASTRNG'])\n"
     ]
    }
   ],
   "source": [
    "# REMOVE USELESS FEATURES\n",
    "from util.features_info import FEATURES_DICT\n",
    "from util.features_util import keep_features\n",
    "feature_indexes = dict(zip(feature_names, range(len(feature_names))))\n",
    "x_clean, clean_features, clean_feature_index = keep_features(x_train, FEATURES_DICT.keys(), feature_names, feature_indexes)\n",
    "\n",
    "x_test_clean, clean_features, clean_feature_index = keep_features(x_test, FEATURES_DICT.keys(), feature_names, feature_indexes)"
   ]
  },
  {
   "cell_type": "code",
   "execution_count": 3,
   "id": "27a66579f5168c5e",
   "metadata": {
    "ExecuteTime": {
     "end_time": "2023-10-23T17:56:17.192723700Z",
     "start_time": "2023-10-23T17:56:03.104818Z"
    },
    "collapsed": false,
    "jupyter": {
     "outputs_hidden": false
    },
    "tags": []
   },
   "outputs": [
    {
     "name": "stderr",
     "output_type": "stream",
     "text": [
      "C:\\Users\\jsayd\\anaconda3\\envs\\ml\\lib\\site-packages\\numpy\\lib\\function_base.py:2455: RuntimeWarning: invalid value encountered in <lambda> (vectorized)\n",
      "  outputs = ufunc(*inputs)\n"
     ]
    }
   ],
   "source": [
    "# PREPROCESS KEPT FEATURES\n",
    "import numpy as np\n",
    "from util.features_info import REPLACEMENT_LIST\n",
    "from util.preprocessing import preprocessing_pipeline\n",
    "x_preprocessed = preprocessing_pipeline(x_clean, \n",
    "                                        where=clean_features, \n",
    "                                        feature_index=clean_feature_index,\n",
    "                                        nan_replacement=REPLACEMENT_LIST)\n",
    "\n",
    "# x_test_preprocessed = preprocessing_pipeline(x_test_clean, \n",
    "#                                              where=clean_features, \n",
    "#                                              feature_index=clean_feature_index, \n",
    "#                                              nan_replacement=REPLACEMENT_LIST)"
   ]
  },
  {
   "cell_type": "code",
   "execution_count": 5,
   "id": "78216bae25f9daf1",
   "metadata": {
    "ExecuteTime": {
     "end_time": "2023-10-23T17:56:18.982788700Z",
     "start_time": "2023-10-23T17:56:18.832764400Z"
    },
    "collapsed": false,
    "jupyter": {
     "outputs_hidden": false
    },
    "tags": []
   },
   "outputs": [],
   "source": [
    "# Split train-validation\n",
    "from util.data_loader import split_train_validation\n",
    "(x_tr, x_va, y_tr, y_va) = split_train_validation(x_preprocessed, y_train, valid_proportion=0.2)"
   ]
  },
  {
   "cell_type": "code",
   "execution_count": 6,
   "id": "ec5c3da2192a614c",
   "metadata": {
    "ExecuteTime": {
     "end_time": "2023-10-23T18:27:45.667705900Z",
     "start_time": "2023-10-23T18:27:45.476992200Z"
    },
    "collapsed": false,
    "jupyter": {
     "outputs_hidden": false
    },
    "tags": []
   },
   "outputs": [],
   "source": [
    "# oversample training set\n",
    "from util.data_loader import custom_random_oversampling\n",
    "x_tr_oversampled, y_tr_oversampled = custom_random_oversampling(x_tr, y_tr[:,1])"
   ]
  },
  {
   "cell_type": "code",
   "execution_count": 7,
   "id": "194c8ca69524682d",
   "metadata": {
    "ExecuteTime": {
     "end_time": "2023-10-23T17:52:14.416786800Z",
     "start_time": "2023-10-23T17:52:14.400486400Z"
    },
    "collapsed": false,
    "jupyter": {
     "outputs_hidden": false
    },
    "tags": []
   },
   "outputs": [],
   "source": [
    "import numpy as np\n",
    "\n",
    "def min_max_normalize(arr: np.ndarray):\n",
    "    arr_normalized = np.empty_like(arr)\n",
    "    for column in range(arr.shape[1]):\n",
    "        arr_normalized[:, column] = (arr[:, column] - arr[:, column].min()) / (arr[:, column].max() - arr[:, column].min())\n",
    "    return arr_normalized"
   ]
  },
  {
   "cell_type": "code",
   "execution_count": 8,
   "id": "dc504c843df38854",
   "metadata": {
    "ExecuteTime": {
     "end_time": "2023-10-23T18:27:55.028245700Z",
     "start_time": "2023-10-23T18:27:51.665531700Z"
    },
    "collapsed": false,
    "jupyter": {
     "outputs_hidden": false
    },
    "tags": []
   },
   "outputs": [],
   "source": [
    "# Normalize and add bias column for TRAINING\n",
    "x_tr_normalized = min_max_normalize(x_tr_oversampled)\n",
    "x_tr_normalized = np.append(x_tr_normalized, np.ones(shape=(x_tr_normalized.shape[0], 1)), axis=1)\n",
    "\n",
    "# Normalize and add bias column for VALIDATION\n",
    "x_va_normalized = min_max_normalize(x_va)\n",
    "x_va_normalized = np.append(x_va_normalized, np.ones(shape=(x_va_normalized.shape[0], 1)), axis=1)\n",
    "\n",
    "# # Normalize and add bias column for TEST\n",
    "# x_test_normalized = min_max_normalize(x_test)\n",
    "# x_test_normalized = np.append(x_test_normalized, np.ones(shape=(x_test_normalized.shape[0], 1)), axis=1)"
   ]
  },
  {
   "cell_type": "code",
   "execution_count": 9,
   "id": "6b327bc4-9506-4a8d-893d-66a349c39922",
   "metadata": {
    "tags": []
   },
   "outputs": [],
   "source": [
    "x_tr_bias = np.append(x_tr, np.ones(shape=(x_tr.shape[0], 1)), axis=1)\n",
    "x_va_bias = np.append(x_va, np.ones(shape=(x_va.shape[0], 1)), axis=1)"
   ]
  },
  {
   "cell_type": "markdown",
   "id": "87b6d31c-7930-4f72-91ef-38d9b9ab72c5",
   "metadata": {},
   "source": [
    "# Train"
   ]
  },
  {
   "cell_type": "code",
   "execution_count": 10,
   "id": "08326178-72d5-49a7-b4ac-47eeb66e9d20",
   "metadata": {
    "tags": []
   },
   "outputs": [],
   "source": [
    "# Change the negative class of the output from -1 to 0\n",
    "y_tr_oversampled = np.where(y_tr_oversampled == -1, 0, y_tr_oversampled)\n",
    "y_tr = np.where(y_tr == -1, 0, y_tr)\n",
    "y_va = np.where(y_va == -1, 0, y_va)"
   ]
  },
  {
   "cell_type": "markdown",
   "id": "79ccd8ac-e58c-42e8-ab30-4604151ae0c5",
   "metadata": {},
   "source": [
    "### Find best hyperparameters"
   ]
  },
  {
   "cell_type": "code",
   "execution_count": 56,
   "id": "4f9427f4-6f67-426b-9c62-c74901172126",
   "metadata": {
    "tags": []
   },
   "outputs": [
    {
     "name": "stderr",
     "output_type": "stream",
     "text": [
      "C:\\Users\\jsayd\\AppData\\Local\\Temp\\ipykernel_332\\2053587119.py:184: RuntimeWarning: overflow encountered in exp\n",
      "  return 1 / (1 + np.exp(-t))\n"
     ]
    },
    {
     "name": "stdout",
     "output_type": "stream",
     "text": [
      "min val loss: 0.3664531359577239 for lambda=2.1544346900318867e-07, gamma=0.005994842503189421\n"
     ]
    },
    {
     "name": "stderr",
     "output_type": "stream",
     "text": [
      "C:\\Users\\jsayd\\AppData\\Local\\Temp\\ipykernel_332\\2053587119.py:172: RuntimeWarning: overflow encountered in exp\n",
      "  return reg + np.sum(np.log(1 + np.exp(tx @ w)) - y * (tx @ w)) / N\n"
     ]
    }
   ],
   "source": [
    "# from util.train import reg_logistic_regression_hyperparameters\n",
    "\n",
    "lambdas = np.logspace(-10,0,10)\n",
    "gammas = np.logspace(-10,0,10)\n",
    "np.random.seed(1)\n",
    "# w_initials = np.random.random(size=x_tr_normalized.shape[1],)\n",
    "w_initials = np.zeros(shape=x_tr_normalized.shape[1])\n",
    "\n",
    "best_w, train_losses, valid_losses, best_lambda, best_gamma = reg_logistic_regression_hyperparameters(\n",
    "    x_tr_normalized, \n",
    "    y_tr_oversampled, \n",
    "    x_va_normalized, \n",
    "    y_va[:,1], \n",
    "    lambdas, \n",
    "    gammas, \n",
    "    w_initials,\n",
    "    max_iter=5000\n",
    ")\n",
    "print('min val loss: {l} for lambda={la}, gamma={g}'.format(l=np.min(valid_losses), la=best_lambda, g=best_gamma))"
   ]
  },
  {
   "cell_type": "code",
   "execution_count": 55,
   "id": "26f2f795-a1e0-47ba-bd88-9b445f270a9c",
   "metadata": {
    "tags": []
   },
   "outputs": [
    {
     "data": {
      "text/plain": [
       "0"
      ]
     },
     "execution_count": 55,
     "metadata": {},
     "output_type": "execute_result"
    }
   ],
   "source": [
    "np.sum(x_va_normalized>1)"
   ]
  },
  {
   "cell_type": "code",
   "execution_count": 53,
   "id": "ae59064f-acae-4103-a98e-4f52315cb12a",
   "metadata": {
    "tags": []
   },
   "outputs": [
    {
     "data": {
      "text/plain": [
       "array([7798685.06162434, 5100658.47886551, 1150804.22374367, ...,\n",
       "       3808215.5063214 , 4265253.77235983, 1159968.87350297])"
      ]
     },
     "execution_count": 53,
     "metadata": {},
     "output_type": "execute_result"
    }
   ],
   "source": [
    "np.exp(x_va_normalized @ w_initials)"
   ]
  },
  {
   "cell_type": "markdown",
   "id": "442c4372-f4c6-498a-8aa1-f2f175153dba",
   "metadata": {},
   "source": [
    "### Train the model with the best hyperparameters"
   ]
  },
  {
   "cell_type": "code",
   "execution_count": 36,
   "id": "c4ab1fc4-5e97-4022-b7e2-e1f7525fa7ab",
   "metadata": {
    "tags": []
   },
   "outputs": [],
   "source": [
    "# from util.train import reg_logistic_regression\n",
    "\n",
    "best_w_, train_losses_, valid_losses_ = reg_logistic_regression(\n",
    "    x_tr_normalized, \n",
    "    y_tr_oversampled, \n",
    "    x_va_normalized, y_va[:,1], \n",
    "    lambda_= best_lambda,\n",
    "    gamma = best_gamma, \n",
    "    w=w_initials,\n",
    "    max_iter=5000,\n",
    "    batch_size=1, # not being used as tests are passing with GD\n",
    "    all_losses=True\n",
    ")"
   ]
  },
  {
   "cell_type": "code",
   "execution_count": 37,
   "id": "287e1574-93a4-4982-8689-ce8feba36975",
   "metadata": {
    "tags": []
   },
   "outputs": [
    {
     "data": {
      "text/plain": [
       "<Figure size 1000x1000 with 0 Axes>"
      ]
     },
     "metadata": {},
     "output_type": "display_data"
    },
    {
     "data": {
      "image/png": "[encoded data removed]",
      "text/plain": [
       "<Figure size 1400x700 with 1 Axes>"
      ]
     },
     "metadata": {},
     "output_type": "display_data"
    }
   ],
   "source": [
    "import matplotlib.pyplot as plt\n",
    "from util.plotting import loss_visualization\n",
    "plt.figure(figsize=(10, 10))\n",
    "loss_visualization(train_losses_, valid_losses_)\n",
    "plt.yscale(\"log\")"
   ]
  },
  {
   "cell_type": "markdown",
   "id": "3daceeff-75f9-410d-8d6a-c93f36963d4a",
   "metadata": {},
   "source": [
    "# Predict"
   ]
  },
  {
   "cell_type": "code",
   "execution_count": 13,
   "id": "beeb8f7d-b6b8-43bb-a192-6945a704ee03",
   "metadata": {
    "tags": []
   },
   "outputs": [],
   "source": [
    "from util.predict import predict\n",
    "predicted_y_tr = predict(x_tr_bias, best_w_, threshold=0.5, negative_label=-1)\n",
    "predicted_y_va = predict(x_va_bias, best_w_, threshold=0.5, negative_label=-1)"
   ]
  },
  {
   "cell_type": "markdown",
   "id": "3cad79c1-3b5a-47af-a239-aab2c3d8ee83",
   "metadata": {},
   "source": [
    "# Evaluation"
   ]
  },
  {
   "cell_type": "code",
   "execution_count": null,
   "id": "0f853333-169d-4249-99fc-947674402b35",
   "metadata": {},
   "outputs": [],
   "source": [
    "# Evaluate on -1 as negative class\n",
    "y_tr = np.where(y_tr == 0, -1, y_tr)\n",
    "y_va = np.where(y_va == 0, -1, y_va)"
   ]
  },
  {
   "cell_type": "code",
   "execution_count": null,
   "id": "4d544a2e-cc0f-43be-b1fe-983b83998128",
   "metadata": {},
   "outputs": [],
   "source": [
    "np.unique(y_tr[:,1]),np.unique(predicted_y_tr)"
   ]
  },
  {
   "cell_type": "code",
   "execution_count": 15,
   "id": "95a72b8b-c276-461d-b9bc-6f1cfd803256",
   "metadata": {
    "tags": []
   },
   "outputs": [
    {
     "name": "stdout",
     "output_type": "stream",
     "text": [
      "EVALUATION SUMMARY ON TRAIN SET\n",
      "Accuracy: 3.47%\n",
      "Precision: 100.00%\n",
      "Recall: 39.57%\n",
      "F1-score: 56.70%\n"
     ]
    }
   ],
   "source": [
    "from util.evaluation import evaluation_summary\n",
    "from util.plotting import confusion_matrix\n",
    "print(\"EVALUATION SUMMARY ON TRAIN SET\")\n",
    "evaluation_summary(y_tr[:, 1], predicted_y_tr)\n",
    "# confusion_matrix(y_tr[:, 1], predicted_y_tr)"
   ]
  },
  {
   "cell_type": "code",
   "execution_count": 16,
   "id": "b2321dd5-56cd-4fa8-a47e-1d982815cf31",
   "metadata": {
    "tags": []
   },
   "outputs": [
    {
     "name": "stdout",
     "output_type": "stream",
     "text": [
      "EVALUATION SUMMARY ON VALIDATION SET\n",
      "Accuracy: 3.65%\n",
      "Precision: 100.00%\n",
      "Recall: 40.51%\n",
      "F1-score: 57.66%\n"
     ]
    }
   ],
   "source": [
    "print(\"EVALUATION SUMMARY ON VALIDATION SET\")\n",
    "evaluation_summary(y_va[:, 1], predicted_y_va)\n",
    "# confusion_matrix(y_va[:, 1], predicted_y_va)"
   ]
  },
  {
   "cell_type": "code",
   "execution_count": null,
   "id": "3e5dd4e4-4194-4f90-9416-095811fa0b4f",
   "metadata": {},
   "outputs": [],
   "source": []
  },
  {
   "cell_type": "code",
   "execution_count": null,
   "id": "9ac19bc3-9890-4b9a-b90f-fde5737ef3b3",
   "metadata": {},
   "outputs": [],
   "source": []
  },
  {
   "cell_type": "code",
   "execution_count": null,
   "id": "74087017-fbc3-4f3f-9ae8-203bb39e9a78",
   "metadata": {},
   "outputs": [],
   "source": []
  },
  {
   "cell_type": "code",
   "execution_count": null,
   "id": "76387efe-349c-4c79-8a13-9293314dbe78",
   "metadata": {},
   "outputs": [],
   "source": []
  },
  {
   "cell_type": "code",
   "execution_count": null,
   "id": "441b5b40-ca28-4fd4-b91a-e7c48472a746",
   "metadata": {},
   "outputs": [],
   "source": []
  },
  {
   "cell_type": "code",
   "execution_count": null,
   "id": "0c45d9b7-22f8-4a77-a7b0-9fc3a4845562",
   "metadata": {},
   "outputs": [],
   "source": []
  },
  {
   "cell_type": "code",
   "execution_count": null,
   "id": "cc377667-b2f5-4f8c-8e9d-1bfd50357186",
   "metadata": {},
   "outputs": [],
   "source": []
  },
  {
   "cell_type": "code",
   "execution_count": null,
   "id": "9207c7ac-f6b8-4393-b890-301bfdf1500e",
   "metadata": {},
   "outputs": [],
   "source": []
  },
  {
   "cell_type": "code",
   "execution_count": null,
   "id": "7826939c-026c-4feb-83c1-8635e14ac195",
   "metadata": {},
   "outputs": [],
   "source": []
  },
  {
   "cell_type": "code",
   "execution_count": null,
   "id": "e85b0c4a-666a-426e-924d-5fe6ca4ef48b",
   "metadata": {},
   "outputs": [],
   "source": []
  },
  {
   "cell_type": "code",
   "execution_count": 42,
   "id": "17a1e844-64ce-4548-b88e-940105dd76df",
   "metadata": {
    "tags": []
   },
   "outputs": [],
   "source": [
    "def reg_logistic_regression_hyperparameters(\n",
    "    x_train: np.ndarray, \n",
    "    y_train: np.ndarray, \n",
    "    x_valid: np.ndarray, \n",
    "    y_valid: np.ndarray, \n",
    "    lambdas: np.ndarray, \n",
    "    gammas: np.ndarray, \n",
    "    w_initial: np.ndarray, \n",
    "    max_iter: int = 5000, \n",
    "    batch_size: int = 1\n",
    "):\n",
    "    \"\"\"\n",
    "    GridSearchCV for regularized logistic regression. \n",
    "    Return the optimum w and corresponding train loss, validation loss, lambda, gamma.\n",
    "\n",
    "    Args:\n",
    "        x_train:  shape=(N, D)\n",
    "        y_train:  shape=(N, 1)\n",
    "        x_valid:  shape=(N, D)\n",
    "        y_valid:  shape=(N, 1)\n",
    "        lambdas: an array of lambdas\n",
    "        gammas: an array of gammas\n",
    "        w_initial: an array of initial values for w\n",
    "        max_iter: scalar\n",
    "        batch_size: scalar\n",
    "\n",
    "    Returns:\n",
    "        best_w: numpy array, optimal weights.\n",
    "        best_train_losses: scalar, train loss corresponding to the best_w\n",
    "        best_valid_losses: scalar, validation loss corresponding to the best_w\n",
    "        best_lambda: scalar, best value for lambda\n",
    "        best_gamma: scalar, best value for gamma\n",
    "    \"\"\"    \n",
    "    train_losses_all = []\n",
    "    valid_losses_all = []\n",
    "    w_all = []\n",
    "\n",
    "    for lambda_ in lambdas:\n",
    "        for gamma in gammas:\n",
    "            # Perform logistic regression with the current hyperparameters\n",
    "            w, train_losses, valid_losses = reg_logistic_regression(\n",
    "                tx_train=x_train, \n",
    "                y_train=y_train, \n",
    "                tx_valid=x_valid, \n",
    "                y_valid=y_valid, \n",
    "                lambda_=lambda_, \n",
    "                max_iter=max_iter, \n",
    "                gamma=gamma, \n",
    "                batch_size=batch_size, \n",
    "                w=w_initial\n",
    "            )\n",
    "            w_all.append(w)\n",
    "            train_losses_all.append(train_losses)\n",
    "            valid_losses_all.append(valid_losses)\n",
    "\n",
    "    # Find the index of the minimum valid loss\n",
    "    best_loss_index = np.argmin(valid_losses_all)\n",
    "    # Get the corresponding indices for lambda and gamma\n",
    "    best_lambda_index, best_gamma_index = np.unravel_index(best_loss_index, (len(lambdas), len(gammas)))\n",
    "\n",
    "    # Retrieve the corresponding hyperparameters\n",
    "    best_lambda = lambdas[best_lambda_index]\n",
    "    best_gamma = gammas[best_gamma_index]\n",
    "\n",
    "    # Get the best weights and losses\n",
    "    best_w = w_all[best_loss_index]\n",
    "    best_train_losses = train_losses_all[best_loss_index]\n",
    "    best_valid_losses = valid_losses_all[best_loss_index]\n",
    "\n",
    "    return best_w, best_train_losses, best_valid_losses, best_lambda, best_gamma\n",
    "\n",
    "def reg_logistic_regression(\n",
    "    tx_train: np.ndarray, \n",
    "    y_train: np.ndarray,\n",
    "    tx_valid: np.ndarray, \n",
    "    y_valid: np.ndarray,\n",
    "    lambda_: float, \n",
    "    w: np.ndarray, \n",
    "    max_iter: int, \n",
    "    gamma: float, \n",
    "    batch_size: int = 1, \n",
    "    all_losses: bool = False\n",
    "):\n",
    "    \"\"\"\n",
    "    Regularized logistic regression using GD.\n",
    "    Return the optimum w and corresponding train and validation loss.\n",
    "\n",
    "    Args:\n",
    "        tx_train:  shape=(N, D)\n",
    "        y_train:  shape=(N, 1)\n",
    "        tx_valid:  shape=(N, D)\n",
    "        y_valid:  shape=(N, 1)\n",
    "        lambda_: an array of lambdas\n",
    "        w: numpy array, initial values for w\n",
    "        max_iter: scalar\n",
    "        gamma: an array of gammas\n",
    "        batch_size: scalar\n",
    "        all_losses: bool, if set to True returns an array of losses, otherwise returns the loss(scalar) of optimum w\n",
    "\n",
    "    Returns:\n",
    "        w: numpy array, optimal weights.\n",
    "        train_losses: if all_losses is False -> scalar, train loss corresponding to the optimum w\n",
    "                      if all_losses is True -> numpy array, train losses for each iteration                      \n",
    "        valid_losses: if all_losses is False -> scalar, validation loss corresponding to the optimum w\n",
    "                      if all_losses is True -> numpy array, validation losses for each iteration\n",
    "    \"\"\"    \n",
    "    if all_losses:\n",
    "        train_losses = [logistic_loss(y_train, tx_train, w, lambda_)]\n",
    "        valid_losses = [logistic_loss(y_valid, tx_valid, w, lambda_)]\n",
    "\n",
    "    for _ in range(max_iter):\n",
    "        # if _ % 200 == 0:\n",
    "        #     print(f\"Iteration {_}/{max_iter}\")\n",
    "\n",
    "        for batch_y, batch_x in batch_iter(y_train, tx_train, batch_size, shuffle=True):\n",
    "            try:\n",
    "                gradient = logistic_loss_gradient(batch_y, batch_x, w, lambda_)\n",
    "                w = w - gamma * gradient\n",
    "            except RuntimeWarning:\n",
    "                print(w)\n",
    "                print(batch_x)\n",
    "        # gradient = logistic_loss_gradient(y_train, tx_train, w, lambda_)\n",
    "        # w = w - gamma * gradient\n",
    "        if all_losses: \n",
    "            train_losses.append(logistic_loss(y_train, tx_train, w, lambda_))\n",
    "            valid_losses.append(logistic_loss(y_valid, tx_valid, w, lambda_))\n",
    "\n",
    "    if not all_losses:    \n",
    "        train_losses = logistic_loss(y_train, tx_train, w, lambda_)\n",
    "        valid_losses = logistic_loss(y_valid, tx_valid, w, lambda_)\n",
    "\n",
    "    return w, train_losses, valid_losses\n",
    "\n",
    "def logistic_loss_gradient(y: np.ndarray,\n",
    "                           tx: np.ndarray,\n",
    "                           w: np.ndarray,\n",
    "                           _lambda: float = None) -> np.ndarray:\n",
    "    \"\"\"\n",
    "    Compute the gradient of loss for logistic regression, with or without regularization,\n",
    "    and with classes represented as (0, 1) or (-1, 1).\n",
    "    :param  y:  shape=(N, 1)\n",
    "    :param  tx: shape=(N, D)\n",
    "    :param  w:  shape=(D, 1)\n",
    "    :param  _lambda: regularization parameter\n",
    "    :return gradient: scalar number\n",
    "    \"\"\"\n",
    "\n",
    "    N = y.shape[0]\n",
    "    reg = 0\n",
    "    if _lambda is not None:\n",
    "        # reg = _lambda * w\n",
    "        reg = 2 * _lambda * w\n",
    "    \n",
    "    return reg + (tx.T @ (sigmoid(tx @ w) - y)) / N\n",
    "\n",
    "def logistic_loss(y: np.ndarray, \n",
    "                  tx: np.ndarray, \n",
    "                  w: np.ndarray,\n",
    "                  _lambda: float = None) -> float:\n",
    "    \"\"\"Compute the cost by negative log likelihood.\n",
    "    :param  y:  shape=(N, 1)\n",
    "    :param  tx: shape=(N, D)\n",
    "    :param  w:  shape=(D, 1)\n",
    "    :param  _lambda: regularization parameter\n",
    "    :return loss: scalar number\n",
    "    \"\"\"\n",
    "    assert y.shape[0] == tx.shape[0]\n",
    "    assert tx.shape[1] == w.shape[0]\n",
    "\n",
    "    N = y.shape[0]\n",
    "    reg = 0\n",
    "    if _lambda is not None:\n",
    "        reg = 0.5 * _lambda * np.sum(w ** 2)\n",
    "        # reg = _lambda * np.sum(w ** 2)\n",
    "\n",
    "    return reg + np.sum(np.log(1 + np.exp(tx @ w)) - y * (tx @ w)) / N\n",
    "\n",
    "def sigmoid(t):\n",
    "    \"\"\"apply sigmoid function on t.\n",
    "    \n",
    "    Args:\n",
    "        t: scalar or numpy array\n",
    "\n",
    "    Returns:\n",
    "        scalar or numpy array\n",
    "    \"\"\"\n",
    "\n",
    "    return 1 / (1 + np.exp(-t))\n",
    "\n",
    "def batch_iter(\n",
    "    y: np.ndarray,\n",
    "    tx: np.ndarray,\n",
    "    batch_size: int = 1,\n",
    "    num_batches: int = 1,\n",
    "    shuffle: bool = True,\n",
    "):\n",
    "    \"\"\"\n",
    "    Generate a minibatch iterator for a dataset.\n",
    "    Takes as input two iterables (here the output desired values 'y' and the input data 'tx')\n",
    "    Outputs an iterator which gives mini-batches of `batch_size` matching elements from `y` and `tx`.\n",
    "    Data can be randomly shuffled to avoid ordering in the original data messing with the randomness of the minibatches.\n",
    "\n",
    "    Example:\n",
    "\n",
    "     Number of batches = 9\n",
    "\n",
    "     Batch size = 7                              Remainder = 3\n",
    "     v     v                                         v v\n",
    "    |-------|-------|-------|-------|-------|-------|---|\n",
    "        0       7       14      21      28      35   max batches = 6\n",
    "\n",
    "    If shuffle is False, the returned batches are the ones started from the indexes:\n",
    "    0, 7, 14, 21, 28, 35, 0, 7, 14\n",
    "\n",
    "    If shuffle is True, the returned batches start in:\n",
    "    7, 28, 14, 35, 14, 0, 21, 28, 7\n",
    "\n",
    "    To prevent the remainder datapoints from ever being taken into account, each of the shuffled indexes is added a random amount\n",
    "    8, 28, 16, 38, 14, 0, 22, 28, 9\n",
    "\n",
    "    This way batches might overlap, but the returned batches are slightly more representative.\n",
    "\n",
    "    Disclaimer: To keep this function simple, individual datapoints are not shuffled. For a more random result consider using a batch_size of 1.\n",
    "\n",
    "    Example of use :\n",
    "    for minibatch_y, minibatch_tx in batch_iter(y, tx, 32):\n",
    "        <DO-SOMETHING>\n",
    "    \"\"\"\n",
    "    data_size = len(y)  # NUmber of data points.\n",
    "    batch_size = min(data_size, batch_size)  # Limit the possible size of the batch.\n",
    "    max_batches = int(\n",
    "        data_size / batch_size\n",
    "    )  # The maximum amount of non-overlapping batches that can be extracted from the data.\n",
    "    remainder = (\n",
    "        data_size - max_batches * batch_size\n",
    "    )  # Points that would be excluded if no overlap is allowed.\n",
    "\n",
    "    if shuffle:\n",
    "        # Generate an array of indexes indicating the start of each batch\n",
    "        idxs = np.random.randint(max_batches, size=num_batches) * batch_size\n",
    "        if remainder != 0:\n",
    "            # Add an random offset to the start of each batch to eventually consider the remainder points\n",
    "            idxs += np.random.randint(remainder + 1, size=num_batches)\n",
    "    else:\n",
    "        # If no shuffle is done, the array of indexes is circular.\n",
    "        idxs = np.array([i % max_batches for i in range(num_batches)]) * batch_size\n",
    "\n",
    "    for start in idxs:\n",
    "        start_index = start  # The first data point of the batch\n",
    "        end_index = (\n",
    "            start_index + batch_size\n",
    "        )  # The first data point of the following batch\n",
    "        yield y[start_index:end_index], tx[start_index:end_index]"
   ]
  },
  {
   "cell_type": "code",
   "execution_count": null,
   "id": "0fce06a9-f50f-451a-9ad4-dfccaded73ef",
   "metadata": {},
   "outputs": [],
   "source": []
  },
  {
   "cell_type": "code",
   "execution_count": null,
   "id": "81296dfc-314b-4d82-90d7-b7c709c42932",
   "metadata": {},
   "outputs": [],
   "source": []
  },
  {
   "cell_type": "code",
   "execution_count": null,
   "id": "360f1899-f810-470f-831c-57b538c37c0e",
   "metadata": {},
   "outputs": [],
   "source": []
  },
  {
   "cell_type": "code",
   "execution_count": null,
   "id": "5443a5df-fd54-4071-b5fb-9ce99f0d16e3",
   "metadata": {},
   "outputs": [],
   "source": []
  },
  {
   "cell_type": "code",
   "execution_count": null,
   "id": "ec23f154-bb16-4ffb-9b18-19afc83450b8",
   "metadata": {},
   "outputs": [],
   "source": []
  },
  {
   "cell_type": "code",
   "execution_count": null,
   "id": "0be9d382-9486-4264-b8b5-2d7b9d6e5497",
   "metadata": {},
   "outputs": [],
   "source": []
  },
  {
   "cell_type": "code",
   "execution_count": null,
   "id": "bc26e9e5-2c5a-4279-bea5-5e0ea35bbe02",
   "metadata": {},
   "outputs": [],
   "source": []
  },
  {
   "cell_type": "code",
   "execution_count": null,
   "id": "4ff3483d-1673-4607-aab3-9be200b5c262",
   "metadata": {},
   "outputs": [],
   "source": []
  },
  {
   "cell_type": "code",
   "execution_count": null,
   "id": "109a089f-2426-4d29-850c-1259965c0cc2",
   "metadata": {},
   "outputs": [],
   "source": []
  },
  {
   "cell_type": "code",
   "execution_count": null,
   "id": "f8d88e38-75e0-432b-9214-42e527fa9b1d",
   "metadata": {},
   "outputs": [],
   "source": []
  },
  {
   "cell_type": "code",
   "execution_count": null,
   "id": "7504861b-f033-4472-9a60-e099d62781b2",
   "metadata": {},
   "outputs": [],
   "source": []
  }
 ],
 "metadata": {
  "kernelspec": {
   "display_name": "Python 3 (ipykernel)",
   "language": "python",
   "name": "python3"
  },
  "language_info": {
   "codemirror_mode": {
    "name": "ipython",
    "version": 3
   },
   "file_extension": ".py",
   "mimetype": "text/x-python",
   "name": "python",
   "nbconvert_exporter": "python",
   "pygments_lexer": "ipython3",
   "version": "3.9.18"
  }
 },
 "nbformat": 4,
 "nbformat_minor": 5
}
