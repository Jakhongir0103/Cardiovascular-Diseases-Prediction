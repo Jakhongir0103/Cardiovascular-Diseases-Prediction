{
 "cells": [
  {
   "cell_type": "code",
   "execution_count": null,
   "id": "fc6b3c95",
   "metadata": {},
   "outputs": [],
   "source": [
    "import sys\n",
    "# Add the path to the scripts folder\n",
    "sys.path.append('util/')\n",
    "\n",
    "import numpy as np\n",
    "from util.preprocessing import *\n",
    "from util.features_util import *"
   ]
  },
  {
   "cell_type": "code",
   "execution_count": null,
   "id": "94a29480",
   "metadata": {},
   "outputs": [],
   "source": [
    "def load_train_data(sub_sample=False):\n",
    "    path_x_train = \"data/x_train.csv\"\n",
    "    path_y_train = \"data/y_train.csv\"\n",
    "\n",
    "    features_names = np.genfromtxt(\n",
    "        path_x_train, \n",
    "        delimiter=\",\", \n",
    "        dtype=str,\n",
    "        max_rows=1\n",
    "    )\n",
    "\n",
    "    x_train = np.genfromtxt(\n",
    "        path_x_train, \n",
    "        delimiter=\",\", \n",
    "        skip_header=1\n",
    "    )\n",
    "    \n",
    "    y_train = np.genfromtxt(\n",
    "        path_y_train,\n",
    "        delimiter=\",\",\n",
    "        skip_header=1,\n",
    "        usecols=0\n",
    "    )\n",
    "\n",
    "    # sub-sample\n",
    "    if sub_sample:\n",
    "        x_train = x_train[::50]\n",
    "        y_train = y_train[::50]\n",
    "\n",
    "    return x_train, y_train, features_names"
   ]
  },
  {
   "cell_type": "code",
   "execution_count": null,
   "id": "0bdae4c4",
   "metadata": {},
   "outputs": [],
   "source": [
    "# Import data and create the dictionary of features\n",
    "x, y, features = load_train_data()\n",
    "\n",
    "feature_indexes = dict(zip(features, range(len(features))))"
   ]
  },
  {
   "cell_type": "code",
   "execution_count": null,
   "id": "92e780c0",
   "metadata": {},
   "outputs": [],
   "source": [
    "x.shape"
   ]
  },
  {
   "cell_type": "code",
   "execution_count": null,
   "id": "29a972f8",
   "metadata": {},
   "outputs": [],
   "source": [
    "# Example: keep only the features in the section \"Fruit & Veg\"\n",
    "excercise_features = [\"_TOTINDA\", \"METVL11_\", \"METVL21_\", \"MAXVO2_\", \"ACTIN11_\", \"ACTIN21_\", \"PADUR1_\", \"PADUR2_\", \"PAFREQ1_\", \"PAFREQ2_\", \"_MINAC11\", \"_MINAC21\", \"STRFREQ_\", \"PA1MIN_\", \"PAVIG11_\", \"PAVIG21_\", \"PA1VIGM_\", \"_PACAT1\", \"_PAINDX1\", \"_PA150R2\", \"_PA300R2\", \"_PA30021\", \"_PASTRNG\"]\n",
    "clean_x, clean_features, clean_feature_indexes = keep_features(x, \"_MINAC11\", features, feature_indexes)"
   ]
  },
  {
   "cell_type": "code",
   "execution_count": null,
   "id": "b7ad6209",
   "metadata": {},
   "outputs": [],
   "source": [
    "import matplotlib.pyplot as plt\n",
    "import seaborn as sns\n",
    "\n",
    "d  = clean_x[~np.isnan(clean_x)]\n",
    "\n",
    "sns.kdeplot(d)\n",
    "print(np.mean(d))\n",
    "print(np.median(d))"
   ]
  },
  {
   "cell_type": "code",
   "execution_count": null,
   "id": "3c2e0d4e",
   "metadata": {},
   "outputs": [],
   "source": [
    "clean_x.shape"
   ]
  }
 ],
 "metadata": {
  "kernelspec": {
   "display_name": "Python 3 (ipykernel)",
   "language": "python",
   "name": "python3"
  },
  "language_info": {
   "codemirror_mode": {
    "name": "ipython",
    "version": 3
   },
   "file_extension": ".py",
   "mimetype": "text/x-python",
   "name": "python",
   "nbconvert_exporter": "python",
   "pygments_lexer": "ipython3",
   "version": "3.11.5"
  }
 },
 "nbformat": 4,
 "nbformat_minor": 5
}
