{
 "cells": [
  {
   "cell_type": "code",
   "execution_count": null,
   "outputs": [],
   "source": [
    "import os\n",
    "import pickle\n",
    "\n",
    "import numpy as np\n",
    "import matplotlib.pyplot as plt\n",
    "import seaborn as sns\n",
    "\n",
    "from util.data_loader import (load_dataset, split_train_validation, \n",
    "                              custom_random_oversampling, create_csv_submission,\n",
    "                              change_negative_class)\n",
    "from util.features_util import keep_features\n",
    "from util.features_info import FEATURES_DICT, REPLACEMENT_LIST\n",
    "from util.preprocessing import preprocessing_pipeline\n",
    "from util.train import reg_logistic_regression\n",
    "from util.plotting import loss_visualization\n",
    "from util.evaluation import evaluation_summary\n",
    "from util.predict import predict, predict_no_labels\n",
    "\n",
    "\n",
    "BASE_PATH = os.path.dirname(os.getcwd()) + \"/data\""
   ],
   "metadata": {
    "collapsed": false
   },
   "id": "85c380c8a2d01dff"
  },
  {
   "cell_type": "markdown",
   "source": [
    "# Data loading"
   ],
   "metadata": {
    "collapsed": false
   },
   "id": "3b64d4bcc611d949"
  },
  {
   "cell_type": "markdown",
   "source": [
    "### ⚠️ Note that the `x_sub` here refers to data for which predictions will be made, but for which we don't have the labels! To refer to the data used for local testing we'll use `x_va` and `y_va` (validation)."
   ],
   "metadata": {
    "collapsed": false
   },
   "id": "a5937ab513c67357"
  },
  {
   "cell_type": "code",
   "execution_count": null,
   "id": "initial_id",
   "metadata": {
    "collapsed": true
   },
   "outputs": [],
   "source": [
    "# Load data without subsampling\n",
    "x_train, y_train, x_sub, feature_names = load_dataset(path_x_train=BASE_PATH + \"/x_train.csv\",\n",
    "                                                      path_y_train=BASE_PATH + \"/y_train.csv\",\n",
    "                                                      path_x_test=BASE_PATH + \"/x_test.csv\",\n",
    "                                                      sub_sample=False)\n",
    "# Create the feature index dictionary\n",
    "feature_indexes = dict(zip(feature_names, range(len(feature_names))))"
   ]
  },
  {
   "cell_type": "markdown",
   "source": [
    "# Pre-processing"
   ],
   "metadata": {
    "collapsed": false
   },
   "id": "36e3edd16fb40470"
  },
  {
   "cell_type": "code",
   "execution_count": null,
   "outputs": [],
   "source": [
    "# Keeping only selected features both in train and validation set\n",
    "x_train_clean, clean_features, clean_feature_index = keep_features(x_train, FEATURES_DICT.keys(), feature_names, feature_indexes, verbose=False)"
   ],
   "metadata": {
    "collapsed": false
   },
   "id": "e689f404263de818"
  },
  {
   "cell_type": "code",
   "execution_count": null,
   "outputs": [],
   "source": [
    "# Call to the preprocessing pipeline both for train and test set\n",
    "# NOTE: the preprocessing automatically performs also normalization\n",
    "\n",
    "x_train_preprocessed = preprocessing_pipeline(x_train_clean, \n",
    "                                              where=clean_features,\n",
    "                                              feature_index=clean_feature_index,\n",
    "                                              nan_replacement=REPLACEMENT_LIST)"
   ],
   "metadata": {
    "collapsed": false
   },
   "id": "27a66579f5168c5e"
  },
  {
   "cell_type": "markdown",
   "source": [
    "## Split local data into train and validation"
   ],
   "metadata": {
    "collapsed": false
   },
   "id": "586b891cc87308d6"
  },
  {
   "cell_type": "markdown",
   "source": [
    "#### From now on we'll use the local train and validation data: `x_tr` and `y_tr` for training and `x_va` and `y_va` for validation"
   ],
   "metadata": {
    "collapsed": false
   },
   "id": "e62ba34f804ff725"
  },
  {
   "cell_type": "code",
   "execution_count": null,
   "outputs": [],
   "source": [
    "# Translate labels from -1/1 to 0/1\n",
    "y_train = change_negative_class(y_train[:, 1], current=-1, new=0)\n",
    "\n",
    "# Split local data into train and validation\n",
    "(x_tr, x_va, y_tr, y_va) = split_train_validation(x_train_preprocessed,\n",
    "                                                  y_train,\n",
    "                                                  valid_proportion=0.2)"
   ],
   "metadata": {
    "collapsed": false
   },
   "id": "78216bae25f9daf1"
  },
  {
   "cell_type": "markdown",
   "source": [
    "## Data preparation for training"
   ],
   "metadata": {
    "collapsed": false
   },
   "id": "dad9faf89279df11"
  },
  {
   "cell_type": "code",
   "execution_count": null,
   "outputs": [],
   "source": [
    "# Perform over sampling (due to unbalanced data)\n",
    "x_tr_oversampled, y_tr_oversampled = custom_random_oversampling(x_tr, y_tr)\n",
    "\n",
    "# NOTE: to properly validate the model we should not oversample the validation set!\n",
    "# x_va_oversampled, y_va_oversampled = custom_random_oversampling(x_va, y_va[:,1])\n",
    "\n",
    "\n",
    "# Add bias column to the training and validation data\n",
    "x_tr_oversampled_bias = np.append(x_tr_oversampled, np.ones(shape=(x_tr_oversampled.shape[0], 1)), axis=1)\n",
    "x_va_bias = np.append(x_va, np.ones(shape=(x_va.shape[0], 1)), axis=1)\n"
   ],
   "metadata": {
    "collapsed": false
   },
   "id": "ec5c3da2192a614c"
  },
  {
   "cell_type": "markdown",
   "source": [
    "# Training"
   ],
   "metadata": {
    "collapsed": false
   },
   "id": "36603cf5d842e758"
  },
  {
   "cell_type": "code",
   "execution_count": null,
   "outputs": [],
   "source": [
    "from util.train import reg_logistic_regression_hyperparameters\n",
    "import pickle\n",
    "\n",
    "lambdas_ = [0.0005, 0.001, 0.01, 0.1]\n",
    "gammas = [0.001, 0.01, 0.05, 0.1]\n",
    "batch_sizes = [10, 500, 10000]\n",
    "\n",
    "hyperparameters = {\n",
    "    \"lambda_\": lambdas_,\n",
    "    \"gamma\": gammas,\n",
    "    \"batch_size\": batch_sizes,\n",
    "    \"optimizer\": [\"sgd\"]\n",
    "}"
   ],
   "metadata": {
    "collapsed": false
   },
   "id": "a2d6de69bc4a90b4"
  },
  {
   "cell_type": "code",
   "execution_count": null,
   "outputs": [],
   "source": [
    "res = reg_logistic_regression_hyperparameters(\n",
    "    x_tr_oversampled_bias,\n",
    "    y_tr_oversampled,\n",
    "    x_va_bias,\n",
    "    y_va,\n",
    "    hyperparameters\n",
    ")\n",
    "\n",
    "print(res)"
   ],
   "metadata": {
    "collapsed": false
   },
   "id": "d46da6d4ef9a7466"
  },
  {
   "cell_type": "code",
   "execution_count": null,
   "outputs": [],
   "source": [
    "with open('objs.pkl', 'wb') as f:\n",
    "    pickle.dump(res, f)\n",
    "    "
   ],
   "metadata": {
    "collapsed": false
   },
   "id": "28094af644c381cd"
  },
  {
   "cell_type": "markdown",
   "source": [
    "## Load results"
   ],
   "metadata": {
    "collapsed": false
   },
   "id": "b6b1c12625a7113e"
  },
  {
   "cell_type": "code",
   "execution_count": null,
   "outputs": [],
   "source": [
    "with open('objs.pkl', 'rb') as f:\n",
    "    res = pickle.load(f)\n",
    "\n",
    "res[0].keys()"
   ],
   "metadata": {
    "collapsed": false
   },
   "id": "b5f08feef995da0e"
  },
  {
   "cell_type": "code",
   "execution_count": null,
   "outputs": [],
   "source": [
    "# Plot a heatmap for each batch size\n",
    "for batch_size in batch_sizes:\n",
    "    # Filter data for the current batch size\n",
    "    filtered_res = [d for d in res if d['batch_size'] == batch_size]\n",
    "\n",
    "    # Create a pivot table for the heatmap\n",
    "    pivot_res = np.zeros((len(np.unique([d['lambda_'] for d in res])),\n",
    "                           len(np.unique([d['gamma'] for d in res]))))\n",
    "    for item in filtered_res:\n",
    "        lambda_idx = np.where(np.unique([d['lambda_'] for d in res]) == item['lambda_'])[0][0]\n",
    "        gamma_idx = np.where(np.unique([d['gamma'] for d in res]) == item['gamma'])[0][0]\n",
    "        pivot_res[lambda_idx, gamma_idx] = item['valid_loss']\n",
    "\n",
    "    # Create a heatmap\n",
    "    plt.figure(figsize=(5, 4))\n",
    "    sns.heatmap(pivot_res, annot=True, xticklabels=np.unique([d['gamma'] for d in res]),\n",
    "                yticklabels=np.unique([d['lambda_'] for d in res]))\n",
    "    plt.xlabel('Gamma')\n",
    "    plt.ylabel('Lambda')\n",
    "    plt.title(f'Batch Size {batch_size} Heatmap')\n",
    "    plt.savefig(os.path.dirname(os.getcwd()) + '/plots/' + f'heatmap_batch_size_{batch_size}.png')\n",
    "\n",
    "\n"
   ],
   "metadata": {
    "collapsed": false
   },
   "id": "9f1849d6439df50b"
  },
  {
   "cell_type": "markdown",
   "source": [
    "## Evaluation on training set"
   ],
   "metadata": {
    "collapsed": false
   },
   "id": "1aeee948df6ad075"
  },
  {
   "cell_type": "code",
   "execution_count": null,
   "outputs": [],
   "source": [
    "res.sort(key=lambda x: x[\"valid_loss\"], reverse=False)\n",
    "w_opt = res[0][\"best_weights\"]"
   ],
   "metadata": {
    "collapsed": false
   },
   "id": "7411482c1875bd07"
  },
  {
   "cell_type": "code",
   "execution_count": null,
   "outputs": [],
   "source": [
    "predicted_y_tr = predict(x_tr_oversampled_bias,\n",
    "                         w_opt,\n",
    "                         threshold=0.5,\n",
    "                         negative_label=0)\n",
    "\n",
    "print(\"EVALUATION SUMMARY ON TRAINING SET\")\n",
    "evaluation_summary(y_tr_oversampled, predicted_y_tr)"
   ],
   "metadata": {
    "collapsed": false
   },
   "id": "ff359b422657efa4"
  },
  {
   "cell_type": "code",
   "execution_count": null,
   "outputs": [],
   "source": [
    "sns.histplot(predict_no_labels(x_tr_oversampled_bias, w_opt), bins=30, kde=True)\n",
    "plt.title(\"Distribution of unlabeled predictions on training set\")\n",
    "plt.show()"
   ],
   "metadata": {
    "collapsed": false
   },
   "id": "9f9f9def8291efda"
  },
  {
   "cell_type": "markdown",
   "source": [
    "# Evaluation on validation set"
   ],
   "metadata": {
    "collapsed": false
   },
   "id": "4a062336d16cb11f"
  },
  {
   "cell_type": "code",
   "execution_count": null,
   "outputs": [],
   "source": [
    "predicted_y_va = predict(x_va_bias,\n",
    "                         w_opt,\n",
    "                         threshold=0.24215,\n",
    "                         negative_label=0)\n",
    "print(\"EVALUATION SUMMARY ON VALIDATION SET\")\n",
    "evaluation_summary(y_va, predicted_y_va)"
   ],
   "metadata": {
    "collapsed": false
   },
   "id": "6552088718b44c3e"
  },
  {
   "cell_type": "code",
   "execution_count": null,
   "outputs": [],
   "source": [
    "sns.histplot(predict_no_labels(x_va_bias, w_opt), bins=30, kde=True)\n",
    "plt.title(\"Distribution of unlabeled predictions on validation set\")\n",
    "plt.show()"
   ],
   "metadata": {
    "collapsed": false
   },
   "id": "8278d139e24ed163"
  },
  {
   "cell_type": "code",
   "execution_count": null,
   "outputs": [],
   "source": [
    "from util.plotting import decision_threshold\n",
    "decision_threshold(x_va_bias, w_opt, y_va)\n"
   ],
   "metadata": {
    "collapsed": false
   },
   "id": "58d7a810a6635dfb"
  },
  {
   "cell_type": "markdown",
   "source": [
    "\n",
    "---\n",
    "\n",
    "# COMPUTE RESULT FOR SUBMISSION"
   ],
   "metadata": {
    "collapsed": false
   },
   "id": "38c630565361d30d"
  },
  {
   "cell_type": "code",
   "execution_count": null,
   "outputs": [],
   "source": [
    "# Keep only selected features in submission\n",
    "x_sub_clean, clean_features, clean_feature_index = keep_features(x_sub, FEATURES_DICT.keys(), feature_names, feature_indexes)\n",
    "\n",
    "x_sub_preprocessed = preprocessing_pipeline(x_sub_clean,\n",
    "                                            where=clean_features,\n",
    "                                            feature_index=clean_feature_index,\n",
    "                                            nan_replacement=REPLACEMENT_LIST)\n",
    "\n",
    "# Add bias column to the submission data\n",
    "x_sub_bias = np.append(x_sub_preprocessed, np.ones(shape=(x_sub_preprocessed.shape[0], 1)), axis=1)"
   ],
   "metadata": {
    "collapsed": false
   },
   "id": "1671bb9e6224fcd3"
  },
  {
   "cell_type": "code",
   "execution_count": null,
   "outputs": [],
   "source": [
    "predicted_y_sub = predict(x_sub_bias,\n",
    "                          w,\n",
    "                          threshold=0.5,\n",
    "                          negative_label=-1)\n",
    "\n",
    "sns.histplot(predict_no_labels(x_sub_bias, w), bins=30, kde=True)"
   ],
   "metadata": {
    "collapsed": false
   },
   "id": "7959791cb26e3099"
  },
  {
   "cell_type": "code",
   "execution_count": null,
   "outputs": [],
   "source": [
    "### Note: for the following we don't have true labels, so we can't compute the accuracy and other metrics"
   ],
   "metadata": {
    "collapsed": false
   },
   "id": "444426d8da3e32e3"
  },
  {
   "cell_type": "code",
   "execution_count": null,
   "outputs": [],
   "source": [
    "# Save predictions to csv file\n",
    "\n",
    "# FIXME: this is not working, we have to keep indexes!\n",
    "\n",
    "create_csv_submission(ids=range(len(predicted_y_sub)), y_pred=predicted_y_sub, path=BASE_PATH + \"/submission.csv\")"
   ],
   "metadata": {
    "collapsed": false
   },
   "id": "fa9f96e8e472b7a6"
  },
  {
   "cell_type": "code",
   "execution_count": null,
   "outputs": [],
   "source": [],
   "metadata": {
    "collapsed": false
   },
   "id": "b5a12be2f2d648b"
  }
 ],
 "metadata": {
  "kernelspec": {
   "display_name": "Python 3",
   "language": "python",
   "name": "python3"
  },
  "language_info": {
   "codemirror_mode": {
    "name": "ipython",
    "version": 2
   },
   "file_extension": ".py",
   "mimetype": "text/x-python",
   "name": "python",
   "nbconvert_exporter": "python",
   "pygments_lexer": "ipython2",
   "version": "2.7.6"
  }
 },
 "nbformat": 4,
 "nbformat_minor": 5
}
