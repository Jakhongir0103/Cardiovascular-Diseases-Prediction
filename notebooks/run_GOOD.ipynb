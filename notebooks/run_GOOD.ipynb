{
 "cells": [
  {
   "cell_type": "code",
   "execution_count": null,
   "id": "baa537732bff4e21",
   "metadata": {
    "collapsed": false
   },
   "outputs": [],
   "source": [
    "import os\n",
    "import sys\n",
    "import numpy as np\n",
    "\n",
    "import matplotlib.pyplot as plt\n",
    "import seaborn as sns"
   ]
  },
  {
   "cell_type": "code",
   "execution_count": null,
   "outputs": [],
   "source": [
    "from data_preparation.data_loader import (\n",
    "    load_dataset,\n",
    "    split_train_validation,\n",
    "    create_csv_submission,\n",
    "    change_negative_class,\n",
    ")\n",
    "from data_preparation.features_util import keep_features, merge_features\n",
    "from data_preparation.features_info import FEATURES_DICT, REPLACEMENT_LIST\n",
    "from data_preparation.preprocessing import preprocessing_pipeline, basic_preprocessing_pipeline\n",
    "from model.train import reg_logistic_regression\n",
    "from model.predict import predict, predict_no_labels\n",
    "from util.evaluation import evaluation_summary, accuracy, f1_score\n",
    "from util.plotting import loss_visualization, decision_threshold\n",
    "from util.util import init_random_seeds\n",
    "\n",
    "init_random_seeds()\n",
    "\n",
    "BASE_PATH = os.path.dirname(os.getcwd()) + \"/data\""
   ],
   "metadata": {
    "collapsed": false
   },
   "id": "85c380c8a2d01dff"
  },
  {
   "cell_type": "code",
   "execution_count": null,
   "outputs": [],
   "source": [
    "hyperparams = {\n",
    "    \"gamma\": 1,\n",
    "    \"lambda\": 0.00001,\n",
    "    \"batch_size\": 10000\n",
    "}"
   ],
   "metadata": {
    "collapsed": false
   },
   "id": "e127e771f779c18b"
  },
  {
   "cell_type": "markdown",
   "id": "3b64d4bcc611d949",
   "metadata": {},
   "source": [
    "# Data loading"
   ]
  },
  {
   "cell_type": "markdown",
   "id": "a5937ab513c67357",
   "metadata": {},
   "source": [
    "### ⚠️ Note that the `x_sub` here refers to data for which predictions will be made, but for which we don't have the labels! To refer to the data used for local testing we'll use `x_va` and `y_va` (validation)."
   ]
  },
  {
   "cell_type": "code",
   "execution_count": null,
   "id": "initial_id",
   "metadata": {
    "collapsed": true,
    "jupyter": {
     "outputs_hidden": true
    }
   },
   "outputs": [],
   "source": [
    "# Load data without subsampling\n",
    "x_train, y_train, x_sub, feature_names = load_dataset(\n",
    "    path_x_train=BASE_PATH + \"/x_train.csv\",\n",
    "    path_y_train=BASE_PATH + \"/y_train.csv\",\n",
    "    path_x_test=BASE_PATH + \"/x_test.csv\",\n",
    "    sub_sample=False,\n",
    ")\n",
    "\n",
    "# Create the feature index dictionary\n",
    "feature_index = dict(zip(feature_names, range(len(feature_names))))"
   ]
  },
  {
   "cell_type": "markdown",
   "id": "36e3edd16fb40470",
   "metadata": {},
   "source": [
    "# Pre-processing"
   ]
  },
  {
   "cell_type": "markdown",
   "source": [
    "#### This notebook uses the GOOD pre-processing: only selected features are kept and pre-processed using the informed pre-processing pipeline"
   ],
   "metadata": {
    "collapsed": false
   },
   "id": "16a821d21e32fc3d"
  },
  {
   "cell_type": "code",
   "execution_count": null,
   "id": "e689f404263de818",
   "metadata": {
    "collapsed": false
   },
   "outputs": [],
   "source": [
    "# Keeping only selected features both in train and validation set\n",
    "x_train_clean, clean_features, clean_feature_index = keep_features(\n",
    "    x_train, FEATURES_DICT.keys(), feature_names, feature_index, verbose=False\n",
    ")\n",
    "\n",
    "# Call to the informed preprocessing pipeline on the selected features\n",
    "x_train_clean_proc = preprocessing_pipeline(\n",
    "    x_train_clean,\n",
    "    where=clean_features,\n",
    "    feature_index=clean_feature_index,\n",
    "    nan_replacement=REPLACEMENT_LIST,\n",
    "    normalize=\"mixed\",\n",
    ")"
   ]
  },
  {
   "cell_type": "markdown",
   "id": "586b891cc87308d6",
   "metadata": {},
   "source": [
    "## Data preparation and split sets"
   ]
  },
  {
   "cell_type": "markdown",
   "id": "e62ba34f804ff725",
   "metadata": {},
   "source": [
    "#### From now on we'll use the local train and validation data: `x_tr` and `y_tr` for training and `x_va` and `y_va` for validation"
   ]
  },
  {
   "cell_type": "code",
   "execution_count": null,
   "id": "78216bae25f9daf1",
   "metadata": {
    "collapsed": false
   },
   "outputs": [],
   "source": [
    "    # Translate labels from -1/1 to 0/1\n",
    "y_train = change_negative_class(y_train[:, 1], current=-1, new=0)\n",
    "\n",
    "# Split local data into train and validation\n",
    "(x_tr, x_va, y_tr, y_va) = split_train_validation(\n",
    "    x_train_clean_proc, y_train, valid_proportion=0.1\n",
    ")\n",
    "\n",
    "# Add bias column to the training and validation data\n",
    "x_tr_bias = np.append(x_tr, np.ones(shape=(x_tr.shape[0], 1)), axis=1)\n",
    "x_va_bias = np.append(x_va, np.ones(shape=(x_va.shape[0], 1)), axis=1)"
   ]
  },
  {
   "cell_type": "markdown",
   "id": "36603cf5d842e758",
   "metadata": {},
   "source": [
    "# Training"
   ]
  },
  {
   "cell_type": "code",
   "execution_count": null,
   "id": "55f08d97bec28491",
   "metadata": {
    "collapsed": false
   },
   "outputs": [],
   "source": [
    "w, train_loss, valid_loss = reg_logistic_regression(\n",
    "    x_tr_bias,\n",
    "    y_tr,\n",
    "    x_va_bias,\n",
    "    y_va,\n",
    "    lambda_=hyperparams[\"lambda\"],\n",
    "    max_iter=5000,\n",
    "    gamma=hyperparams[\"gamma\"],\n",
    "    batch_size=hyperparams[\"batch_size\"],\n",
    "    optimizer=\"sgd\",\n",
    "    w=np.random.random(size=x_tr_bias.shape[1]),\n",
    "    all_losses=True,\n",
    ")"
   ]
  },
  {
   "cell_type": "code",
   "execution_count": null,
   "id": "b9ea96301cc4be57",
   "metadata": {
    "collapsed": false
   },
   "outputs": [],
   "source": [
    "# plot losses\n",
    "loss_visualization(train_loss, valid_loss)\n",
    "plt.yscale(\"log\")"
   ]
  },
  {
   "cell_type": "markdown",
   "id": "4a062336d16cb11f",
   "metadata": {},
   "source": [
    "# Evaluation on validation set"
   ]
  },
  {
   "cell_type": "code",
   "execution_count": null,
   "id": "8278d139e24ed163",
   "metadata": {
    "collapsed": false
   },
   "outputs": [],
   "source": [
    "sns.histplot(predict_no_labels(x_va_bias, w), bins=30, kde=True)\n",
    "plt.title(\"Distribution of unlabeled predictions on validation set\")\n",
    "plt.show()"
   ]
  },
  {
   "cell_type": "code",
   "execution_count": null,
   "outputs": [],
   "source": [
    "threshold_opt = decision_threshold(x_va_bias, w, y_va)"
   ],
   "metadata": {
    "collapsed": false
   },
   "id": "76c2a801625e5e1b"
  },
  {
   "cell_type": "code",
   "execution_count": null,
   "outputs": [],
   "source": [
    "predicted_y_va = predict(x_va_bias,\n",
    "                         w,\n",
    "                         threshold=threshold_opt,\n",
    "                         negative_label=0)\n",
    "print(\"EVALUATION SUMMARY ON VALIDATION SET\")\n",
    "print(\"Threshold: {}\".format(threshold_opt))\n",
    "evaluation_summary(y_va, predicted_y_va)"
   ],
   "metadata": {
    "collapsed": false
   },
   "id": "6552088718b44c3e"
  },
  {
   "cell_type": "markdown",
   "id": "38c630565361d30d",
   "metadata": {},
   "source": [
    "\n",
    "---\n",
    "\n",
    "# COMPUTE RESULT FOR SUBMISSION"
   ]
  },
  {
   "cell_type": "markdown",
   "id": "7b247e61f9a811fb",
   "metadata": {},
   "source": [
    "### Pre processing and data preparation"
   ]
  },
  {
   "cell_type": "code",
   "execution_count": null,
   "id": "1671bb9e6224fcd3",
   "metadata": {
    "collapsed": false
   },
   "outputs": [],
   "source": [
    "ids = x_sub[:, 0]\n",
    "# Keep only selected features in submission\n",
    "x_sub_clean, clean_features, clean_feature_index = keep_features(\n",
    "    x_sub, FEATURES_DICT.keys(), feature_names, feature_index, verbose=False\n",
    ")\n",
    "\n",
    "x_sub_clean_proc = preprocessing_pipeline(\n",
    "    x_sub_clean,\n",
    "    where=clean_features,\n",
    "    feature_index=clean_feature_index,\n",
    "    nan_replacement=REPLACEMENT_LIST,\n",
    "    normalize=\"mixed\",\n",
    ")\n",
    "\n",
    "\n",
    "x_sub_bias = np.append(\n",
    "    x_sub_clean_proc, np.ones(shape=(x_sub_clean_proc.shape[0], 1)), axis=1\n",
    ")"
   ]
  },
  {
   "cell_type": "markdown",
   "source": [
    "### Prediction"
   ],
   "metadata": {
    "collapsed": false
   },
   "id": "65dddb66d3b56b8"
  },
  {
   "cell_type": "code",
   "execution_count": null,
   "id": "7959791cb26e3099",
   "metadata": {
    "collapsed": false
   },
   "outputs": [],
   "source": [
    "predicted_y_sub = predict(\n",
    "    x_sub_bias, w, threshold=threshold_opt, negative_label=-1\n",
    ")\n",
    "\n",
    "# Save predictions to csv file\n",
    "create_csv_submission(\n",
    "    ids=ids, y_pred=predicted_y_sub, path=BASE_PATH + \"/submission_good.csv\"\n",
    ")"
   ]
  },
  {
   "cell_type": "code",
   "execution_count": null,
   "id": "444426d8da3e32e3",
   "metadata": {
    "collapsed": false
   },
   "outputs": [],
   "source": [
    "fig, axs = plt.subplots(1, 2, figsize=(15, 5))\n",
    "sns.histplot(y_va, ax=axs[0])\n",
    "axs[0].set_title(\"Labels distribution in validation set\")\n",
    "sns.histplot(predicted_y_sub, ax=axs[1])\n",
    "axs[1].set_title(\"Predictions distribution\")"
   ]
  },
  {
   "cell_type": "code",
   "execution_count": null,
   "id": "b5a12be2f2d648b",
   "metadata": {
    "collapsed": false
   },
   "outputs": [],
   "source": []
  }
 ],
 "metadata": {
  "kernelspec": {
   "display_name": "Python 3 (ipykernel)",
   "language": "python",
   "name": "python3"
  },
  "language_info": {
   "codemirror_mode": {
    "name": "ipython",
    "version": 3
   },
   "file_extension": ".py",
   "mimetype": "text/x-python",
   "name": "python",
   "nbconvert_exporter": "python",
   "pygments_lexer": "ipython3",
   "version": "3.9.18"
  }
 },
 "nbformat": 4,
 "nbformat_minor": 5
}
