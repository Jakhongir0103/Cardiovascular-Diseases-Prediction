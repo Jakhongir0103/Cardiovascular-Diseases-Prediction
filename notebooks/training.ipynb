{
 "cells": [
  {
   "cell_type": "code",
   "execution_count": null,
   "id": "85c380c8a2d01dff",
   "metadata": {
    "collapsed": false
   },
   "outputs": [],
   "source": [
    "import os\n",
    "\n",
    "import numpy as np\n",
    "import matplotlib.pyplot as plt\n",
    "import seaborn as sns\n",
    "\n",
    "from util.data_loader import (load_dataset, split_train_validation, \n",
    "                              custom_random_oversampling, create_csv_submission,\n",
    "                              change_negative_class)\n",
    "from util.features_util import keep_features\n",
    "from util.features_info import FEATURES_DICT, REPLACEMENT_LIST\n",
    "from util.preprocessing import preprocessing_pipeline\n",
    "from util.train import reg_logistic_regression\n",
    "from util.plotting import loss_visualization\n",
    "from util.evaluation import evaluation_summary\n",
    "from util.predict import predict, predict_no_labels\n",
    "from util.util import init_random_seeds\n",
    "\n",
    "\n",
    "BASE_PATH = os.path.dirname(os.getcwd()) + \"/data\"\n",
    "\n",
    "init_random_seeds()"
   ]
  },
  {
   "cell_type": "markdown",
   "id": "3b64d4bcc611d949",
   "metadata": {},
   "source": [
    "# Data loading"
   ]
  },
  {
   "cell_type": "markdown",
   "id": "a5937ab513c67357",
   "metadata": {},
   "source": [
    "### ⚠️ Note that the `x_sub` here refers to data for which predictions will be made, but for which we don't have the labels! To refer to the data used for local testing we'll use `x_va` and `y_va` (validation)."
   ]
  },
  {
   "cell_type": "code",
   "execution_count": null,
   "id": "initial_id",
   "metadata": {
    "collapsed": true,
    "jupyter": {
     "outputs_hidden": true
    }
   },
   "outputs": [],
   "source": [
    "# Load data without subsampling\n",
    "x_train, y_train, x_sub, feature_names = load_dataset(path_x_train=BASE_PATH + \"/x_train.csv\",\n",
    "                                                      path_y_train=BASE_PATH + \"/y_train.csv\",\n",
    "                                                      path_x_test=BASE_PATH + \"/x_test.csv\",\n",
    "                                                      sub_sample=False)\n",
    "# Create the feature index dictionary\n",
    "feature_indexes = dict(zip(feature_names, range(len(feature_names))))"
   ]
  },
  {
   "cell_type": "markdown",
   "id": "36e3edd16fb40470",
   "metadata": {},
   "source": [
    "# Pre-processing"
   ]
  },
  {
   "cell_type": "code",
   "execution_count": null,
   "id": "e689f404263de818",
   "metadata": {
    "collapsed": false
   },
   "outputs": [],
   "source": [
    "# Keeping only selected features both in train and validation set\n",
    "x_train_clean, clean_features, clean_feature_index = keep_features(x_train, FEATURES_DICT.keys(), feature_names, feature_indexes)"
   ]
  },
  {
   "cell_type": "code",
   "execution_count": null,
   "id": "27a66579f5168c5e",
   "metadata": {
    "collapsed": false
   },
   "outputs": [],
   "source": [
    "# Call to the preprocessing pipeline both for train and test set\n",
    "# NOTE: the preprocessing automatically performs also normalization\n",
    "\n",
    "x_train_preprocessed = preprocessing_pipeline(x_train_clean, \n",
    "                                              where=clean_features,\n",
    "                                              feature_index=clean_feature_index,\n",
    "                                              nan_replacement=REPLACEMENT_LIST)"
   ]
  },
  {
   "cell_type": "markdown",
   "id": "586b891cc87308d6",
   "metadata": {},
   "source": [
    "## Split local data into train and validation"
   ]
  },
  {
   "cell_type": "markdown",
   "id": "e62ba34f804ff725",
   "metadata": {},
   "source": [
    "#### From now on we'll use the local train and validation data: `x_tr` and `y_tr` for training and `x_va` and `y_va` for validation"
   ]
  },
  {
   "cell_type": "code",
   "execution_count": null,
   "id": "78216bae25f9daf1",
   "metadata": {
    "collapsed": false
   },
   "outputs": [],
   "source": [
    "# Translate labels from -1/1 to 0/1\n",
    "y_train = change_negative_class(y_train[:, 1], current=-1, new=0)\n",
    "\n",
    "# Split local data into train and validation\n",
    "(x_tr, x_va, y_tr, y_va) = split_train_validation(x_train_preprocessed,\n",
    "                                                  y_train,\n",
    "                                                  valid_proportion=0.2)"
   ]
  },
  {
   "cell_type": "markdown",
   "id": "dad9faf89279df11",
   "metadata": {},
   "source": [
    "## Data preparation for training"
   ]
  },
  {
   "cell_type": "code",
   "execution_count": null,
   "id": "ec5c3da2192a614c",
   "metadata": {
    "collapsed": false
   },
   "outputs": [],
   "source": [
    "# Perform over sampling (due to unbalanced data)\n",
    "x_tr_oversampled, y_tr_oversampled = custom_random_oversampling(x_tr, y_tr)\n",
    "\n",
    "# NOTE: to properly validate the model we should not over sample the validation set!\n",
    "# x_va_oversampled, y_va_oversampled = custom_random_oversampling(x_va, y_va[:,1])\n",
    "\n",
    "\n",
    "# Add bias column to the training and validation data\n",
    "x_tr_oversampled_bias = np.append(x_tr_oversampled, np.ones(shape=(x_tr_oversampled.shape[0], 1)), axis=1)\n",
    "x_va_bias = np.append(x_va, np.ones(shape=(x_va.shape[0], 1)), axis=1)\n"
   ]
  },
  {
   "cell_type": "markdown",
   "id": "36603cf5d842e758",
   "metadata": {},
   "source": [
    "# Training"
   ]
  },
  {
   "cell_type": "code",
   "execution_count": null,
   "id": "55f08d97bec28491",
   "metadata": {
    "collapsed": false
   },
   "outputs": [],
   "source": [
    "w, train_loss, valid_loss = reg_logistic_regression(x_tr_oversampled_bias,\n",
    "                                                    y_tr_oversampled,\n",
    "                                                    x_va_bias,\n",
    "                                                    y_va,\n",
    "                                                    lambda_=0.001, \n",
    "                                                    max_iter=5000,\n",
    "                                                    gamma=0.003,\n",
    "                                                    batch_size=100, \n",
    "                                                    w=np.random.random(size=x_tr_oversampled_bias.shape[1]),\n",
    "                                                    optimizer=\"sgd\",\n",
    "                                                    all_losses=True)\n"
   ]
  },
  {
   "cell_type": "code",
   "execution_count": null,
   "id": "b9ea96301cc4be57",
   "metadata": {
    "collapsed": false
   },
   "outputs": [],
   "source": [
    "# plot losses\n",
    "loss_visualization(train_loss, valid_loss)\n",
    "plt.yscale(\"log\")"
   ]
  },
  {
   "cell_type": "markdown",
   "id": "1aeee948df6ad075",
   "metadata": {},
   "source": [
    "# Evaluation on training set"
   ]
  },
  {
   "cell_type": "code",
   "execution_count": null,
   "id": "ff359b422657efa4",
   "metadata": {
    "collapsed": false
   },
   "outputs": [],
   "source": [
    "predicted_y_tr = predict(x_tr_oversampled_bias,\n",
    "                         w,\n",
    "                         threshold=0.5,\n",
    "                         negative_label=0)\n",
    "\n",
    "print(\"EVALUATION SUMMARY ON TRAINING SET\")\n",
    "evaluation_summary(y_tr_oversampled, predicted_y_tr)"
   ]
  },
  {
   "cell_type": "code",
   "execution_count": null,
   "id": "9f9f9def8291efda",
   "metadata": {
    "collapsed": false
   },
   "outputs": [],
   "source": [
    "sns.histplot(predict_no_labels(x_tr_oversampled_bias, w), bins=30, kde=True)\n",
    "plt.title(\"Distribution of unlabeled predictions on training set\")\n",
    "plt.show()"
   ]
  },
  {
   "cell_type": "markdown",
   "id": "4a062336d16cb11f",
   "metadata": {},
   "source": [
    "# Evaluation on validation set"
   ]
  },
  {
   "cell_type": "code",
   "execution_count": null,
   "id": "6552088718b44c3e",
   "metadata": {
    "collapsed": false
   },
   "outputs": [],
   "source": [
    "predicted_y_va = predict(x_va_bias,\n",
    "                         w,\n",
    "                         threshold=0.47,\n",
    "                         negative_label=0)\n",
    "print(\"EVALUATION SUMMARY ON VALIDATION SET\")\n",
    "evaluation_summary(y_va, predicted_y_va)"
   ]
  },
  {
   "cell_type": "code",
   "execution_count": null,
   "id": "8278d139e24ed163",
   "metadata": {
    "collapsed": false
   },
   "outputs": [],
   "source": [
    "sns.histplot(predict_no_labels(x_va_bias, w), bins=30, kde=True)\n",
    "plt.title(\"Distribution of unlabeled predictions on validation set\")\n",
    "plt.show()"
   ]
  },
  {
   "cell_type": "code",
   "execution_count": null,
   "outputs": [],
   "source": [
    "from util.plotting import decision_threshold\n",
    "decision_threshold(x_va_bias, w, y_va)\n"
   ],
   "metadata": {
    "collapsed": false
   },
   "id": "43675c46751a63e2"
  },
  {
   "cell_type": "markdown",
   "id": "38c630565361d30d",
   "metadata": {},
   "source": [
    "\n",
    "---\n",
    "\n",
    "# COMPUTE RESULT FOR SUBMISSION"
   ]
  },
  {
   "cell_type": "code",
   "execution_count": null,
   "outputs": [],
   "source": [
    "from util.evaluation import accuracy, f1_score\n",
    "\n",
    "thresholds = np.linspace(0, 1, 200)\n",
    "accuracies = []\n",
    "f1_scores = []\n",
    "\n",
    "for threshold in thresholds:\n",
    "    y_prediction = predict(x_va_bias, w, threshold)\n",
    "    accuracies.append(accuracy(y_va, y_prediction))\n",
    "    f1_scores.append(f1_score(y_va, y_prediction))\n",
    "\n",
    "f1_scores = np.array(f1_scores)\n",
    "f1_scores = np.where(np.isnan(f1_scores), 0, f1_scores)\n",
    "\n",
    "print(thresholds[np.argmax(f1_scores)])"
   ],
   "metadata": {
    "collapsed": false
   },
   "id": "472fa974e01658a2"
  },
  {
   "cell_type": "code",
   "execution_count": null,
   "outputs": [],
   "source": [
    "from util.plotting import decision_threshold\n",
    "decision_threshold(x_va_bias, w, y_va)\n"
   ],
   "metadata": {
    "collapsed": false
   },
   "id": "58d7a810a6635dfb"
  },
  {
   "cell_type": "markdown",
   "id": "7b247e61f9a811fb",
   "metadata": {},
   "source": [
    "## Pre processing and data preparation"
   ]
  },
  {
   "cell_type": "code",
   "execution_count": null,
   "id": "1671bb9e6224fcd3",
   "metadata": {
    "collapsed": false
   },
   "outputs": [],
   "source": [
    "# Keep only selected features in submission data\n",
    "ids = x_sub[:, 0]\n",
    "x_sub_clean, clean_features, clean_feature_index = keep_features(x_sub, FEATURES_DICT.keys(), feature_names, feature_indexes, verbose=False)\n",
    "\n",
    "x_sub_preprocessed = preprocessing_pipeline(x_sub_clean,\n",
    "                                            where=clean_features,\n",
    "                                            feature_index=clean_feature_index,\n",
    "                                            nan_replacement=REPLACEMENT_LIST)\n",
    "\n",
    "# Add bias column to the submission data\n",
    "x_sub_bias = np.append(x_sub_preprocessed, np.ones(shape=(x_sub_preprocessed.shape[0], 1)), axis=1)"
   ]
  },
  {
   "cell_type": "code",
   "execution_count": null,
   "id": "7959791cb26e3099",
   "metadata": {
    "collapsed": false
   },
   "outputs": [],
   "source": [
    "predicted_y_sub = predict(x_sub_bias,\n",
    "                          w,\n",
    "                          threshold=0.6,\n",
    "                          negative_label=-1)\n",
    "\n",
    "sns.histplot(predict_no_labels(x_sub_bias, w), bins=30, kde=True)"
   ]
  },
  {
   "cell_type": "code",
   "execution_count": null,
   "id": "444426d8da3e32e3",
   "metadata": {
    "collapsed": false
   },
   "outputs": [],
   "source": [
    "fig, axs = plt.subplots(1, 2, figsize=(15, 5))\n",
    "sns.histplot(y_va, ax=axs[0])\n",
    "axs[0].set_title(\"Labels distribution in validation set\")\n",
    "sns.histplot(predicted_y_sub, ax=axs[1])\n",
    "axs[1].set_title(\"Predictions distribution\")"
   ]
  },
  {
   "cell_type": "code",
   "execution_count": null,
   "id": "fa9f96e8e472b7a6",
   "metadata": {
    "collapsed": false
   },
   "outputs": [],
   "source": [
    "# Save predictions to csv file\n",
    "create_csv_submission(ids=ids, y_pred=predicted_y_sub, path=BASE_PATH + \"/submission.csv\")"
   ]
  },
  {
   "cell_type": "code",
   "execution_count": null,
   "id": "b5a12be2f2d648b",
   "metadata": {
    "collapsed": false
   },
   "outputs": [],
   "source": []
  }
 ],
 "metadata": {
  "kernelspec": {
   "display_name": "Python 3 (ipykernel)",
   "language": "python",
   "name": "python3"
  },
  "language_info": {
   "codemirror_mode": {
    "name": "ipython",
    "version": 3
   },
   "file_extension": ".py",
   "mimetype": "text/x-python",
   "name": "python",
   "nbconvert_exporter": "python",
   "pygments_lexer": "ipython3",
   "version": "3.9.18"
  }
 },
 "nbformat": 4,
 "nbformat_minor": 5
}
