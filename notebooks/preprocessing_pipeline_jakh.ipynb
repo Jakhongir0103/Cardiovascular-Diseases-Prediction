{
 "cells": [
  {
   "cell_type": "code",
   "execution_count": 2,
   "metadata": {
    "tags": []
   },
   "outputs": [],
   "source": [
    "import sys\n",
    "# Add the path to the scripts folder\n",
    "sys.path.append('..')\n",
    "\n",
    "import numpy as np\n",
    "from util.preprocessing import *\n",
    "from util.features_util import *\n",
    "from util.features_info import *\n",
    "from util.plotting import *\n",
    "from util.data_loader import *"
   ]
  },
  {
   "cell_type": "code",
   "execution_count": 3,
   "metadata": {},
   "outputs": [],
   "source": [
    "x_train, y_train, x_test, features_names = load_dataset(\n",
    "    path_x_train=\"./../../course/projects/project1/data/dataset/x_train.csv\",\n",
    "    path_y_train=\"./../../course/projects/project1/data/dataset/y_train.csv\",\n",
    "    path_x_test=\"./../../course/projects/project1/data/dataset/x_test.csv\"\n",
    ")"
   ]
  },
  {
   "cell_type": "code",
   "execution_count": 4,
   "metadata": {},
   "outputs": [],
   "source": [
    "# Import data and create the dictionary of features\n",
    "feature_indexes = dict(zip(features_names, range(len(features_names))))"
   ]
  },
  {
   "cell_type": "code",
   "execution_count": 38,
   "metadata": {
    "collapsed": false,
    "jupyter": {
     "outputs_hidden": false
    }
   },
   "outputs": [],
   "source": [
    "def stats(data: np.ndarray, feature_index: Dict[str, int]):\n",
    "    for f in feature_index.keys():\n",
    "        print(\"----- {} -----\".format(f))\n",
    "        values, counts = np.unique(data[:,feature_index[f]], return_counts=True)\n",
    "        print(\"\\t(value, counts): {}\".format([(value,count) for value, count in zip(values, counts)]))\n",
    "        print(\"\\tmean: {:.2f}\".format(np.nanmean(data[:,feature_index[f]])))\n",
    "        print(\"\\tmedian: {:.2f}\".format(np.nanmedian(data[:,feature_index[f]])))"
   ]
  },
  {
   "cell_type": "code",
   "execution_count": null,
   "metadata": {},
   "outputs": [],
   "source": []
  },
  {
   "cell_type": "code",
   "execution_count": 14,
   "metadata": {
    "collapsed": false,
    "jupyter": {
     "outputs_hidden": false
    }
   },
   "outputs": [
    {
     "ename": "KeyError",
     "evalue": "'CHLDCNT'",
     "output_type": "error",
     "traceback": [
      "\u001b[1;31m---------------------------------------------------------------------------\u001b[0m",
      "\u001b[1;31mKeyError\u001b[0m                                  Traceback (most recent call last)",
      "Cell \u001b[1;32mIn[14], line 11\u001b[0m\n\u001b[0;32m      1\u001b[0m fs_to_keep \u001b[38;5;241m=\u001b[39m [\u001b[38;5;124m'\u001b[39m\u001b[38;5;124mGENHLTH\u001b[39m\u001b[38;5;124m'\u001b[39m,\u001b[38;5;124m'\u001b[39m\u001b[38;5;124mPHYSHLTH\u001b[39m\u001b[38;5;124m'\u001b[39m,\u001b[38;5;124m'\u001b[39m\u001b[38;5;124mMENTHLTH\u001b[39m\u001b[38;5;124m'\u001b[39m,\u001b[38;5;124m'\u001b[39m\u001b[38;5;124mPOORHLTH\u001b[39m\u001b[38;5;124m'\u001b[39m,\u001b[38;5;124m'\u001b[39m\u001b[38;5;124mPERSDOC2\u001b[39m\u001b[38;5;124m'\u001b[39m,\u001b[38;5;124m'\u001b[39m\u001b[38;5;124mMEDCOST\u001b[39m\u001b[38;5;124m'\u001b[39m,\u001b[38;5;124m'\u001b[39m\u001b[38;5;124mCHECKUP1\u001b[39m\u001b[38;5;124m'\u001b[39m,\u001b[38;5;124m'\u001b[39m\u001b[38;5;124m_HCVU651\u001b[39m\u001b[38;5;124m'\u001b[39m,\n\u001b[0;32m      2\u001b[0m               \u001b[38;5;124m'\u001b[39m\u001b[38;5;124m_CHOLCHK\u001b[39m\u001b[38;5;124m'\u001b[39m,\u001b[38;5;124m'\u001b[39m\u001b[38;5;124m_RFCHOL\u001b[39m\u001b[38;5;124m'\u001b[39m,\u001b[38;5;124m\"\u001b[39m\u001b[38;5;124mCVDSTRK3\u001b[39m\u001b[38;5;124m\"\u001b[39m, \u001b[38;5;124m\"\u001b[39m\u001b[38;5;124m_ASTHMS1\u001b[39m\u001b[38;5;124m\"\u001b[39m, \u001b[38;5;124m\"\u001b[39m\u001b[38;5;124mCHCSCNCR\u001b[39m\u001b[38;5;124m\"\u001b[39m, \u001b[38;5;124m\"\u001b[39m\u001b[38;5;124mCHCOCNCR\u001b[39m\u001b[38;5;124m\"\u001b[39m, \u001b[38;5;124m\"\u001b[39m\u001b[38;5;124mCHCCOPD1\u001b[39m\u001b[38;5;124m\"\u001b[39m, \n\u001b[0;32m      3\u001b[0m               \u001b[38;5;124m\"\u001b[39m\u001b[38;5;124m_DRDXAR1\u001b[39m\u001b[38;5;124m\"\u001b[39m, \u001b[38;5;124m\"\u001b[39m\u001b[38;5;124mADDEPEV2\u001b[39m\u001b[38;5;124m\"\u001b[39m, \u001b[38;5;124m\"\u001b[39m\u001b[38;5;124mCHCKIDNY\u001b[39m\u001b[38;5;124m\"\u001b[39m, \u001b[38;5;124m\"\u001b[39m\u001b[38;5;124mDIABETE3\u001b[39m\u001b[38;5;124m\"\u001b[39m, \u001b[38;5;124m\"\u001b[39m\u001b[38;5;124mDIABAGE2\u001b[39m\u001b[38;5;124m\"\u001b[39m, \u001b[38;5;124m\"\u001b[39m\u001b[38;5;124mSEX\u001b[39m\u001b[38;5;124m\"\u001b[39m, \u001b[38;5;124m\"\u001b[39m\u001b[38;5;124m_AGE80\u001b[39m\u001b[38;5;124m\"\u001b[39m, \n\u001b[1;32m   (...)\u001b[0m\n\u001b[0;32m      9\u001b[0m               \u001b[38;5;124m\"\u001b[39m\u001b[38;5;124mPAFREQ1_\u001b[39m\u001b[38;5;124m\"\u001b[39m, \u001b[38;5;124m\"\u001b[39m\u001b[38;5;124mPAFREQ2_\u001b[39m\u001b[38;5;124m\"\u001b[39m, \u001b[38;5;124m\"\u001b[39m\u001b[38;5;124m_MINAC11\u001b[39m\u001b[38;5;124m\"\u001b[39m, \u001b[38;5;124m\"\u001b[39m\u001b[38;5;124m_MINAC21\u001b[39m\u001b[38;5;124m\"\u001b[39m, \u001b[38;5;124m\"\u001b[39m\u001b[38;5;124mSTRFREQ_\u001b[39m\u001b[38;5;124m\"\u001b[39m, \u001b[38;5;124m\"\u001b[39m\u001b[38;5;124mPA1MIN_\u001b[39m\u001b[38;5;124m\"\u001b[39m, \u001b[38;5;124m\"\u001b[39m\u001b[38;5;124mPAVIG11_\u001b[39m\u001b[38;5;124m\"\u001b[39m, \u001b[38;5;124m\"\u001b[39m\u001b[38;5;124mPAVIG21_\u001b[39m\u001b[38;5;124m\"\u001b[39m, \n\u001b[0;32m     10\u001b[0m               \u001b[38;5;124m\"\u001b[39m\u001b[38;5;124mPA1VIGM_\u001b[39m\u001b[38;5;124m\"\u001b[39m, \u001b[38;5;124m\"\u001b[39m\u001b[38;5;124m_PACAT1\u001b[39m\u001b[38;5;124m\"\u001b[39m, \u001b[38;5;124m\"\u001b[39m\u001b[38;5;124m_PAINDX1\u001b[39m\u001b[38;5;124m\"\u001b[39m, \u001b[38;5;124m\"\u001b[39m\u001b[38;5;124m_PA150R2\u001b[39m\u001b[38;5;124m\"\u001b[39m, \u001b[38;5;124m\"\u001b[39m\u001b[38;5;124m_PA300R2\u001b[39m\u001b[38;5;124m\"\u001b[39m, \u001b[38;5;124m\"\u001b[39m\u001b[38;5;124m_PA30021\u001b[39m\u001b[38;5;124m\"\u001b[39m, \u001b[38;5;124m\"\u001b[39m\u001b[38;5;124m_PASTRNG\u001b[39m\u001b[38;5;124m\"\u001b[39m]\n\u001b[1;32m---> 11\u001b[0m x_clean, features_clean, feature_indexes_clean \u001b[38;5;241m=\u001b[39m \u001b[43mkeep_features\u001b[49m\u001b[43m(\u001b[49m\u001b[43mx\u001b[49m\u001b[43m,\u001b[49m\u001b[43m \u001b[49m\u001b[43mfs_to_keep\u001b[49m\u001b[43m,\u001b[49m\u001b[43m \u001b[49m\u001b[43mfeatures\u001b[49m\u001b[43m,\u001b[49m\u001b[43m \u001b[49m\u001b[43mfeature_indexes\u001b[49m\u001b[43m)\u001b[49m\n\u001b[0;32m     13\u001b[0m \u001b[38;5;66;03m# put to nan everything that means nan (nan aliases)\u001b[39;00m\n\u001b[0;32m     14\u001b[0m x_clean \u001b[38;5;241m=\u001b[39m align_nans(x_clean, features_clean, feature_indexes_clean)\n",
      "File \u001b[1;32m~\\Documents\\Master_courses\\ml\\project_1\\notebooks\\..\\util\\features_util.py:48\u001b[0m, in \u001b[0;36mkeep_features\u001b[1;34m(data, features_to_keep, features, feature_index)\u001b[0m\n\u001b[0;32m     40\u001b[0m \u001b[38;5;28;01mdef\u001b[39;00m \u001b[38;5;21mkeep_features\u001b[39m(\n\u001b[0;32m     41\u001b[0m     data: np\u001b[38;5;241m.\u001b[39mndarray,\n\u001b[0;32m     42\u001b[0m     features_to_keep: Union[\u001b[38;5;28mstr\u001b[39m, \u001b[38;5;28mlist\u001b[39m[\u001b[38;5;28mstr\u001b[39m]],\n\u001b[0;32m     43\u001b[0m     features: \u001b[38;5;28mlist\u001b[39m[\u001b[38;5;28mstr\u001b[39m],\n\u001b[0;32m     44\u001b[0m     feature_index: \u001b[38;5;28mdict\u001b[39m,\n\u001b[0;32m     45\u001b[0m ):\n\u001b[0;32m     46\u001b[0m \u001b[38;5;250m    \u001b[39m\u001b[38;5;124;03m\"\"\"\u001b[39;00m\n\u001b[0;32m     47\u001b[0m \u001b[38;5;124;03m    Keep only the feature(s) specified in features_to_keep.\u001b[39;00m\n\u001b[1;32m---> 48\u001b[0m \u001b[38;5;124;03m    :param data: np.array of shape (N, D)\u001b[39;00m\n\u001b[0;32m     49\u001b[0m \u001b[38;5;124;03m    :param features_to_keep: name(s) of the feature(s) to keep\u001b[39;00m\n\u001b[0;32m     50\u001b[0m \u001b[38;5;124;03m    :param features: list(str) of the names of the features\u001b[39;00m\n\u001b[0;32m     51\u001b[0m \u001b[38;5;124;03m    :param feature_index: dict(str : int) linking the name of the features to their index\u001b[39;00m\n\u001b[0;32m     52\u001b[0m \u001b[38;5;124;03m    \"\"\"\u001b[39;00m\n\u001b[0;32m     54\u001b[0m     \u001b[38;5;28;01mif\u001b[39;00m \u001b[38;5;28mtype\u001b[39m(features_to_keep) \u001b[38;5;241m==\u001b[39m \u001b[38;5;28mstr\u001b[39m:\n\u001b[0;32m     55\u001b[0m         features_to_keep \u001b[38;5;241m=\u001b[39m [features_to_keep]\n",
      "File \u001b[1;32m~\\Documents\\Master_courses\\ml\\project_1\\notebooks\\..\\util\\features_util.py:48\u001b[0m, in \u001b[0;36m<listcomp>\u001b[1;34m(.0)\u001b[0m\n\u001b[0;32m     40\u001b[0m \u001b[38;5;28;01mdef\u001b[39;00m \u001b[38;5;21mkeep_features\u001b[39m(\n\u001b[0;32m     41\u001b[0m     data: np\u001b[38;5;241m.\u001b[39mndarray,\n\u001b[0;32m     42\u001b[0m     features_to_keep: Union[\u001b[38;5;28mstr\u001b[39m, \u001b[38;5;28mlist\u001b[39m[\u001b[38;5;28mstr\u001b[39m]],\n\u001b[0;32m     43\u001b[0m     features: \u001b[38;5;28mlist\u001b[39m[\u001b[38;5;28mstr\u001b[39m],\n\u001b[0;32m     44\u001b[0m     feature_index: \u001b[38;5;28mdict\u001b[39m,\n\u001b[0;32m     45\u001b[0m ):\n\u001b[0;32m     46\u001b[0m \u001b[38;5;250m    \u001b[39m\u001b[38;5;124;03m\"\"\"\u001b[39;00m\n\u001b[0;32m     47\u001b[0m \u001b[38;5;124;03m    Keep only the feature(s) specified in features_to_keep.\u001b[39;00m\n\u001b[1;32m---> 48\u001b[0m \u001b[38;5;124;03m    :param data: np.array of shape (N, D)\u001b[39;00m\n\u001b[0;32m     49\u001b[0m \u001b[38;5;124;03m    :param features_to_keep: name(s) of the feature(s) to keep\u001b[39;00m\n\u001b[0;32m     50\u001b[0m \u001b[38;5;124;03m    :param features: list(str) of the names of the features\u001b[39;00m\n\u001b[0;32m     51\u001b[0m \u001b[38;5;124;03m    :param feature_index: dict(str : int) linking the name of the features to their index\u001b[39;00m\n\u001b[0;32m     52\u001b[0m \u001b[38;5;124;03m    \"\"\"\u001b[39;00m\n\u001b[0;32m     54\u001b[0m     \u001b[38;5;28;01mif\u001b[39;00m \u001b[38;5;28mtype\u001b[39m(features_to_keep) \u001b[38;5;241m==\u001b[39m \u001b[38;5;28mstr\u001b[39m:\n\u001b[0;32m     55\u001b[0m         features_to_keep \u001b[38;5;241m=\u001b[39m [features_to_keep]\n",
      "\u001b[1;31mKeyError\u001b[0m: 'CHLDCNT'"
     ]
    }
   ],
   "source": [
    "fs_to_keep = ['GENHLTH','PHYSHLTH','MENTHLTH','POORHLTH','PERSDOC2','MEDCOST','CHECKUP1','_HCVU651',\n",
    "              '_CHOLCHK','_RFCHOL',\"CVDSTRK3\", \"_ASTHMS1\", \"CHCSCNCR\", \"CHCOCNCR\", \"CHCCOPD1\", \n",
    "              \"_DRDXAR1\", \"ADDEPEV2\", \"CHCKIDNY\", \"DIABETE3\", \"DIABAGE2\", \"SEX\", \"_AGE80\", \n",
    "              \"MARITAL\", \"CHLDCNT\", \"EDUCAG\", \"INCOMG\", \"PREGNANT\", \"QLACTLM2\", \"USEEQUIP\", \"DECIDE\", \n",
    "              \"DIFFWALK\", \"DIFFDRES\", \"DIFFALON\", \"HTM4\", \"WTKG3\", \"_BMI5\",'_SMOKER3',\"DRNKANY5\", \"DROCDY3_\", \n",
    "              \"_RFBING5\", \"_DRNKWEK\", \"_RFDRHV5\", \"FTJUDA1_\", \"FRUTDA1_\", \"BEANDAY_\", \"GRENDAY_\", \"ORNGDAY_\", \n",
    "              \"VEGEDA1_\", \"_MISFRTN\", \"_MISVEGN\", \"_FRUTSUM\", \"_VEGESUM\", \"_FRTLT1\", \"_VEGLT1\", \"_FRT16\", \"_VEG23\",\n",
    "              \"_TOTINDA\", \"METVL11_\", \"METVL21_\", \"MAXVO2_\", \"ACTIN11_\", \"ACTIN21_\", \"PADUR1_\", \"PADUR2_\", \n",
    "              \"PAFREQ1_\", \"PAFREQ2_\", \"_MINAC11\", \"_MINAC21\", \"STRFREQ_\", \"PA1MIN_\", \"PAVIG11_\", \"PAVIG21_\", \n",
    "              \"PA1VIGM_\", \"_PACAT1\", \"_PAINDX1\", \"_PA150R2\", \"_PA300R2\", \"_PA30021\", \"_PASTRNG\"]\n",
    "x_clean, features_clean, feature_indexes_clean = keep_features(x, fs_to_keep, features, feature_indexes)\n",
    "\n",
    "# put to nan everything that means nan (nan aliases)\n",
    "x_clean = align_nans(x_clean, features_clean, feature_indexes_clean)\n",
    "# map values\n",
    "x_clean = map_values(x_clean, features_clean, feature_indexes_clean)"
   ]
  },
  {
   "cell_type": "code",
   "execution_count": null,
   "metadata": {
    "collapsed": false,
    "jupyter": {
     "outputs_hidden": false
    }
   },
   "outputs": [],
   "source": []
  },
  {
   "cell_type": "code",
   "execution_count": null,
   "metadata": {},
   "outputs": [],
   "source": []
  },
  {
   "cell_type": "code",
   "execution_count": null,
   "metadata": {},
   "outputs": [],
   "source": []
  },
  {
   "cell_type": "code",
   "execution_count": null,
   "metadata": {},
   "outputs": [],
   "source": []
  },
  {
   "cell_type": "code",
   "execution_count": null,
   "metadata": {},
   "outputs": [],
   "source": []
  }
 ],
 "metadata": {
  "kernelspec": {
   "display_name": "Python [conda env:ml] *",
   "language": "python",
   "name": "conda-env-ml-py"
  },
  "language_info": {
   "codemirror_mode": {
    "name": "ipython",
    "version": 3
   },
   "file_extension": ".py",
   "mimetype": "text/x-python",
   "name": "python",
   "nbconvert_exporter": "python",
   "pygments_lexer": "ipython3",
   "version": "3.9.18"
  }
 },
 "nbformat": 4,
 "nbformat_minor": 4
}
