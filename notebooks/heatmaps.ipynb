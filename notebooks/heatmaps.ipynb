{
 "cells": [
  {
   "cell_type": "code",
   "execution_count": null,
   "id": "initial_id",
   "metadata": {
    "collapsed": true
   },
   "outputs": [],
   "source": [
    "import os\n",
    "import pickle\n",
    "import matplotlib.pyplot as plt\n",
    "import seaborn as sns\n",
    "import numpy as np"
   ]
  },
  {
   "cell_type": "code",
   "execution_count": null,
   "outputs": [],
   "source": [
    "def plot(res, name, gammas, lambdas):\n",
    "    res_cp = res.copy()\n",
    "    \n",
    "    # Create a pivot table for the heatmap\n",
    "    pivot_res = np.zeros((len(np.unique([d['lambda_'] for d in res])),\n",
    "                          len(np.unique([d['gamma'] for d in res]))))\n",
    "    for item in res:\n",
    "        lambda_idx = np.where(np.unique([d['lambda_'] for d in res]) == item['lambda_'])[0][0]\n",
    "        gamma_idx = np.where(np.unique([d['gamma'] for d in res]) == item['gamma'])[0][0]\n",
    "        pivot_res[lambda_idx, gamma_idx] = item['valid_loss']\n",
    "\n",
    "    # Create a heatmap\n",
    "    plt.figure(figsize=(5, 4))\n",
    "    ax = sns.heatmap(pivot_res, annot=True, vmin=0.2, vmax=0.6,\n",
    "                     fmt=\".4f\", xticklabels=np.unique([d['gamma'] for d in res]),\n",
    "                     yticklabels=np.unique([d['lambda_'] for d in res]))\n",
    "\n",
    "    # Find the position of the minimum value\n",
    "    res_cp.sort(key=lambda x: x[\"valid_loss\"], reverse=False)\n",
    "    \n",
    "    id_opt_gamma = -1\n",
    "    id_opt_lambda = -1\n",
    "    \n",
    "    for i, g in enumerate(gammas):\n",
    "        if g == res_cp[0][\"gamma\"]:\n",
    "            id_opt_gamma = i\n",
    "            print(\"best gamma: {}\".format(gammas[i]))\n",
    "\n",
    "    for i, l in enumerate(lambdas):\n",
    "        if l == res_cp[0][\"lambda_\"]:\n",
    "            id_opt_lambda = i\n",
    "            print(\"best lambda: {}\".format(lambdas[i]))\n",
    "\n",
    "    # Highlight the minimum value cell by adding a rectangle around it\n",
    "    ax.add_patch(plt.Rectangle((len(lambdas) - 1 - id_opt_lambda, len(gammas) - 1 - id_opt_gamma), 1, 1, fill=False, edgecolor='red', lw=2))\n",
    "\n",
    "    plt.xlabel('Gamma')\n",
    "    plt.ylabel('Lambda')\n",
    "    plt.title('{} Heatmap'.format(name))\n",
    "    plt.savefig(os.path.dirname(os.getcwd()) + '/plots/' + 'final_heatmap_{}.png'.format(name))\n"
   ],
   "metadata": {
    "collapsed": false
   },
   "id": "922d61d4d365554f"
  },
  {
   "cell_type": "code",
   "execution_count": null,
   "outputs": [],
   "source": [
    "lambdas = [0.00001, 0.0001, 0.001, 0.01, 0.1]\n",
    "gammas = [0.01, 0.05, 0.1, 0.5, 1]"
   ],
   "metadata": {
    "collapsed": false
   },
   "id": "af5e5db7987aacac"
  },
  {
   "cell_type": "code",
   "execution_count": null,
   "outputs": [],
   "source": [
    "paths = [\"THE-GOOD.pkl\", \"THE-BAD.pkl\", \"THE-UGLY.pkl\"]"
   ],
   "metadata": {
    "collapsed": false
   },
   "id": "c5c40f3361b88180"
  },
  {
   "cell_type": "code",
   "execution_count": null,
   "outputs": [],
   "source": [
    "for p in paths:\n",
    "    with open(p, 'rb') as f:\n",
    "        res = pickle.load(f)\n",
    "    plot(res, p.split('.')[0], gammas, lambdas)"
   ],
   "metadata": {
    "collapsed": false
   },
   "id": "93d0bc1ddd883088"
  },
  {
   "cell_type": "code",
   "execution_count": null,
   "outputs": [],
   "source": [],
   "metadata": {
    "collapsed": false
   },
   "id": "a99a47ee4a0e845e"
  },
  {
   "cell_type": "code",
   "execution_count": null,
   "outputs": [],
   "source": [],
   "metadata": {
    "collapsed": false
   },
   "id": "b1d82ad08e43d68a"
  }
 ],
 "metadata": {
  "kernelspec": {
   "display_name": "Python 3",
   "language": "python",
   "name": "python3"
  },
  "language_info": {
   "codemirror_mode": {
    "name": "ipython",
    "version": 2
   },
   "file_extension": ".py",
   "mimetype": "text/x-python",
   "name": "python",
   "nbconvert_exporter": "python",
   "pygments_lexer": "ipython2",
   "version": "2.7.6"
  }
 },
 "nbformat": 4,
 "nbformat_minor": 5
}
